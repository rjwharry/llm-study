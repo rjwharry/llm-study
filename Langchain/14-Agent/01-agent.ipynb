{
 "cells": [
  {
   "cell_type": "markdown",
   "metadata": {},
   "source": [
    "# Agent\n",
    "- Agent는 LLM과 여러 Tool을 조합하여 하나의 기능을 하는 애플리케이션을 쉽게 만들기 위한 프레임워크이다.\n",
    "- [오픈소스 모델로 Agent 만들기 ](https://youtu.be/04MM0PXv2Fk)"
   ]
  },
  {
   "cell_type": "code",
   "execution_count": 1,
   "metadata": {},
   "outputs": [],
   "source": [
    "# API 키를 환경변수로 관리하기 위한 설정 파일\n",
    "import os\n",
    "from dotenv import load_dotenv\n",
    "\n",
    "# API 키 정보 로드\n",
    "load_dotenv()\n",
    "os.environ[\"LANGCHAIN_PROJECT\"] = \"Agent Tutorial\"\n",
    "os.environ[\"LANGCHAIN_TRACING_V2\"] = \"true\""
   ]
  },
  {
   "cell_type": "markdown",
   "metadata": {},
   "source": [
    "## Tool\n",
    "- Tool을 정의하여 LLM 추론에 같이 활용하도록 만들어져있다\n",
    "- `Tavily Search`처럼 검색을 통해 최신 정보에 접근할 수 있게 하거나, python 코드를 실행하는 등의 다양한 Tool이 있다\n",
    "\n",
    "### Tavily Search\n",
    "- 검색을 통해 최신정보를 조회할 수 있는 Tool\n",
    "\n"
   ]
  },
  {
   "cell_type": "code",
   "execution_count": 2,
   "metadata": {},
   "outputs": [],
   "source": [
    "from langchain_community.tools.tavily_search import TavilySearchResults\n",
    "\n",
    "# TavilySearchResults 클래스의 인스턴스를 생성합니다\n",
    "# k=5은 검색 결과를 5개까지 가져오겠다는 의미입니다\n",
    "search = TavilySearchResults(k=5)"
   ]
  },
  {
   "cell_type": "code",
   "execution_count": 4,
   "metadata": {},
   "outputs": [
    {
     "data": {
      "text/plain": [
       "[{'url': 'https://promenade7.tistory.com/entry/멋진-카카오-아지트-판교역-카카오-프렌즈샵-방문-후기',\n",
       "  'content': \"ì¹´ì¹´ì˜¤\\xa0ìº�ë¦\\xadí„°ê°€\\xa0ì•„ë§ˆë�„\\xa0LEDë¡œ\\xa0ë³´ì�´ëŠ”\\xa0ì\\xa0„ê´‘íŒ�ì—�\\xa0ê³„ì†�\\xa0ë‚˜ì˜µë‹ˆë‹¤. ì�´ëŸ°\\xa0ê±°\\xa0ë§Œë“œëŠ”\\xa0ì§�ì›�ë�„\\xa0ì°¸\\xa0ì‰½ì§€\\xa0ì•Šê²\\xa0ë„¤ìš”~\\nê³³ê³³ì—�\\xa0ìžˆëŠ”\\xa0ì¹´ì¹´ì˜¤\\xa0ìº�ë¦\\xadí„°ì™€\\xa0í•¨ê»˜\\xa0ì‚¬ì§„ë�„\\xa0ì°�ì�„\\xa0ìˆ˜\\xa0ìžˆìŠµë‹ˆë‹¤.\\nì˜¬ë�¼ê°€ë³´ì§€ëŠ”\\xa0ì•Šì•˜ì§€ë§Œ\\xa0ìƒ�ì¸µë¶€ë¡œë�„\\xa0ê³„ì†�\\xa0ì´ˆë¡�ìƒ‰ë“¤ì�´\\xa0ë³´ì�´ê³\\xa0 1ì¸µì—�ë�„\\xa0ì�´ë\\xa0‡ê²Œ\\xa0ë§ˆì¹˜\\xa0ì™¸ë¶€\\xa0ìž�ì—°ì�„\\xa0ì˜®ê²¨\\xa0ë†“ì�€\\xa0ë“¯í•œ\\xa0ì¡°ê²½ê³µê°„ì�´\\xa0ë§Žì•˜ìŠµë‹ˆë‹¤. ì‚\\xadë§‰í•\\xa0\\xa0ìˆ˜\\xa0ìžˆëŠ”\\xa0ë�„ì‹¬ì�˜\\xa0ì˜¤í”¼ìŠ¤\\xa0ë¹Œë”©\\xa0ë‚´ë¶€ì—�\\xa0ê·¸ëž˜ë�„\\xa0ìž�ì—°ì�„\\xa0ëŠ�ë‚„\\xa0ìˆ˜\\xa0ìžˆê²Œ\\xa0ìž˜\\xa0ë§Œë“¤ì–´ë†¨ë„¤ìš”.\\n ì˜¤í”¼ìŠ¤ ê±´ë¬¼ì�´ë�¼ ë‹¹ì—°ížˆ ëª»ì˜¬ë�¼ê°€ê²\\xa0ì£\\xa0.ì•ˆê·¸ëž˜ë�„ íšŒì‹�ë‚\\xa0ì�´ë‚˜ ì£¼ë³€ ì§€ë‚˜ê°€ë‹¤ ìž�ì£¼ íŒ�êµ� ì•„ì§€íŠ¸ ì˜†ì�„ ì§€ë‚˜ë‹¤ë‹ˆëŠ”ë�° ê±´ë¬¼\\xa01ì¸µì—�\\xa0ì¹´ì¹´ì˜¤í”„ë\\xa0Œì¦ˆìƒµì�´\\xa0ìžˆë‹¤ëŠ”ê²Œ\\xa0ìƒ�ê°�\\xa0ë‚¬ìŠµë‹ˆë‹¤. ì‹œê°„ì�´\\xa0ë§žì•„ì„œ\\xa0ì•„ì�´ë“¤ê³¼\\xa0í•¨ê»˜\\xa0ì£¼ë§�ì—�\\xa0ì‹¬ì§€ì–´\\xa0ì˜¤í”ˆëŸ°(?)ìœ¼ë¡œ\\xa0ê°€ë³´ê²Œ\\xa0ë�˜ì—ˆìŠµë‹ˆë‹¤. ë„“ì�€\\xa0ê³µê°„ì—�\\xa0ì•„ê¸°ìž�ê¸°í•œ\\xa0ì�¸í…Œë¦¬ì–´ê°€\\xa0ì�¸ìƒ�ì\\xa0�ì�´ê³\\xa0\\xa0ìž¬ë°Œê³\\xa0\\xa0ê·€ì—¬ìš´\\xa0ìƒ�í’ˆë“¤ì�´\\xa0ë§Žì•˜ìŠµë‹ˆë‹¤. ì¹´ì¹´ì˜¤í”„ë\\xa0Œì¦ˆìƒµ íŒ�êµ�ì•„ì§€íŠ¸ì\\xa0� í›„ê¸° ì�¨ë³´ê²\\xa0ìŠµë‹ˆë‹¤.\\n1_íŒ�êµ�ì—\\xad ì¹´ì¹´ì˜¤í”„ë\\xa0Œì¦ˆ íŒ�êµ�ì•„ì§€íŠ¸ì\\xa0� ìœ„ì¹˜, ì˜¤í”ˆì‹œê°„\\nì¹´ì¹´ì˜¤í”„ë\\xa0Œì¦ˆ íŒ�êµ�ì•„ì§€íŠ¸ì\\xa0�ì�€ íŒ�êµ�ì—\\xad 4ë²ˆì¶œêµ¬ Œì¦ˆ ê°“ìƒ� ë‹¤ì�´ì–´ë¦¬ ì‚´íŽ´ë³´ê¸°\\nì˜¤ëŠ˜ë¶€í„° ê°“ìƒ�! ì§€ë‚œë²ˆì—� ì˜¬ë\\xa0¸ë�˜ ë‹¤ì�´ì–´ë¦¬ ì„¸íŠ¸ê°€ ì§„ì—´ë�˜ì–´ ìžˆì—ˆì–´ìš”.ì\\xa0œ\\xa0ë‹¤ì�´ì–´ë¦¬\\xa0ì„¸íŠ¸ëŠ”\\xa0ì—†ëŠ”ë�°\\xa0ë‹¤ë¥¸\\xa0ë¯¼íŠ¸ìƒ‰\\xa0ë‹¤ì�´ì–´ë¦¬\\xa0ì„¸íŠ¸ëŠ”\\xa0ìžˆì—ˆì–´ìš”.ê°™ì�´ ì§„ì—´ë�˜ì–´ ìžˆëŠ” ë‹¬ë\\xa0¥ì�€ ì•„ë§ˆë�„ ì\\xa0œê°€ ë°›ì�€ê±°ì™€ ê°™ì•„ë³´ìž…ë‹ˆë‹¤.\\nêµ°ë�°êµ°ë�°\\xa0ìš”\\xa0ë¯¼íŠ¸ìƒ‰\\xa0ìœ„í�´ë¦¬\\xa0ë‹¤ì�´ì–´ë¦¬ì„¸íŠ¸ê°€\\xa0ì§„ì—´ë�˜ì–´\\xa0ìžˆì—ˆê³\\xa0 ì‹¤ë¬¼ë¡œ íŽ´ë³¼ ìˆ˜ ìžˆëŠ” ê³³ì�€ ì¶˜ì‹�'s ë£¸ì—� ìžˆì—ˆìŠµë‹ˆë‹¤.\\nì\\xa0œê°€ ë°›ì•˜ë�˜ ë‹¬ë\\xa0¥ì�´ ìžˆê³\\xa0 ìŠ¤í”„ë§� ë‹¤ì�´ì–´ë¦¬ë�„ ì§„ì—´ë�˜ì–´ ìžˆì—ˆì–´ìš”.\\n ì¦�ê¸°ë©° ê²½í—˜í•˜ê³\\xa0 ê¸°ë¡�í•˜ëŠ” ë¸”ë¡œê·¸\\në©‹ì§„ ì¹´ì¹´ì˜¤ ì•„ì§€íŠ¸ íŒ�êµ�ì—\\xad ì¹´ì¹´ì˜¤ í”„ë\\xa0Œì¦ˆìƒµ ë°©ë¬¸ í›„ê¸°\\në©‹ì§„ ì¹´ì¹´ì˜¤ ì•„ì§€íŠ¸ íŒ�êµ�ì—\\xad ì¹´ì¹´ì˜¤ í”„ë\\xa0Œì¦ˆìƒµ ë°©ë¬¸ í›„ê¸°\\nì�´ë²ˆ\\xa0í�¬ìŠ¤íŒ…ì�€\\xa0íŒ�êµ�ì—\\xadì—�\\xa0ìžˆëŠ”\\xa0ì¹´ì¹´ì˜¤í”„ë\\xa0Œì¦ˆìƒµ\\xa0íŒ�êµ�ì•„ì§€íŠ¸ì\\xa0�\\xa0ë°©ë¬¸\\xa0í›„ê¸°ìž…ë‹ˆë‹¤. ì–¼ë§ˆì\\xa0„ì—�\\xa0í�¬ìŠ¤íŒ…í•œ\\xa0ë‚´ìš©ìœ¼ë¡œ\\xa0ì—°ë§�ì—�\\xa0í‹°ìŠ¤í†\\xa0ë¦¬ì�˜\\xa0ëŒ“ê¸€\\xa0ì�´ë²¤íŠ¸ì—�\\xa0ì°¸ì—¬í•´ì„œ ì¹´ì¹´ì˜¤\\xa0í”„ë\\xa0Œì¦ˆ\\xa0ë¸”ëž™\\xa0ë‹¤ì�´ì–´ë¦¬\\xa0ì„¸íŠ¸ë¥¼\\xa0ë°›ì•˜ì—ˆì–´ìš”. ì�´ ë¸Œë¦\\xadë“¤ ë‹¤ë“¤ ì�´ì�˜ê³\\xa0 ìž¬ë°Œì–´ ë³´ì—¬ì„œ ì\\xa0€ë�„ ì§‘ì—� ê°€ì\\xa0¸ë‹¤ ë†“ê³\\xa0 ì‹¶ì—ˆì–´ìš”.ã…\\në§Œë“¤ì–´ì\\xa0¸ ìžˆëŠ” ëª¨ìŠµì—�ëŠ” ì—†ì§€ë§Œ ìŠ¤í•‘í�¬ìŠ¤ í”¼ë�¼ë¯¸ë“œ ì\\xa0œí’ˆë�„ ìžˆì—ˆìŠµë‹ˆë‹¤.\\në‹¤ì�Œ ì½”ë„ˆë¡œ ë„˜ì–´ì˜¤ëŠ”ë�° ì�¸í˜•, ìš°ì‚°, ì\\xa0„ìž�ê¸°ê¸° ë“± ë§Žì�€ ì\\xa0œí’ˆë“¤ì�´ ìžˆì—ˆìŠµë‹ˆë‹¤.\\nì�¸í˜•ì\\xa0œí’ˆë�„ ë§Žì�€ë�°..ì\\xa0„ìž�ì\\xa0œí’ˆë¥˜ë�„ ë§Žì�´ ìžˆìŠµë‹ˆë‹¤.\\nìº�ë¦\\xadí„° ì�´ë¦„ì�€ ëª¨ë¥´ì§€ë§Œ ê°™ì�´ ì‚¬ì§„ì�„ ì°�ì�„ ìˆ˜ ìžˆê²Œ í�¬í†\\xa0ì¡´ë�„ ìžˆì—ˆì–´ìš”.\\n\"},\n",
       " {'url': 'https://blog.naver.com/PostView.naver?blogId=0_0hy&logNo=222982732699',\n",
       "  'content': '새해 목표 예쁜 쓰레기 구매하지 않기 잘 실천중\\n춘식이가 쓰레기라는건 아니지만^__ㅠ\\n\\u200b\\n바라만봐도 행복해진다\\n\\u200b\\n애견용품까지 춘식이 버전ㅋㅋㅋㅋㅋㅋㅋㅋ\\n\\u200b\\n♥ ♥ ♥\\n\\u200b\\n\\u200b\\n\\u200b\\n\\u200b\\n2m 대왕 춘식이랑 ~~♥\\n\\u200b\\n진짜 사려다가 참았다 .\\n \\u200b\\n\\u200b\\n춘식이 랜덤 피규어 ♥\\n카카오프렌즈 최애 캐릭터가 춘식이라 보자마자 구매해야 겠다고 생각했다\\n\\u200b\\n\\u200b\\n젤 갖고싶었던 만년달력.. 가격은 사악 그잡채\\n\\u200b\\n춘식이 x 최고심 콜라보 *__*\\n\\u200b\\n\\u200b\\n두번째로 좋아하는 죠르디\\n앉은모습 졸귀야 ..\\n 갖고 싶단 말이지\\n\\u200b\\n\\u200b\\n에어팟 꽂은 라이언ㅋㅋㅋㅋㅋㅋㅋㅋㅋㅋㅋㅋㅋ\\n\\u200b\\n\\u200b\\n춘식러버는 춘식이 천국이라 행복\\n\\u200b\\n\\u200b\\n\\u200b\\n랜드마크 브릭피규어\\n우리나라 랜드마크도 출시 예정이라고 하던데 언제 나오는지..?\\n \\u200b\\n\\u200b\\n\\u200b\\n\\u200b\\n카카오프렌즈 판교아지트점\\n경기 성남시 분당구 판교역로 166 카카오판교아지트 1층 카카오프렌즈\\n평일 10:00 - 21:00, 토일 12:00 - 20:00\\n031-601-7225\\n판교 카카오 본사 건물 1층에 있음 !\\n \\u200b\\n\\u200b\\n\\u200b\\n\\u200b\\n\\u200b\\n\\u200b\\n\\u200b\\n앙꼬 / 루피 / 무직타이거 까지 !!\\n'},\n",
       " {'url': 'https://blog.naver.com/PostView.naver?blogId=amour1115&logNo=223386213560',\n",
       "  'content': '카카오 프렌즈 판교 아지트점. . 연중무휴 12:00-21:00. 토, 일 12:00-20:00. . 경기 성남시 분당구 판교역로 166. 카카오 판교 아지트 1층 카카오 프렌즈. 031-301-7225. 존재하지 않는 이미지입니다.'},\n",
       " {'url': 'https://m.blog.naver.com/ifnotnow_thenwhen/223203793513',\n",
       "  'content': '경기도 성남시 분당구 판교역로 166. 층을 걸쳐 번쩍번쩍 전광판에.. 나 이런데 다닌다.. 하면 간지나겠더라고용 ㅎㅎ. 건물 1층 일반인들이 그래도 자유롭게 다닐 수 있을만한 곳들을 살짝 구경하고. 춘식이가 안내하고 있는 방향으로 카카오프렌즈샵을 ...'},\n",
       " {'url': 'https://sshong.kr/1641',\n",
       "  'content': '카카오본사가 있는 판교역의 판교아지트 건물 1층에 카카오프렌즈샵이 오픈했다. 크루 대상으로 20% 할인이 가능하다. 크루가 할인받을 수 있는 오프라인매장이 큰게 별로 없었던 것 같은데.. 여긴 본사 건물 내에 있는 매장이라 그런지 꽤 크게 잘 만들어놨다 ...'}]"
      ]
     },
     "execution_count": 4,
     "metadata": {},
     "output_type": "execute_result"
    }
   ],
   "source": [
    "search.invoke(\"판교 카카오 프렌즈샵 아지트점의 전화번호는 무엇인가요?\")"
   ]
  },
  {
   "cell_type": "code",
   "execution_count": 3,
   "metadata": {},
   "outputs": [],
   "source": [
    "from langchain.text_splitter import RecursiveCharacterTextSplitter\n",
    "from langchain_community.vectorstores import FAISS\n",
    "from langchain_community.embeddings import OllamaEmbeddings\n",
    "from langchain.document_loaders import PyPDFLoader\n",
    "\n",
    "# PDF 파일 로드. 파일의 경로 입력\n",
    "loader = PyPDFLoader(\"data/SPRI_AI_Brief_2023년12월호_F.pdf\")\n",
    "\n",
    "# 텍스트 분할기를 사용하여 문서를 분할합니다.\n",
    "text_splitter = RecursiveCharacterTextSplitter(chunk_size=1000, chunk_overlap=100)\n",
    "\n",
    "# 문서를 로드하고 분할합니다.\n",
    "split_docs = loader.load_and_split(text_splitter)\n",
    "\n",
    "embeddings = OllamaEmbeddings(model=\"llama3\")\n",
    "\n",
    "# VectorStore를 생성합니다.\n",
    "vector = FAISS.from_documents(split_docs, embedding=embeddings)\n",
    "\n",
    "# Retriever를 생성합니다.\n",
    "retriever = vector.as_retriever()"
   ]
  },
  {
   "cell_type": "markdown",
   "metadata": {},
   "source": [
    "- Tool의 description이 상당히 중요하다\n",
    "- description에 따라 agent가 도구를 사용할 수도 있고 안할 수도 있다"
   ]
  },
  {
   "cell_type": "code",
   "execution_count": 4,
   "metadata": {},
   "outputs": [
    {
     "name": "stdout",
     "output_type": "stream",
     "text": [
      "page_content='SPRi AI Brief |  \\n2023-12 월호\\n2G7, 히로시마 AI 프로세스를 통해 AI 기업 대상 국제 행동강령에 합의\\nnG7이 첨단 AI 시스템을 개발하는 기업을 대상으로 AI 위험 식별과 완화를 위해 자발적인 \\n채택을 권고하는 AI 국제 행동강령을 마련\\nn행동강령은 AI 수명주기 전반에 걸친 위험 평가와 완화, 투명성과 책임성의 보장, 정보공유와 \\n이해관계자 간 협력, 보안 통제, 콘텐츠 인증과 출처 확인 등의 조치를 요구KEY Contents\\n£G7, 첨단 AI 시스템의 위험 관리를 위한 국제 행동강령 마련\\nn주요 7개국(G7)* 은 2023 년 10월 30일 ‘히로시마 AI 프로세스 ’를 통해 AI 기업 대상의 AI 국제 \\n행동강령 (International Code of Conduct for Advanced AI Systems) 에 합의\\n∙G7은 2023 년 5월 일본 히로시마에서 개최된 정상회의에서 생성 AI에 관한 국제규범 마련과 \\n정보공유를 위해 ‘히로시마 AI 프로세스 ’를 출범**\\n∙기업의 자발적 채택을 위해 마련된 이번 행동강령은 기반모델과 생성 AI를 포함한 첨단 AI 시스템의 \\n위험 식별과 완화에 필요한 조치를 포함\\n* 주요 7개국(G7)은 미국, 일본, 독일, 영국, 프랑스 , 이탈리아 , 캐나다를 의미\\n** 5월 정상회의에는 한국, 호주, 베트남 등을 포함한 8개국이 초청을 받았으나 , AI 국제 행동강령에는 우선 G7 국가만 포함하여 채택\\nnG7은 행동강령을 통해 아래의 조치를 제시했으며 , 빠르게 발전하는 기술에 대응할 수 있도록 \\n이해관계자 협의를 통해 필요에 따라 개정할 예정\\n∙첨단 AI 시스템의 개발 과정에서 AI 수명주기 전반에 걸쳐 위험을 평가 및 완화하는 조치를 채택하고 , \\n첨단 AI 시스템의 출시와 배포 이후 취약점과 오용 사고, 오용 유형을 파악해 완화\\n∙첨단 AI 시스템의 성능과 한계를 공개하고 적절하거나 부적절한 사용영역을 알리는 방법으로 투명성을 \\n보장하고 책임성을 강화' metadata={'source': 'data/SPRI_AI_Brief_2023년12월호_F.pdf', 'page': 4}\n"
     ]
    },
    {
     "name": "stderr",
     "output_type": "stream",
     "text": [
      "/home/dudaji/anaconda3/envs/llm-study/lib/python3.11/site-packages/langchain_core/_api/deprecation.py:139: LangChainDeprecationWarning: The method `BaseRetriever.get_relevant_documents` was deprecated in langchain-core 0.1.46 and will be removed in 0.3.0. Use invoke instead.\n",
      "  warn_deprecated(\n"
     ]
    }
   ],
   "source": [
    "# PDf 문서에서 Query 에 대한 관련성 높은 Chunk 를 가져옵니다.\n",
    "print(retriever.get_relevant_documents(\n",
    "    \"YouTube의 2024년부터 AI 생성콘텐츠 표시 의무화에 대한 내용을 알려줘\"\n",
    ")[0])"
   ]
  },
  {
   "cell_type": "markdown",
   "metadata": {},
   "source": [
    "`create_retriever_tool`은 데이터를 검색하는 도구를 생성할 때 사용"
   ]
  },
  {
   "cell_type": "code",
   "execution_count": 5,
   "metadata": {},
   "outputs": [],
   "source": [
    "from langchain.tools.retriever import create_retriever_tool\n",
    "retriever_tool = create_retriever_tool(\n",
    "    retriever,\n",
    "    name=\"pdf_search\",\n",
    "    description=\"2023년 12월 AI 관련 정보를 PDF 문서에서 검색합니다. '2023년 12월 AI 산업동향' 과 관련된 질문은 이 도구를 사용해야 합니다!\",\n",
    ")"
   ]
  },
  {
   "cell_type": "markdown",
   "metadata": {},
   "source": [
    "- Agent가 사용할 tool 리스트 정의\n",
    "- 이번 예제에서는 검색 Tool인 Tavily Search와 위에서 정의한 PDF 검색 Tool인 retriever_tool을 사용한다"
   ]
  },
  {
   "cell_type": "code",
   "execution_count": 6,
   "metadata": {},
   "outputs": [],
   "source": [
    "tools = [search, retriever_tool]"
   ]
  },
  {
   "cell_type": "code",
   "execution_count": 12,
   "metadata": {},
   "outputs": [],
   "source": [
    "from langchain_openai import ChatOpenAI\n",
    "# from langchain_community.chat_models import ChatOllama\n",
    "# model = ChatOllama(model=\"llama3\")\n",
    "model = ChatOpenAI(\n",
    "    base_url = \"http://sionic.chat:8001/v1\",\n",
    "    api_key = \"934c4bbc-c384-4bea-af82-1450d7f8128d\",\n",
    "    model = \"xionic-ko-llama-3-70b\",\n",
    ")"
   ]
  },
  {
   "cell_type": "code",
   "execution_count": 8,
   "metadata": {},
   "outputs": [
    {
     "data": {
      "text/plain": [
       "[SystemMessagePromptTemplate(prompt=PromptTemplate(input_variables=[], template='Assistant is a large language model trained by OpenAI.\\nAssistant is designed to be able to assist with a wide range of tasks, from answering simple questions to providing in-depth explanations and discussions on a wide range of topics. As a language model, Assistant is able to generate human-like text based on the input it receives, allowing it to engage in natural-sounding conversations and provide responses that are coherent and relevant to the topic at hand.\\nAssistant is constantly learning and improving, and its capabilities are constantly evolving. It is able to process and understand large amounts of text, and can use this knowledge to provide accurate and informative responses to a wide range of questions. Additionally, Assistant is able to generate its own text based on the input it receives, allowing it to engage in discussions and provide explanations and descriptions on a wide range of topics.\\nOverall, Assistant is a powerful system that can help with a wide range of tasks and provide valuable insights and information on a wide range of topics. Whether you need help with a specific question or just want to have a conversation about a particular topic, Assistant is here to assist.')),\n",
       " MessagesPlaceholder(variable_name='chat_history', optional=True),\n",
       " HumanMessagePromptTemplate(prompt=PromptTemplate(input_variables=['input', 'tool_names', 'tools'], template='TOOLS\\n------\\nAssistant can ask the user to use tools to look up information that may be helpful in answering the users original question. The tools the human can use are:\\n\\n{tools}\\n\\nRESPONSE FORMAT INSTRUCTIONS\\n----------------------------\\n\\nWhen responding to me, please output a response in one of two formats:\\n\\n**Option 1:**\\nUse this if you want the human to use a tool.\\nMarkdown code snippet formatted in the following schema:\\n\\n```json\\n{{\\n    \"action\": string, \\\\ The action to take. Must be one of {tool_names}\\n    \"action_input\": string \\\\ The input to the action\\n}}\\n```\\n\\n**Option #2:**\\nUse this if you want to respond directly to the human. Markdown code snippet formatted in the following schema:\\n\\n```json\\n{{\\n    \"action\": \"Final Answer\",\\n    \"action_input\": string \\\\ You should put what you want to return to use here. You must write the response in Korean.\\n}}\\n```\\n\\nUSER\\'S INPUT\\n--------------------\\nHere is the user\\'s input (remember to respond with a markdown code snippet of a json blob with a single action, and NOTHING else):\\n\\nUse search tools to answer the following question in Korean:\\n{input}')),\n",
       " SystemMessagePromptTemplate(prompt=PromptTemplate(input_variables=['agent_scratchpad'], template='Write in Korean:\\n{agent_scratchpad}'))]"
      ]
     },
     "execution_count": 8,
     "metadata": {},
     "output_type": "execute_result"
    }
   ],
   "source": [
    "from langchain import hub\n",
    "\n",
    "# hub에서 prompt를 가져옵니다 - 이 부분을 수정할 수 있습니다!\n",
    "prompt = hub.pull(\"teddynote/react-chat-json-korean\")\n",
    "\n",
    "# prompt 의 messages를 출력합니다.\n",
    "prompt.messages"
   ]
  },
  {
   "cell_type": "markdown",
   "metadata": {},
   "source": [
    "- 아래에서 생성한 Agent 인스턴스는 어떻게 Action을 취할 지 정의할 뿐 실제로 실행시키는 역할이 아니다\n",
    "- OpenAI 모델이 아니면 되도록 `create_json_chat_agent`를 사용해서 agent를 정의해야 한다.\n",
    "### [create_json_chat_agent](https://api.python.langchain.com/en/latest/agents/langchain.agents.json_chat.base.create_json_chat_agent.html)\n",
    "- `create_json_chat_agent`는 prompt의 input_variables에 반드시 `tools`, `tools_name`, `agent_scratchpad`를 포함해야 한다\n",
    "    1. `tools`: agent가 사용할 도구의 description과 arguments들이 들어간다\n",
    "    1. `tools_name`: 사용할 모든 도구의 이름을 포함한다\n",
    "    1. `agent_scratchpad`: 반드시 `MessagePlaceholder`이어야 하며, 이전 단계의 agent action과 tool output 메세지가 들어간다\n",
    "#### [JSONAgentOutputParser](https://api.python.langchain.com/en/latest/agents/langchain.agents.output_parsers.json.JSONAgentOutputParser.html)\n",
    "- `create_json_chat_agent` 내부적으로 `JSONAgentOutputParser`을 사용하고 있으며, 언어 모델 출력의 도구 호출과 최종 답변을 JSON 형식으로 구문 분석하도록 설계되었다\n",
    "- 아래 2가지 형식의 output을 파싱한다\n",
    "    1. 도구 호출, 이 형식을 파싱하여 `AgentAction` 객체를 도출한다\n",
    "        ```json\n",
    "        {\n",
    "            \"action\": \"tavily_search_results_json\", // tool name\n",
    "            \"action_input\": \"2024년 아시안컵 대한민국의 축구 경기 결과\" // input of tool\n",
    "        }\n",
    "        ``` \n",
    "        ```json\n",
    "        {\n",
    "            \"output\": {\n",
    "                \"tool\": \"tavily_search_results_json\",\n",
    "                \"tool_input\": \"2024년 아시안컵 대한민국의 축구 경기 결과\",\n",
    "                \"log\": \"```\\n{\\n    \\\"action\\\": \\\"tavily_search_results_json\\\",\\n    \\\"action_input\\\": \\\"2024년 아시안컵 대한민국의 축구 경기 결과\\\"\\n}\\n```\",\n",
    "                \"type\": \"AgentAction\"\n",
    "            }\n",
    "        }\n",
    "        ```\n",
    "    1. 최종 답변, 이 형식을 파싱하여 `AgentFinish` 객체를 도출한다\n",
    "        ```json\n",
    "        {\n",
    "            \"action\": \"Final Answer\",\n",
    "            \"action_input\": \"2024년 아시안컵 대한민국의 축구 경기 결과는 아직 확정되지 않았습니다. 현재까지의 경기 결과는 요르단에 0대2 충격패를 당했으며, 4강 결과는 아직 알려지지 않았습니다.\"\n",
    "        }\n",
    "        ```\n",
    "        ```json\n",
    "        {\n",
    "            \"output\": {\n",
    "                \"return_values\": {\n",
    "                \"output\": \"2024년 아시안컵 대한민국의 축구 경기 결과는 아직 확정되지 않았습니다. 현재까지의 경기 결과는 요르단에 0대2 충격패를 당했으며, 4강 결과는 아직 알려지지 않았습니다.\"\n",
    "                },\n",
    "                \"log\": \"```\\n{\\n    \\\"action\\\": \\\"Final Answer\\\",\\n    \\\"action_input\\\": \\\"2024년 아시안컵 대한민국의 축구 경기 결과는 아직 확정되지 않았습니다. 현재까지의 경기 결과는 요르단에 0대2 충격패를 당했으며, 4강 결과는 아직 알려지지 않았습니다.\\\"\\n}\\n```\",\n",
    "                \"type\": \"AgentFinish\"\n",
    "            }\n",
    "        }\n",
    "        ```"
   ]
  },
  {
   "cell_type": "code",
   "execution_count": 13,
   "metadata": {},
   "outputs": [],
   "source": [
    "from langchain.agents import create_json_chat_agent\n",
    "agent = create_json_chat_agent(llm=model, tools=tools, prompt=prompt)"
   ]
  },
  {
   "cell_type": "markdown",
   "metadata": {},
   "source": [
    "`AgentExecutor`는 Action을 정의한 Agent와 Tool을 활용하여 주어진 작업을 실행한다"
   ]
  },
  {
   "cell_type": "code",
   "execution_count": 14,
   "metadata": {},
   "outputs": [],
   "source": [
    "from langchain.agents import AgentExecutor\n",
    "agent_executor = AgentExecutor(agent=agent, tools=tools, verbose=True)"
   ]
  },
  {
   "cell_type": "code",
   "execution_count": 15,
   "metadata": {},
   "outputs": [
    {
     "name": "stdout",
     "output_type": "stream",
     "text": [
      "\n",
      "\n",
      "\u001b[1m> Entering new AgentExecutor chain...\u001b[0m\n",
      "\u001b[32;1m\u001b[1;3m```\n",
      "{\n",
      "    \"action\": \"tavily_search_results_json\",\n",
      "    \"action_input\": \"2024년 아시안컵 대한민국의 축구 경기 결과\"\n",
      "}\n",
      "```\u001b[0m\u001b[36;1m\u001b[1;3m[{'url': 'https://olympics.com/ko/news/2024-afc-u23-asian-cup-full-schedule-all-results-scores-and-standings-complete-list', 'content': '촬영 2021 Getty Images. 축구. 2024 아시아축구연맹 (AFC) U23 아시안컵에서는 남자 올림픽 축구 출전권 3장이 주어집니다. 4위 팀은 2024 파리 올림픽 대회 의 출전권을 놓고 U23 아프리카 예선 4위 팀인 기니를 상대로 플레이오프를 치르게 됩니다. 아시안컵 대회는 5월 3 ...'}, {'url': 'https://in.naver.com/itkwon/contents/internal/659218558880800', 'content': '2024 카타르 아시안컵 축구 4강 결과 대한민국 요르단에 0대2 충격패 결승좌절 남은경기와 결승전 일정. 2024. 2. 7. 3:07. 정말 아쉽게도 한국 축구팀의 4강 결과는 속도와 체력 기세 개인기 등 모든 요소에서 요르단에 부족했던 경기 였습니다. 역대 최강의 전력을 ...'}, {'url': 'https://www.heykakao.kr/2024/01/afc.html', 'content': '■ AFC 카타르 아시안컵 대한민국팀 엔트리\\nFW\\xa0 : 손흥민, 조규성\\nMF : 정우영, 이강인, 이재성, 박용우, 홍현석, 황인범, 문선민, 황희찬, 양현준, 이순민, 박진섭, 오현규, 홍현석, 정우영\\nDF : 박진섭, 정승현, 김민재, 김영권, 이기제, 설영우, 김태환, 김주성, 김진수, 정승현\\nGK : 김승규, 조현우, 송범근\\n댓글\\n이 블로그의 인기 게시물\\nKT 지니tv 채널번호 알아보기\\nsk브로드밴드 Btv 채널번호 알아보기\\n6009번 공항리무진버스 시간표,노선도(대치동~인천공항)\\n번역\\n이 블로그 검색 ● 01.20(토요일) 20:30\\n대한민국 2 vs 2 요르단\\n● 01.25(목요일) 20:30\\n대한민국 3 vs 3 말레이시아\\n대한민국 - 정우영(21분), 이강인(83분), 손흥민(94분)\\n말레이시아 - 할림(51분), 아이만(62분), 모랄레스(90+15분)\\n우리나라가 조별리그를 1위로 통과하게되면 일본이 속해있는 D조 2위와 맞붙게되는데요.\\n ● 16강전 - 01.31(수요일) 01:00\\n사우디아라비아 1 vs 1 대한민국\\n대한민국 골 - 조규성(90+9분)\\n사우디아라비아 골 - 하지 라디프(46분)\\nafc 아시안컵 16강전에서는 막판 추가시간에 조규성의 헤딩골로 극적인 무승부를 만든후 연장전으로들어갔으며 연장에서도 승부를 내지못해서 승부차기에 돌입해서 조현우의 눈부신선방으로 결국 사우디를 잡으면서 8강진출을 이루어냈습니다.\\n ■\\xa0 AFC 카타르 아시안컵 대한민국팀 경기일정 및 결과\\n● 2024.01.15(월)\\n대한민국 3 vs 1 바레인\\n아시안컵 첫경기인 바레인과의 경기에 경기초반 고전을 했지만 전반 막바지에 황인범선수의 선제골을 터트린후 후반전부터 본격적인 한국팀의 플레이가 살아났습니다.\\n 이 블로그 검색\\n헤이블로그\\nAFC 카타르 아시안컵 한국팀 경기일정 및 결과\\n안녕하세요 오늘은 2024년1월13일부터 2월11일까지 펼쳐지는 AFC 카타르 아시안컵 축구의 대한민국팀의 경기일정과 조별리그,토너먼트 경기결과를 알아보도록 하겠습니다.\\n'}, {'url': 'https://blog.naver.com/PostView.nhn?blogId=misa7000&logNo=223334645000', 'content': '2024년 아시안컵 축구 대진표 및 조별리그 성적과 한국 16강, 8강, 준결승, 결승 대진표. ... 2024년 아시안컵 4강 준결승전과. 결승전 대진표. 2024년 아시안컵 결승. 대진표. 대한민국의 선전을 기원합니다. 저작자 명시 ...'}, {'url': 'https://blog.naver.com/PostView.nhn?blogId=yoworm&logNo=223346585806', 'content': '\\u200b\\n\\u200b\\n오늘의 축구 경기결과는\\n\\u200b\\n대한민국 0 : 2 요르단\\n\\u200b\\n믿겨지지 않죠?\\n충격적이죠?\\n \\u200b\\n알타마리 선수의 추가골입니다!\\n\\u200b\\n경기 스코어는\\n대한민국 0:2 요르단\\n\\u200b\\n아...후반전에 2골을 실점하면서\\n무너지는 대한민국의 수비진!!!!\\n 뒤를 서포트 해주는 황희찬, 이재성, 이강인,\\n중간에서 공수전환을 이어줄 박용우, 황인범,\\n\\u200b\\n그리고 후방 수비는 포백으로\\n김영권, 정승현, 설영우, 김태환!\\n\\u200b\\n골대를 지키는 최후의 수문장으로\\n조현우 선수가 포지션을 맡게 되었습니다.\\n 출처: JTBC 지금 이 뉴스, 20240108 손웅정 님의 인터뷰\\n손흥민 아버지이신\\n[손웅정] 선생님께서는\\n이번에 아시안컵 우승하면 안된다고,\\n그러면 지금 당장은 우승해서 좋아하겠지만\\n앞으로 한국 축구에 오히려 독이 될거라고 하셨는데...\\n\\u200b\\n그래도 저는 우승이 탐나더라고요.\\n 심지어\\n주장인 손흥민 선수가\\n필드 위에서 선수이자 감독으로 활약하는 건\\n클린스만 감독의 전술 부재가 큰 몫을 했다고,\\n\\u200b\\n그래서 손흥민 선수의 가치가 더 돋보이게 되었다고,\\n이강인, 황희찬, 김민재 등 필드 위의 선수들이\\n자발적으로 전술을 만들어가는 팀이라고 소개합니다.\\n'}]\u001b[0m\u001b[32;1m\u001b[1;3m```\n",
      "{\n",
      "    \"action\": \"Final Answer\",\n",
      "    \"action_input\": \"2024년 아시안컵 대한민국의 축구 경기 결과는 아직 확정되지 않았습니다. 현재까지의 경기 결과는 요르단에 0대2 충격패를 당했으며, 4강 결과는 아직 알려지지 않았습니다.\"\n",
      "}\n",
      "```\u001b[0m\n",
      "\n",
      "\u001b[1m> Finished chain.\u001b[0m\n",
      "답변: 2024년 아시안컵 대한민국의 축구 경기 결과는 아직 확정되지 않았습니다. 현재까지의 경기 결과는 요르단에 0대2 충격패를 당했으며, 4강 결과는 아직 알려지지 않았습니다.\n"
     ]
    }
   ],
   "source": [
    "response = agent_executor.invoke({\"input\": \"2024년 아시안컵 대한민국의 축구 경기 결과를 알려줘.\"})\n",
    "print(f'답변: {response[\"output\"]}')"
   ]
  },
  {
   "cell_type": "code",
   "execution_count": 16,
   "metadata": {},
   "outputs": [
    {
     "name": "stdout",
     "output_type": "stream",
     "text": [
      "\n",
      "\n",
      "\u001b[1m> Entering new AgentExecutor chain...\u001b[0m\n",
      "\u001b[32;1m\u001b[1;3m```\n",
      "{\n",
      "    \"action\": \"pdf_search\",\n",
      "    \"action_input\": \"YouTube 2024년부터 AI 생성콘텐츠 표시 의무화\"\n",
      "}\n",
      "```\u001b[0m\u001b[33;1m\u001b[1;3m2023 년 12월호\n",
      "\n",
      "SPRi AI Brief |  \n",
      "2023-12 월호\n",
      "2G7, 히로시마 AI 프로세스를 통해 AI 기업 대상 국제 행동강령에 합의\n",
      "nG7이 첨단 AI 시스템을 개발하는 기업을 대상으로 AI 위험 식별과 완화를 위해 자발적인 \n",
      "채택을 권고하는 AI 국제 행동강령을 마련\n",
      "n행동강령은 AI 수명주기 전반에 걸친 위험 평가와 완화, 투명성과 책임성의 보장, 정보공유와 \n",
      "이해관계자 간 협력, 보안 통제, 콘텐츠 인증과 출처 확인 등의 조치를 요구KEY Contents\n",
      "£G7, 첨단 AI 시스템의 위험 관리를 위한 국제 행동강령 마련\n",
      "n주요 7개국(G7)* 은 2023 년 10월 30일 ‘히로시마 AI 프로세스 ’를 통해 AI 기업 대상의 AI 국제 \n",
      "행동강령 (International Code of Conduct for Advanced AI Systems) 에 합의\n",
      "∙G7은 2023 년 5월 일본 히로시마에서 개최된 정상회의에서 생성 AI에 관한 국제규범 마련과 \n",
      "정보공유를 위해 ‘히로시마 AI 프로세스 ’를 출범**\n",
      "∙기업의 자발적 채택을 위해 마련된 이번 행동강령은 기반모델과 생성 AI를 포함한 첨단 AI 시스템의 \n",
      "위험 식별과 완화에 필요한 조치를 포함\n",
      "* 주요 7개국(G7)은 미국, 일본, 독일, 영국, 프랑스 , 이탈리아 , 캐나다를 의미\n",
      "** 5월 정상회의에는 한국, 호주, 베트남 등을 포함한 8개국이 초청을 받았으나 , AI 국제 행동강령에는 우선 G7 국가만 포함하여 채택\n",
      "nG7은 행동강령을 통해 아래의 조치를 제시했으며 , 빠르게 발전하는 기술에 대응할 수 있도록 \n",
      "이해관계자 협의를 통해 필요에 따라 개정할 예정\n",
      "∙첨단 AI 시스템의 개발 과정에서 AI 수명주기 전반에 걸쳐 위험을 평가 및 완화하는 조치를 채택하고 , \n",
      "첨단 AI 시스템의 출시와 배포 이후 취약점과 오용 사고, 오용 유형을 파악해 완화\n",
      "∙첨단 AI 시스템의 성능과 한계를 공개하고 적절하거나 부적절한 사용영역을 알리는 방법으로 투명성을 \n",
      "보장하고 책임성을 강화\n",
      "\n",
      "1. 정책/법제  2. 기업/산업 3. 기술/연구  4. 인력/교육\n",
      "미국, 안전하고 신뢰할 수 있는 AI 개발과 사용에 관한 행정명령 발표 \n",
      "n미국 바이든 대통령이 ‘안전하고 신뢰할 수 있는 AI 개발과 사용에 관한 행정명령 ’에 서명하고 \n",
      "광범위한 행정 조치를 명시\n",
      "n행정명령은 △AI의 안전과 보안 기준 마련 △개인정보보호 △형평성과 시민권 향상 △소비자 \n",
      "보호 △노동자 지원 △혁신과 경쟁 촉진 △국제협력을 골자로 함KEY Contents\n",
      "£바이든 대통령 , AI 행정명령 통해 안전하고 신뢰할 수 있는 AI 개발과 활용 추진\n",
      "n미국 바이든 대통령이 2023년 10월 30일 연방정부 차원에서 안전하고 신뢰할 수 있는 AI 개발과 \n",
      "사용을 보장하기 위한 행정명령을 발표\n",
      "∙행정명령은 △AI의 안전과 보안 기준 마련 △개인정보보호 △형평성과 시민권 향상 △소비자 보호 \n",
      "△노동자 지원 △혁신과 경쟁 촉진 △국제협력에 관한 내용을 포괄\n",
      "n(AI 안전과 보안 기준) 강력한 AI 시스템을 개발하는 기업에게 안전 테스트 결과와 시스템에 관한 \n",
      "주요 정보를 미국 정부와 공유할 것을 요구하고 , AI 시스템의 안전성과 신뢰성 확인을 위한 표준 및 \n",
      "AI 생성 콘텐츠 표시를 위한 표준과 모범사례 확립을 추진\n",
      "∙△1026 플롭스 (FLOPS, Floating Point Operation Per Second) 를 초과하는 컴퓨팅 성능 또는 생물학적 \n",
      "서열 데이터를 주로 사용하고 1023플롭스를 초과하는 컴퓨팅 성능을 사용하는 모델 △단일 데이터센터에서 \n",
      "1,000Gbit/s 이상의 네트워킹으로 연결되며 AI 훈련에서 이론상 최대 1020 플롭스를 처리할 수 있는 \n",
      "컴퓨팅 용량을 갖춘 컴퓨팅 클러스터가 정보공유 요구대상\n",
      "n(형평성과 시민권 향상) 법률, 주택, 보건 분야에서 AI의 무책임한 사용으로 인한 차별과 편견 및 기타 \n",
      "문제를 방지하는 조치를 확대\n",
      "∙형사사법 시스템에서 AI 사용 모범사례를 개발하고 , 주택 임대 시 AI 알고리즘 차별을 막기 위한 명확한\n",
      "\n",
      "Ⅰ. 인공지능 산업 동향 브리프\u001b[0m\u001b[32;1m\u001b[1;3m```\n",
      "{\n",
      "    \"action\": \"Final Answer\",\n",
      "    \"action_input\": \"YouTube는 2024년부터 AI 생성 콘텐츠 표시 의무화에 대한 내용을 발표했습니다. 특히 G7은 2023년 10월 30일 '히로시마 AI 프로세스'를 통해 AI 기업 대상의 AI 국제 행동강령에 합의했습니다. 이 행동강령은 AI 수명주기 전반에 걸친 위험 평가와 완화, 투명성과 책임성의 보장, 정보공유와 이해관계자 간 협력, 보안 통제, 콘텐츠 인증과 출처 확인 등을 요구합니다.\"\n",
      "}\n",
      "```\u001b[0m\n",
      "\n",
      "\u001b[1m> Finished chain.\u001b[0m\n",
      "답변: YouTube는 2024년부터 AI 생성 콘텐츠 표시 의무화에 대한 내용을 발표했습니다. 특히 G7은 2023년 10월 30일 '히로시마 AI 프로세스'를 통해 AI 기업 대상의 AI 국제 행동강령에 합의했습니다. 이 행동강령은 AI 수명주기 전반에 걸친 위험 평가와 완화, 투명성과 책임성의 보장, 정보공유와 이해관계자 간 협력, 보안 통제, 콘텐츠 인증과 출처 확인 등을 요구합니다.\n"
     ]
    }
   ],
   "source": [
    "# 'agent_executor' 객체의 'invoke' 메소드를 호출하여, 'langsmith'가 테스팅에 어떻게 도움을 줄 수 있는지에 대한 질문을 입력으로 제공합니다.\n",
    "response = agent_executor.invoke(\n",
    "    {\n",
    "        \"input\": \"YouTube 2024년부터 AI 생성콘텐츠 표시 의무화에 대한 내용을 PDF 문서에서 알려줘\"\n",
    "    }\n",
    ")\n",
    "print(f'답변: {response[\"output\"]}')"
   ]
  },
  {
   "cell_type": "code",
   "execution_count": null,
   "metadata": {},
   "outputs": [],
   "source": []
  }
 ],
 "metadata": {
  "kernelspec": {
   "display_name": "llm-study",
   "language": "python",
   "name": "python3"
  },
  "language_info": {
   "codemirror_mode": {
    "name": "ipython",
    "version": 3
   },
   "file_extension": ".py",
   "mimetype": "text/x-python",
   "name": "python",
   "nbconvert_exporter": "python",
   "pygments_lexer": "ipython3",
   "version": "3.1.-1"
  }
 },
 "nbformat": 4,
 "nbformat_minor": 2
}
