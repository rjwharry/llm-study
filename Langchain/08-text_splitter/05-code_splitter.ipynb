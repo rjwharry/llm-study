{
 "cells": [
  {
   "cell_type": "markdown",
   "metadata": {},
   "source": [
    "# CodeSplitter\n",
    "- 다양한 프로그래밍 언어로 작성된 코드를 분할할 때 사용"
   ]
  },
  {
   "cell_type": "code",
   "execution_count": 2,
   "metadata": {},
   "outputs": [
    {
     "data": {
      "text/plain": [
       "['cpp',\n",
       " 'go',\n",
       " 'java',\n",
       " 'kotlin',\n",
       " 'js',\n",
       " 'ts',\n",
       " 'php',\n",
       " 'proto',\n",
       " 'python',\n",
       " 'rst',\n",
       " 'ruby',\n",
       " 'rust',\n",
       " 'scala',\n",
       " 'swift',\n",
       " 'markdown',\n",
       " 'latex',\n",
       " 'html',\n",
       " 'sol',\n",
       " 'csharp',\n",
       " 'cobol',\n",
       " 'c',\n",
       " 'lua',\n",
       " 'perl',\n",
       " 'haskell']"
      ]
     },
     "execution_count": 2,
     "metadata": {},
     "output_type": "execute_result"
    }
   ],
   "source": [
    "from langchain_text_splitters import (\n",
    "    Language,\n",
    "    RecursiveCharacterTextSplitter,\n",
    ")\n",
    "# 지원하는 프로그래밍 언어 목록\n",
    "[e.value for e in Language]"
   ]
  },
  {
   "cell_type": "code",
   "execution_count": 14,
   "metadata": {},
   "outputs": [],
   "source": [
    "def pprint(docs):\n",
    "    for doc in docs:\n",
    "        print(doc.page_content, end=\"\\n==================\\n\")"
   ]
  },
  {
   "cell_type": "markdown",
   "metadata": {},
   "source": [
    "`get_separators_for_language` 함수를 통해 프로그래밍 언어마다의 기본적인 구분자를 확인"
   ]
  },
  {
   "cell_type": "code",
   "execution_count": 3,
   "metadata": {},
   "outputs": [
    {
     "data": {
      "text/plain": [
       "['\\nclass ', '\\ndef ', '\\n\\tdef ', '\\n\\n', '\\n', ' ', '']"
      ]
     },
     "execution_count": 3,
     "metadata": {},
     "output_type": "execute_result"
    }
   ],
   "source": [
    "RecursiveCharacterTextSplitter.get_separators_for_language(Language.PYTHON)"
   ]
  },
  {
   "cell_type": "code",
   "execution_count": 7,
   "metadata": {},
   "outputs": [],
   "source": [
    "PYTHON_CODE = \"\"\"\n",
    "def hello_world():\n",
    "    print(\"Hello, World!\")\n",
    "\n",
    "hello_world()\n",
    "\"\"\"\n",
    "\n",
    "python_splitter = RecursiveCharacterTextSplitter.from_language(\n",
    "    language=Language.PYTHON, chunk_size=50, chunk_overlap=0\n",
    ")"
   ]
  },
  {
   "cell_type": "code",
   "execution_count": 8,
   "metadata": {},
   "outputs": [
    {
     "data": {
      "text/plain": [
       "[Document(page_content='def hello_world():\\n    print(\"Hello, World!\")'),\n",
       " Document(page_content='hello_world()')]"
      ]
     },
     "execution_count": 8,
     "metadata": {},
     "output_type": "execute_result"
    }
   ],
   "source": [
    "python_docs = python_splitter.create_documents([PYTHON_CODE])\n",
    "python_docs"
   ]
  },
  {
   "cell_type": "code",
   "execution_count": 15,
   "metadata": {},
   "outputs": [
    {
     "name": "stdout",
     "output_type": "stream",
     "text": [
      "def hello_world():\n",
      "    print(\"Hello, World!\")\n",
      "==================\n",
      "hello_world()\n",
      "==================\n"
     ]
    }
   ],
   "source": [
    "pprint(python_docs)"
   ]
  },
  {
   "cell_type": "code",
   "execution_count": 16,
   "metadata": {},
   "outputs": [
    {
     "name": "stdout",
     "output_type": "stream",
     "text": [
      "function helloWorld() {\n",
      "  console.log(\"Hello, World!\");\n",
      "}\n",
      "==================\n",
      "helloWorld();\n",
      "==================\n"
     ]
    }
   ],
   "source": [
    "JS_CODE = \"\"\"\n",
    "function helloWorld() {\n",
    "  console.log(\"Hello, World!\");\n",
    "}\n",
    "\n",
    "helloWorld();\n",
    "\"\"\"\n",
    "\n",
    "js_splitter = RecursiveCharacterTextSplitter.from_language(\n",
    "    language=Language.JS, chunk_size=60, chunk_overlap=0\n",
    ")\n",
    "\n",
    "js_docs = js_splitter.create_documents([JS_CODE])\n",
    "pprint(js_docs)"
   ]
  },
  {
   "cell_type": "code",
   "execution_count": 17,
   "metadata": {},
   "outputs": [
    {
     "name": "stdout",
     "output_type": "stream",
     "text": [
      "function helloWorld(): void {\n",
      "==================\n",
      "console.log(\"Hello, World!\");\n",
      "}\n",
      "==================\n",
      "helloWorld();\n",
      "==================\n"
     ]
    }
   ],
   "source": [
    "TS_CODE = \"\"\"\n",
    "function helloWorld(): void {\n",
    "  console.log(\"Hello, World!\");\n",
    "}\n",
    "\n",
    "helloWorld();\n",
    "\"\"\"\n",
    "\n",
    "ts_splitter = RecursiveCharacterTextSplitter.from_language(\n",
    "    language=Language.TS, chunk_size=60, chunk_overlap=0\n",
    ")\n",
    "ts_docs = ts_splitter.create_documents([TS_CODE])\n",
    "pprint(ts_docs)"
   ]
  },
  {
   "cell_type": "code",
   "execution_count": 18,
   "metadata": {},
   "outputs": [],
   "source": [
    "markdown_text = \"\"\"\n",
    "# 🦜️🔗 LangChain\n",
    "\n",
    "⚡ LLM을 활용한 초스피드 애플리케이션 구축 ⚡\n",
    "\n",
    "## 빠른 설치\n",
    "\n",
    "```bash\n",
    "pip install langchain\n",
    "```\n",
    "\n",
    "# 빠르게 발전하는 분야의 오픈 소스 프로젝트 입니다. 많관부 🙏\n",
    "\"\"\""
   ]
  },
  {
   "cell_type": "code",
   "execution_count": 19,
   "metadata": {},
   "outputs": [
    {
     "name": "stdout",
     "output_type": "stream",
     "text": [
      "# 🦜️🔗 LangChain\n",
      "\n",
      "⚡ LLM을 활용한 초스피드 애플리케이션 구축 ⚡\n",
      "==================\n",
      "## 빠른 설치\n",
      "\n",
      "```bash\n",
      "pip install langchain\n",
      "```\n",
      "==================\n",
      "# 빠르게 발전하는 분야의 오픈 소스 프로젝트 입니다. 많관부 🙏\n",
      "==================\n"
     ]
    }
   ],
   "source": [
    "md_splitter = RecursiveCharacterTextSplitter.from_language(\n",
    "    # 마크다운 언어를 사용하여 텍스트 분할기 생성\n",
    "    language=Language.MARKDOWN,\n",
    "    # 청크 크기를 60으로 설정\n",
    "    chunk_size=60,\n",
    "    # 청크 간 중복되는 부분이 없도록 설정\n",
    "    chunk_overlap=0,\n",
    ")\n",
    "# 마크다운 텍스트를 분할하여 문서 생성\n",
    "md_docs = md_splitter.create_documents([markdown_text])\n",
    "# 생성된 문서 출력\n",
    "pprint(md_docs)"
   ]
  },
  {
   "cell_type": "code",
   "execution_count": 20,
   "metadata": {},
   "outputs": [],
   "source": [
    "latex_text = \"\"\"\n",
    "\\documentclass{article}\n",
    "\n",
    "\\begin{document}\n",
    "\n",
    "\\maketitle\n",
    "\n",
    "\\section{Introduction}\n",
    "% LLM은 방대한 양의 텍스트 데이터로 학습하여 사람과 유사한 언어를 생성할 수 있는 기계 학습 모델의 한 유형입니다.\n",
    "% 최근 몇 년 동안 LLM은 언어 번역, 텍스트 생성, 감성 분석 등 다양한 자연어 처리 작업에서 상당한 발전을 이루었습니다.\n",
    "\n",
    "\\subsection{History of LLMs}\n",
    "% 초기 LLM은 1980년대와 1990년대에 개발되었지만, 처리할 수 있는 데이터 양과 당시 사용 가능한 컴퓨팅 능력으로 인해 제한되었습니다.\n",
    "% 그러나 지난 10년 동안 하드웨어와 소프트웨어의 발전으로 대규모 데이터 세트에 대해 LLM을 학습시킬 수 있게 되었고, 이는 성능의 큰 향상으로 이어졌습니다.\n",
    "\n",
    "\\subsection{Applications of LLMs}\n",
    "% LLM은 챗봇, 콘텐츠 생성, 가상 어시스턴트 등 산업 분야에서 많은 응용 분야를 가지고 있습니다.\n",
    "% 또한 언어학, 심리학, 컴퓨터 언어학 연구를 위해 학계에서도 사용될 수 있습니다.\n",
    "\n",
    "\\end{document}\n",
    "\"\"\""
   ]
  },
  {
   "cell_type": "code",
   "execution_count": 21,
   "metadata": {},
   "outputs": [
    {
     "name": "stdout",
     "output_type": "stream",
     "text": [
      "\\documentclass{article}\n",
      "\n",
      "\begin{document}\n",
      "\n",
      "\\maketitle\n",
      "==================\n",
      "\\section{Introduction}\n",
      "% LLM은 방대한 양의 텍스트 데이터로 학습하여 사람과 유사한\n",
      "==================\n",
      "언어를 생성할 수 있는 기계 학습 모델의 한 유형입니다.\n",
      "% 최근 몇 년 동안 LLM은 언어 번역, 텍스트\n",
      "==================\n",
      "생성, 감성 분석 등 다양한 자연어 처리 작업에서 상당한 발전을 이루었습니다.\n",
      "==================\n",
      "\\subsection{History of LLMs}\n",
      "% 초기 LLM은 1980년대와 1990년대에\n",
      "==================\n",
      "개발되었지만, 처리할 수 있는 데이터 양과 당시 사용 가능한 컴퓨팅 능력으로 인해 제한되었습니다.\n",
      "%\n",
      "==================\n",
      "그러나 지난 10년 동안 하드웨어와 소프트웨어의 발전으로 대규모 데이터 세트에 대해 LLM을 학습시킬 수\n",
      "==================\n",
      "있게 되었고, 이는 성능의 큰 향상으로 이어졌습니다.\n",
      "==================\n",
      "\\subsection{Applications of LLMs}\n",
      "% LLM은 챗봇, 콘텐츠 생성, 가상\n",
      "==================\n",
      "어시스턴트 등 산업 분야에서 많은 응용 분야를 가지고 있습니다.\n",
      "% 또한 언어학, 심리학, 컴퓨터 언어학\n",
      "==================\n",
      "연구를 위해 학계에서도 사용될 수 있습니다.\n",
      "\n",
      "\\end{document}\n",
      "==================\n"
     ]
    }
   ],
   "source": [
    "latex_splitter = RecursiveCharacterTextSplitter.from_language(\n",
    "    # 마크다운 언어를 사용하여 텍스트를 분할합니다.\n",
    "    language=Language.LATEX,\n",
    "    # 각 청크의 크기를 60자로 설정합니다.\n",
    "    chunk_size=60,\n",
    "    # 청크 간의 중복되는 문자 수를 0으로 설정합니다.\n",
    "    chunk_overlap=0,\n",
    ")\n",
    "# latex_text를 분할하여 문서 목록을 생성합니다.\n",
    "latex_docs = latex_splitter.create_documents([latex_text])\n",
    "pprint(latex_docs)"
   ]
  },
  {
   "cell_type": "code",
   "execution_count": 22,
   "metadata": {},
   "outputs": [],
   "source": [
    "html_text = \"\"\"\n",
    "<!DOCTYPE html>\n",
    "<html>\n",
    "    <head>\n",
    "        <title>🦜️🔗 LangChain</title>\n",
    "        <style>\n",
    "            body {\n",
    "                font-family: Arial, sans-serif;  \n",
    "            }\n",
    "            h1 {\n",
    "                color: darkblue;\n",
    "            }\n",
    "        </style>\n",
    "    </head>\n",
    "    <body>\n",
    "        <div>\n",
    "            <h1>🦜️🔗 LangChain</h1>\n",
    "            <p>⚡ Building applications with LLMs through composability ⚡</p>  \n",
    "        </div>\n",
    "        <div>\n",
    "            As an open-source project in a rapidly developing field, we are extremely open to contributions.\n",
    "        </div>\n",
    "    </body>\n",
    "</html>\n",
    "\"\"\""
   ]
  },
  {
   "cell_type": "code",
   "execution_count": 23,
   "metadata": {},
   "outputs": [
    {
     "name": "stdout",
     "output_type": "stream",
     "text": [
      "<!DOCTYPE html>\n",
      "<html>\n",
      "==================\n",
      "<head>\n",
      "        <title>🦜️🔗 LangChain</title>\n",
      "==================\n",
      "<style>\n",
      "            body {\n",
      "                font-family: Aria\n",
      "==================\n",
      "l, sans-serif;  \n",
      "            }\n",
      "            h1 {\n",
      "==================\n",
      "color: darkblue;\n",
      "            }\n",
      "        </style>\n",
      "    </he\n",
      "==================\n",
      "ad>\n",
      "==================\n",
      "<body>\n",
      "==================\n",
      "<div>\n",
      "            <h1>🦜️🔗 LangChain</h1>\n",
      "==================\n",
      "<p>⚡ Building applications with LLMs through composability ⚡\n",
      "==================\n",
      "</p>  \n",
      "        </div>\n",
      "==================\n",
      "<div>\n",
      "            As an open-source project in a rapidly dev\n",
      "==================\n",
      "eloping field, we are extremely open to contributions.\n",
      "==================\n",
      "</div>\n",
      "    </body>\n",
      "</html>\n",
      "==================\n"
     ]
    }
   ],
   "source": [
    "html_splitter = RecursiveCharacterTextSplitter.from_language(\n",
    "    # HTML 언어를 사용하여 텍스트 분할기 생성\n",
    "    language=Language.HTML,\n",
    "    # 청크 크기를 60으로 설정\n",
    "    chunk_size=60,\n",
    "    # 청크 간 중복되는 부분이 없도록 설정\n",
    "    chunk_overlap=0,\n",
    ")\n",
    "# 주어진 HTML 텍스트를 분할하여 문서 생성\n",
    "html_docs = html_splitter.create_documents([html_text])\n",
    "# 생성된 문서 출력\n",
    "pprint(html_docs)"
   ]
  },
  {
   "cell_type": "code",
   "execution_count": 24,
   "metadata": {},
   "outputs": [
    {
     "name": "stdout",
     "output_type": "stream",
     "text": [
      "pragma solidity ^0.8.20;\n",
      "==================\n",
      "contract HelloWorld {  \n",
      "   function add(uint a, uint b) pure public returns(uint) {\n",
      "       return a + b;\n",
      "   }\n",
      "}\n",
      "==================\n"
     ]
    }
   ],
   "source": [
    "SOL_CODE = \"\"\"\n",
    "pragma solidity ^0.8.20; \n",
    "contract HelloWorld {  \n",
    "   function add(uint a, uint b) pure public returns(uint) {\n",
    "       return a + b;\n",
    "   }\n",
    "}\n",
    "\"\"\"\n",
    "\n",
    "# 분할하고 결과를 출력합니다.\n",
    "sol_splitter = RecursiveCharacterTextSplitter.from_language(\n",
    "    language=Language.SOL, chunk_size=128, chunk_overlap=0\n",
    ")\n",
    "\n",
    "sol_docs = sol_splitter.create_documents([SOL_CODE])\n",
    "pprint(sol_docs)"
   ]
  },
  {
   "cell_type": "code",
   "execution_count": 25,
   "metadata": {},
   "outputs": [
    {
     "name": "stdout",
     "output_type": "stream",
     "text": [
      "using System;\n",
      "==================\n",
      "class Program\n",
      "{\n",
      "    static void Main()\n",
      "    {\n",
      "        Console.WriteLine(\"Enter a number (1-5):\");\n",
      "==================\n",
      "int input = Convert.ToInt32(Console.ReadLine());\n",
      "        for (int i = 1; i <= input; i++)\n",
      "        {\n",
      "==================\n",
      "if (i % 2 == 0)\n",
      "            {\n",
      "                Console.WriteLine($\"{i} is even.\");\n",
      "            }\n",
      "            else\n",
      "==================\n",
      "{\n",
      "                Console.WriteLine($\"{i} is odd.\");\n",
      "            }\n",
      "        }\n",
      "        Console.WriteLine(\"Goodbye!\");\n",
      "==================\n",
      "}\n",
      "}\n",
      "==================\n"
     ]
    }
   ],
   "source": [
    "C_CODE = \"\"\"\n",
    "using System;\n",
    "class Program\n",
    "{\n",
    "    static void Main()\n",
    "    {\n",
    "        Console.WriteLine(\"Enter a number (1-5):\");\n",
    "        int input = Convert.ToInt32(Console.ReadLine());\n",
    "        for (int i = 1; i <= input; i++)\n",
    "        {\n",
    "            if (i % 2 == 0)\n",
    "            {\n",
    "                Console.WriteLine($\"{i} is even.\");\n",
    "            }\n",
    "            else\n",
    "            {\n",
    "                Console.WriteLine($\"{i} is odd.\");\n",
    "            }\n",
    "        }\n",
    "        Console.WriteLine(\"Goodbye!\");\n",
    "    }\n",
    "}\n",
    "\"\"\"\n",
    "\n",
    "# 분할하고 결과를 출력합니다.\n",
    "c_splitter = RecursiveCharacterTextSplitter.from_language(\n",
    "    language=Language.CSHARP, chunk_size=128, chunk_overlap=0\n",
    ")\n",
    "c_docs = c_splitter.create_documents([C_CODE])\n",
    "pprint(c_docs)"
   ]
  },
  {
   "cell_type": "code",
   "execution_count": null,
   "metadata": {},
   "outputs": [],
   "source": []
  }
 ],
 "metadata": {
  "kernelspec": {
   "display_name": "llm-study",
   "language": "python",
   "name": "python3"
  },
  "language_info": {
   "codemirror_mode": {
    "name": "ipython",
    "version": 3
   },
   "file_extension": ".py",
   "mimetype": "text/x-python",
   "name": "python",
   "nbconvert_exporter": "python",
   "pygments_lexer": "ipython3",
   "version": "3.11.9"
  }
 },
 "nbformat": 4,
 "nbformat_minor": 2
}
