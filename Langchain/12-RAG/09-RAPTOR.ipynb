{
 "cells": [
  {
   "cell_type": "markdown",
   "metadata": {},
   "source": [
    "# RAPTOR (Recursive Abstractive Processing for Tree-Organized Retrieval)\n",
    "![raptor](./image/raptor.png)\n",
    "- Text Chunk를 클러스터링하고, 요약하는 과정을 재귀적으로 반복하여 하단에서 상단으로 점점 더 추상화된 요약을 만드는 트리를 구성하는 방법\n",
    "- 기존 검색 증강은 짧고 연속적인 청크만 사용하므로 긴 컨텍스트를 반영하지 못하는 문제가 있다\n",
    "- LLM 모델 또한 컨텍스트가 길어짐에 따라 성능이 저하된다.\n",
    "- RAPTOR는 긴 문서의 정보를 통합하여, 기존에 검색 증강 방법의 제약을 극복하여 더 좋은 성능을 낼 수 있다\n",
    "## 알고리즘\n",
    "1. 문서 분할\n",
    "1. Chunk 클러스터링\n",
    "1. 클러스터마다 요약. 요약된 결과는 상위 노드가 됨.\n",
    "1. 더이상 클러스터링 할 수 없을 때까지 클러스터링과 요약 과정을 반복하여 트리 생성  \n",
    "\n",
    "클러스터링 성능에 따라 RAPTOR 성능에 크게 좌우될 것으로 보임"
   ]
  },
  {
   "cell_type": "code",
   "execution_count": 1,
   "metadata": {},
   "outputs": [
    {
     "name": "stderr",
     "output_type": "stream",
     "text": [
      "/home/dudaji/anaconda3/envs/llm-study/lib/python3.11/html/parser.py:170: XMLParsedAsHTMLWarning: It looks like you're parsing an XML document using an HTML parser. If this really is an HTML document (maybe it's XHTML?), you can ignore or filter this warning. If it's XML, you should know that using an XML parser will be more reliable. To parse this document as XML, make sure you have the lxml package installed, and pass the keyword argument `features=\"xml\"` into the BeautifulSoup constructor.\n",
      "  k = self.parse_starttag(i)\n"
     ]
    },
    {
     "name": "stdout",
     "output_type": "stream",
     "text": [
      "[825, 4302, 536, 388, 4560, 877, 1789, 758, 659, 67, 1098, 5359, 483, 593, 2063, 2899, 211, 10692, 917, 13253, 3557, 2591, 499, 4671, 825, 549, 594, 454, 5753, 488, 2915, 1519, 2063, 1195, 813, 1098, 1011, 9605, 786, 2216, 1185, 3159]\n"
     ]
    },
    {
     "data": {
      "text/plain": [
       "<function matplotlib.pyplot.show(close=None, block=None)>"
      ]
     },
     "execution_count": 1,
     "metadata": {},
     "output_type": "execute_result"
    },
    {
     "data": {
      "image/png": "[encoded data removed]",
      "text/plain": [
       "<Figure size 1000x600 with 1 Axes>"
      ]
     },
     "metadata": {},
     "output_type": "display_data"
    }
   ],
   "source": [
    "from langchain_community.document_loaders.recursive_url_loader import RecursiveUrlLoader\n",
    "from bs4 import BeautifulSoup as Soup\n",
    "import tiktoken\n",
    "import matplotlib.pyplot as plt\n",
    "\n",
    "def num_tokens_from_string(string: str, encoding_name: str) -> int:\n",
    "    # 주어진 문자열에서 토큰의 개수를 반환합니다.\n",
    "    encoding = tiktoken.get_encoding(encoding_name)\n",
    "    num_tokens = len(encoding.encode(string))\n",
    "    return num_tokens\n",
    "\n",
    "# LCEL 문서 로드\n",
    "url = \"https://python.langchain.com/docs/expression_language/\"\n",
    "loader = RecursiveUrlLoader(\n",
    "    url=url, max_depth=2, base_url=\"https://python.langchain.com\", extractor=lambda x: Soup(x, \"html.parser\").text\n",
    ")\n",
    "docs = loader.load()\n",
    "\n",
    "\n",
    "# PydanticOutputParser를 사용한 LCEL 문서 로드 (기본 LCEL 문서 외부)\n",
    "url = \"https://python.langchain.com/docs/modules/model_io/output_parsers/quick_start\"\n",
    "loader = RecursiveUrlLoader(\n",
    "    url=url, max_depth=1, extractor=lambda x: Soup(x, \"html.parser\").text\n",
    ")\n",
    "docs_pydantic = loader.load()\n",
    "\n",
    "# Self Query를 사용한 LCEL 문서 로드 (기본 LCEL 문서 외부)\n",
    "url = \"https://python.langchain.com/docs/modules/data_connection/retrievers/self_query/\"\n",
    "loader = RecursiveUrlLoader(\n",
    "    url=url, max_depth=1, extractor=lambda x: Soup(x, \"html.parser\").text\n",
    ")\n",
    "docs_sq = loader.load()\n",
    "\n",
    "docs.extend([*docs_pydantic, *docs_sq])\n",
    "docs_texts = [d.page_content for d in docs]\n",
    "\n",
    "# 각 문서에 대한 토큰 수 계산\n",
    "counts = [num_tokens_from_string(d, \"cl100k_base\") for d in docs_texts]\n",
    "print(counts)\n",
    "# 토큰 수의 히스토그램을 그립니다.\n",
    "plt.figure(figsize=(10, 6))\n",
    "plt.hist(counts, bins=30, color=\"blue\", edgecolor=\"black\", alpha=0.7)\n",
    "plt.title(\"Token Counts in LCEL Documents\")\n",
    "plt.xlabel(\"Token Count\")\n",
    "plt.ylabel(\"Frequency\")\n",
    "plt.grid(axis=\"y\", alpha=0.75)\n",
    "\n",
    "# 히스토그램을 표시합니다.\n",
    "plt.show"
   ]
  },
  {
   "cell_type": "code",
   "execution_count": 2,
   "metadata": {},
   "outputs": [
    {
     "name": "stdout",
     "output_type": "stream",
     "text": [
      "{'source': 'https://python.langchain.com/docs/expression_language/', 'content_type': 'text/html; charset=utf-8', 'title': 'LangChain Expression Language (LCEL) | ğŸ¦œï¸�ğŸ”— LangChain', 'description': 'LangChain Expression Language, or LCEL, is a declarative way to easily compose chains together.', 'language': 'en'}\n",
      "{'source': 'https://python.langchain.com/v0.1/docs/use_cases/web_scraping/', 'content_type': 'text/html; charset=utf-8', 'title': 'Web scraping | \\uf8ffü¶úÔ∏è\\uf8ffüîó LangChain', 'description': 'Open In Colab', 'language': 'en'}\n"
     ]
    }
   ],
   "source": [
    "print(docs[0].metadata)\n",
    "print(docs[1].metadata)"
   ]
  },
  {
   "cell_type": "code",
   "execution_count": 3,
   "metadata": {},
   "outputs": [
    {
     "data": {
      "text/plain": [
       "{'source': 'https://python.langchain.com/docs/expression_language/',\n",
       " 'content_type': 'text/html; charset=utf-8',\n",
       " 'title': 'LangChain Expression Language (LCEL) | ğŸ¦œï¸�ğŸ”— LangChain',\n",
       " 'description': 'LangChain Expression Language, or LCEL, is a declarative way to easily compose chains together.',\n",
       " 'language': 'en'}"
      ]
     },
     "execution_count": 3,
     "metadata": {},
     "output_type": "execute_result"
    }
   ],
   "source": [
    "d_sorted = sorted(docs, key=lambda x: x.metadata[\"source\"])\n",
    "d_sorted[0].metadata"
   ]
  },
  {
   "cell_type": "code",
   "execution_count": 4,
   "metadata": {},
   "outputs": [
    {
     "data": {
      "text/plain": [
       "{'source': 'https://python.langchain.com/v0.2/docs/introduction/',\n",
       " 'content_type': 'text/html; charset=utf-8',\n",
       " 'title': 'Introduction | \\uf8ffü¶úÔ∏è\\uf8ffüîó LangChain',\n",
       " 'description': 'LangChain is a framework for developing applications powered by large language models (LLMs).',\n",
       " 'language': 'en'}"
      ]
     },
     "execution_count": 4,
     "metadata": {},
     "output_type": "execute_result"
    }
   ],
   "source": [
    "d_reversed = list(reversed(d_sorted))\n",
    "d_reversed[0].metadata"
   ]
  },
  {
   "cell_type": "code",
   "execution_count": 2,
   "metadata": {},
   "outputs": [
    {
     "name": "stdout",
     "output_type": "stream",
     "text": [
      "Num tokens in all context: 99996\n"
     ]
    }
   ],
   "source": [
    "# 문서 텍스트를 연결합니다.\n",
    "# 문서를 출처 메타데이터 기준으로 정렬합니다.\n",
    "d_sorted = sorted(docs, key=lambda x: x.metadata[\"source\"])\n",
    "d_reversed = list(reversed(d_sorted))  # 정렬된 문서를 역순으로 배열합니다.\n",
    "concatenated_content = \"\\n\\n\\n --- \\n\\n\\n\".join(\n",
    "    [\n",
    "        # 역순으로 배열된 문서의 내용을 연결합니다.\n",
    "        doc.page_content\n",
    "        for doc in d_reversed\n",
    "    ]\n",
    ")\n",
    "print(\n",
    "    \"Num tokens in all context: %s\"  # 모든 문맥에서의 토큰 수를 출력합니다.\n",
    "    % num_tokens_from_string(concatenated_content, \"cl100k_base\")\n",
    ")"
   ]
  },
  {
   "cell_type": "code",
   "execution_count": 3,
   "metadata": {},
   "outputs": [],
   "source": [
    "# 텍스트 분할을 위한 코드\n",
    "from langchain_text_splitters import RecursiveCharacterTextSplitter\n",
    "\n",
    "chunk_size_tok = 2000  # 토큰의 청크 크기를 설정합니다.\n",
    "# 재귀적 문자 텍스트 분할기를 초기화합니다. 토큰 인코더를 사용하여 청크 크기와 중복을 설정합니다.\n",
    "text_splitter = RecursiveCharacterTextSplitter.from_tiktoken_encoder(\n",
    "    chunk_size=chunk_size_tok, chunk_overlap=0\n",
    ")\n",
    "texts_split = text_splitter.split_text(\n",
    "    concatenated_content\n",
    ")  # 주어진 텍스트를 분할합니다."
   ]
  },
  {
   "cell_type": "code",
   "execution_count": 4,
   "metadata": {},
   "outputs": [
    {
     "data": {
      "text/plain": [
       "True"
      ]
     },
     "execution_count": 4,
     "metadata": {},
     "output_type": "execute_result"
    }
   ],
   "source": [
    "import os\n",
    "from dotenv import load_dotenv\n",
    "\n",
    "load_dotenv()"
   ]
  },
  {
   "cell_type": "code",
   "execution_count": 5,
   "metadata": {},
   "outputs": [],
   "source": [
    "from langchain_community.embeddings import HuggingFaceEmbeddings\n",
    "from langchain.embeddings import CacheBackedEmbeddings, OllamaEmbeddings\n",
    "from langchain.storage import LocalFileStore\n",
    "\n",
    "store = LocalFileStore(\"./cache/\")\n",
    "# embd = OllamaEmbeddings(model=\"gemma:7b\")\n",
    "embd = OllamaEmbeddings(model=\"mistral:7b\")\n",
    "cached_embeddings = CacheBackedEmbeddings.from_bytes_store(\n",
    "    embd, store, namespace=os.environ[\"MODEL_ID\"]\n",
    ")"
   ]
  },
  {
   "cell_type": "code",
   "execution_count": 6,
   "metadata": {},
   "outputs": [],
   "source": [
    "from langchain_community.llms import HuggingFaceEndpoint\n",
    "from langchain_community.chat_models.huggingface import ChatHuggingFace\n",
    "from langchain_community.chat_models import ChatOllama\n",
    "from langchain.callbacks.streaming_stdout import StreamingStdOutCallbackHandler\n",
    "\n",
    "# llm = HuggingFaceEndpoint(\n",
    "#     repo_id=os.environ[\"MODEL_ID\"], \n",
    "#     max_new_tokens=2048,\n",
    "#     temperature=0.1,\n",
    "#     huggingfacehub_api_token=os.environ[\"HF_API_KEY\"],\n",
    "#     streaming=True,\n",
    "#     callbacks=[StreamingStdOutCallbackHandler()],\n",
    "# )\n",
    "# model = ChatHuggingFace(llm=llm)\n",
    "model = ChatOllama(model=\"mistral:7b\")\n",
    "# model = ChatOllama(model=\"gemma:7b\")"
   ]
  },
  {
   "cell_type": "code",
   "execution_count": 7,
   "metadata": {},
   "outputs": [
    {
     "name": "stderr",
     "output_type": "stream",
     "text": [
      "/home/dudaji/anaconda3/envs/llm-study/lib/python3.11/site-packages/tqdm/auto.py:21: TqdmWarning: IProgress not found. Please update jupyter and ipywidgets. See https://ipywidgets.readthedocs.io/en/stable/user_install.html\n",
      "  from .autonotebook import tqdm as notebook_tqdm\n"
     ]
    }
   ],
   "source": [
    "from typing import Dict, List, Optional, Tuple\n",
    "\n",
    "import numpy as np\n",
    "import pandas as pd\n",
    "import umap\n",
    "from langchain.prompts import ChatPromptTemplate\n",
    "from langchain_core.output_parsers import StrOutputParser\n",
    "from sklearn.mixture import GaussianMixture\n",
    "\n",
    "RANDOM_SEED = 42  # 재현성을 위한 고정된 시드 값\n",
    "\n",
    "def global_cluster_embeddings(\n",
    "    embeddings: np.ndarray,\n",
    "    dim: int,\n",
    "    n_neighbors: Optional[int] = None,\n",
    "    metric: str = \"cosine\",\n",
    ") -> np.ndarray:\n",
    "    \"\"\"\n",
    "    UMAP을 사용하여 임베딩의 전역 차원 축소를 수행합니다.\n",
    "\n",
    "    매개변수:\n",
    "    - embeddings: numpy 배열로 된 입력 임베딩.\n",
    "    - dim: 축소된 공간의 목표 차원.\n",
    "    - n_neighbors: 선택 사항; 각 점을 고려할 이웃의 수.\n",
    "                   제공되지 않으면 임베딩 수의 제곱근으로 기본 설정됩니다.\n",
    "    - metric: UMAP에 사용할 거리 측정 기준.\n",
    "\n",
    "    반환값:\n",
    "    - 지정된 차원으로 축소된 임베딩의 numpy 배열.\n",
    "    \"\"\"\n",
    "    if n_neighbors is None:\n",
    "        n_neighbors = int((len(embeddings) - 1) ** 0.5)\n",
    "    return umap.UMAP(\n",
    "        n_neighbors=n_neighbors, n_components=dim, metric=metric\n",
    "    ).fit_transform(embeddings)"
   ]
  },
  {
   "cell_type": "code",
   "execution_count": 8,
   "metadata": {},
   "outputs": [],
   "source": [
    "def local_cluster_embeddings(\n",
    "    embeddings: np.ndarray, dim: int, num_neighbors: int = 10, metric: str = \"cosine\"\n",
    ") -> np.ndarray:\n",
    "    \"\"\"\n",
    "    임베딩에 대해 지역 차원 축소를 수행합니다. 이는 일반적으로 전역 클러스터링 이후에 사용됩니다.\n",
    "\n",
    "    매개변수:\n",
    "    - embeddings: numpy 배열로서의 입력 임베딩.\n",
    "    - dim: 축소된 공간의 목표 차원 수.\n",
    "    - num_neighbors: 각 점에 대해 고려할 이웃의 수.\n",
    "    - metric: UMAP에 사용할 거리 측정 기준.\n",
    "\n",
    "    반환값:\n",
    "    - 지정된 차원으로 축소된 임베딩의 numpy 배열.\n",
    "    \"\"\"\n",
    "    return umap.UMAP(\n",
    "        n_neighbors=num_neighbors, n_components=dim, metric=metric\n",
    "    ).fit_transform(embeddings)"
   ]
  },
  {
   "cell_type": "code",
   "execution_count": 9,
   "metadata": {},
   "outputs": [],
   "source": [
    "def get_optimal_clusters(\n",
    "    embeddings: np.ndarray, max_clusters: int = 50, random_state: int = RANDOM_SEED\n",
    ") -> int:\n",
    "    \"\"\"\n",
    "    가우시안 혼합 모델(Gaussian Mixture Model)을 사용하여 베이지안 정보 기준(BIC)을 통해 최적의 클러스터 수를 결정합니다.\n",
    "\n",
    "    매개변수:\n",
    "    - embeddings: numpy 배열로서의 입력 임베딩.\n",
    "    - max_clusters: 고려할 최대 클러스터 수.\n",
    "    - random_state: 재현성을 위한 시드.\n",
    "\n",
    "    반환값:\n",
    "    - 발견된 최적의 클러스터 수를 나타내는 정수.\n",
    "    \"\"\"\n",
    "    max_clusters = min(\n",
    "        max_clusters, len(embeddings)\n",
    "    )  # 최대 클러스터 수와 임베딩의 길이 중 작은 값을 최대 클러스터 수로 설정\n",
    "    n_clusters = np.arange(1, max_clusters)  # 1부터 최대 클러스터 수까지의 범위를 생성\n",
    "    bics = []  # BIC 점수를 저장할 리스트\n",
    "    for n in n_clusters:  # 각 클러스터 수에 대해 반복\n",
    "        gm = GaussianMixture(\n",
    "            n_components=n, random_state=random_state\n",
    "        )  # 가우시안 혼합 모델 초기화\n",
    "        gm.fit(embeddings)  # 임베딩에 대해 모델 학습\n",
    "        bics.append(gm.bic(embeddings))  # 학습된 모델의 BIC 점수를 리스트에 추가\n",
    "    return n_clusters[np.argmin(bics)]  # BIC 점수가 가장 낮은 클러스터 수를 반환"
   ]
  },
  {
   "cell_type": "code",
   "execution_count": 10,
   "metadata": {},
   "outputs": [],
   "source": [
    "def GMM_cluster(embeddings: np.ndarray, threshold: float, random_state: int = 0):\n",
    "    \"\"\"\n",
    "    확률 임계값을 기반으로 가우시안 혼합 모델(GMM)을 사용하여 임베딩을 클러스터링합니다.\n",
    "\n",
    "    매개변수:\n",
    "    - embeddings: numpy 배열로서의 입력 임베딩.\n",
    "    - threshold: 임베딩을 클러스터에 할당하기 위한 확률 임계값.\n",
    "    - random_state: 재현성을 위한 시드.\n",
    "\n",
    "    반환값:\n",
    "    - 클러스터 레이블과 결정된 클러스터 수를 포함하는 튜플.\n",
    "    \"\"\"\n",
    "    n_clusters = get_optimal_clusters(embeddings)  # 최적의 클러스터 수를 구합니다.\n",
    "    # 가우시안 혼합 모델을 초기화합니다.\n",
    "    gm = GaussianMixture(n_components=n_clusters, random_state=random_state)\n",
    "    gm.fit(embeddings)  # 임베딩에 대해 모델을 학습합니다.\n",
    "    probs = gm.predict_proba(\n",
    "        embeddings\n",
    "    )  # 임베딩이 각 클러스터에 속할 확률을 예측합니다.\n",
    "    # 임계값을 초과하는 확률을 가진 클러스터를 레이블로 선택합니다.\n",
    "    labels = [np.where(prob > threshold)[0] for prob in probs]\n",
    "    return labels, n_clusters  # 레이블과 클러스터 수를 반환합니다."
   ]
  },
  {
   "cell_type": "code",
   "execution_count": 11,
   "metadata": {},
   "outputs": [],
   "source": [
    "def perform_clustering(\n",
    "    embeddings: np.ndarray,\n",
    "    dim: int,\n",
    "    threshold: float,\n",
    ") -> List[np.ndarray]:\n",
    "    \"\"\"\n",
    "    임베딩에 대해 차원 축소, 가우시안 혼합 모델을 사용한 클러스터링, 각 글로벌 클러스터 내에서의 로컬 클러스터링을 순서대로 수행합니다.\n",
    "\n",
    "    매개변수:\n",
    "    - embeddings: numpy 배열로 된 입력 임베딩입니다.\n",
    "    - dim: UMAP 축소를 위한 목표 차원입니다.\n",
    "    - threshold: GMM에서 임베딩을 클러스터에 할당하기 위한 확률 임계값입니다.\n",
    "\n",
    "    반환값:\n",
    "    - 각 임베딩의 클러스터 ID를 포함하는 numpy 배열의 리스트입니다.\n",
    "    \"\"\"\n",
    "    if len(embeddings) <= dim + 1:\n",
    "        # 데이터가 충분하지 않을 때 클러스터링을 피합니다.\n",
    "        return [np.array([0]) for _ in range(len(embeddings))]\n",
    "\n",
    "    # 글로벌 차원 축소\n",
    "    reduced_embeddings_global = global_cluster_embeddings(embeddings, dim)\n",
    "    # 글로벌 클러스터링\n",
    "    global_clusters, n_global_clusters = GMM_cluster(\n",
    "        reduced_embeddings_global, threshold\n",
    "    )\n",
    "\n",
    "    all_local_clusters = [np.array([]) for _ in range(len(embeddings))]\n",
    "    total_clusters = 0\n",
    "\n",
    "    # 각 글로벌 클러스터를 순회하며 로컬 클러스터링 수행\n",
    "    for i in range(n_global_clusters):\n",
    "        # 현재 글로벌 클러스터에 속하는 임베딩 추출\n",
    "        global_cluster_embeddings_ = embeddings[\n",
    "            np.array([i in gc for gc in global_clusters])\n",
    "        ]\n",
    "\n",
    "        if len(global_cluster_embeddings_) == 0:\n",
    "            continue\n",
    "        if len(global_cluster_embeddings_) <= dim + 1:\n",
    "            # 작은 클러스터는 직접 할당으로 처리\n",
    "            local_clusters = [np.array([0]) for _ in global_cluster_embeddings_]\n",
    "            n_local_clusters = 1\n",
    "        else:\n",
    "            # 로컬 차원 축소 및 클러스터링\n",
    "            reduced_embeddings_local = local_cluster_embeddings(\n",
    "                global_cluster_embeddings_, dim\n",
    "            )\n",
    "            local_clusters, n_local_clusters = GMM_cluster(\n",
    "                reduced_embeddings_local, threshold\n",
    "            )\n",
    "\n",
    "        # 로컬 클러스터 ID 할당, 이미 처리된 총 클러스터 수를 조정\n",
    "        for j in range(n_local_clusters):\n",
    "            local_cluster_embeddings_ = global_cluster_embeddings_[\n",
    "                np.array([j in lc for lc in local_clusters])\n",
    "            ]\n",
    "            indices = np.where(\n",
    "                (embeddings == local_cluster_embeddings_[:, None]).all(-1)\n",
    "            )[1]\n",
    "            for idx in indices:\n",
    "                all_local_clusters[idx] = np.append(\n",
    "                    all_local_clusters[idx], j + total_clusters\n",
    "                )\n",
    "\n",
    "        total_clusters += n_local_clusters\n",
    "\n",
    "    return all_local_clusters"
   ]
  },
  {
   "cell_type": "code",
   "execution_count": 12,
   "metadata": {},
   "outputs": [],
   "source": [
    "def embed(texts):\n",
    "    # 텍스트 문서 목록에 대한 임베딩을 생성합니다.\n",
    "    #\n",
    "    # 이 함수는 `embd` 객체가 존재한다고 가정하며, 이 객체는 텍스트 목록을 받아 그 임베딩을 반환하는 `embed_documents` 메소드를 가지고 있습니다.\n",
    "    #\n",
    "    # 매개변수:\n",
    "    # - texts: List[str], 임베딩할 텍스트 문서의 목록입니다.\n",
    "    #\n",
    "    # 반환값:\n",
    "    # - numpy.ndarray: 주어진 텍스트 문서들에 대한 임베딩 배열입니다.\n",
    "    text_embeddings = embd.embed_documents(\n",
    "        texts\n",
    "    )  # 텍스트 문서들의 임베딩을 생성합니다.\n",
    "    text_embeddings_np = np.array(text_embeddings)  # 임베딩을 numpy 배열로 변환합니다.\n",
    "    return text_embeddings_np  # 임베딩된 numpy 배열을 반환합니다"
   ]
  },
  {
   "cell_type": "code",
   "execution_count": 13,
   "metadata": {},
   "outputs": [],
   "source": [
    "def embed_cluster_texts(texts):\n",
    "    \"\"\"\n",
    "    텍스트 목록을 임베딩하고 클러스터링하여, 텍스트, 그들의 임베딩, 그리고 클러스터 라벨이 포함된 DataFrame을 반환합니다.\n",
    "\n",
    "    이 함수는 임베딩 생성과 클러스터링을 단일 단계로 결합합니다. 임베딩에 대해 클러스터링을 수행하는 `perform_clustering` 함수의 사전 정의된 존재를 가정합니다.\n",
    "\n",
    "    매개변수:\n",
    "    - texts: List[str], 처리될 텍스트 문서의 목록입니다.\n",
    "\n",
    "    반환값:\n",
    "    - pandas.DataFrame: 원본 텍스트, 그들의 임베딩, 그리고 할당된 클러스터 라벨이 포함된 DataFrame입니다.\n",
    "    \"\"\"\n",
    "    text_embeddings_np = embed(texts)  # 임베딩 생성\n",
    "    cluster_labels = perform_clustering(\n",
    "        text_embeddings_np, 10, 0.1\n",
    "    )  # 임베딩에 대해 클러스터링 수행\n",
    "    df = pd.DataFrame()  # 결과를 저장할 DataFrame 초기화\n",
    "    df[\"text\"] = texts  # 원본 텍스트 저장\n",
    "    df[\"embd\"] = list(text_embeddings_np)  # DataFrame에 리스트로 임베딩 저장\n",
    "    df[\"cluster\"] = cluster_labels  # 클러스터 라벨 저장\n",
    "    return df"
   ]
  },
  {
   "cell_type": "code",
   "execution_count": 14,
   "metadata": {},
   "outputs": [],
   "source": [
    "def fmt_txt(df: pd.DataFrame) -> str:\n",
    "    \"\"\"\n",
    "    DataFrame에 있는 텍스트 문서를 단일 문자열로 포맷합니다.\n",
    "\n",
    "    매개변수:\n",
    "    - df: 'text' 열에 포맷할 텍스트 문서가 포함된 DataFrame.\n",
    "\n",
    "    반환값:\n",
    "    - 모든 텍스트 문서가 특정 구분자로 결합된 단일 문자열.\n",
    "    \"\"\"\n",
    "    unique_txt = df[\"text\"].tolist()  # 'text' 열의 모든 텍스트를 리스트로 변환\n",
    "    return \"--- --- \\n --- --- \".join(\n",
    "        unique_txt\n",
    "    )  # 텍스트 문서들을 특정 구분자로 결합하여 반환"
   ]
  },
  {
   "cell_type": "code",
   "execution_count": 15,
   "metadata": {},
   "outputs": [],
   "source": [
    "def embed_cluster_summarize_texts(\n",
    "    texts: List[str], level: int\n",
    ") -> Tuple[pd.DataFrame, pd.DataFrame]:\n",
    "    \"\"\"\n",
    "    텍스트 목록에 대해 임베딩, 클러스터링 및 요약을 수행합니다. 이 함수는 먼저 텍스트에 대한 임베딩을 생성하고,\n",
    "    유사성을 기반으로 클러스터링을 수행한 다음, 클러스터 할당을 확장하여 처리를 용이하게 하고 각 클러스터 내의 내용을 요약합니다.\n",
    "\n",
    "    매개변수:\n",
    "    - texts: 처리할 텍스트 문서 목록입니다.\n",
    "    - level: 처리의 깊이나 세부 사항을 정의할 수 있는 정수 매개변수입니다.\n",
    "\n",
    "    반환값:\n",
    "    - 두 개의 데이터프레임을 포함하는 튜플:\n",
    "      1. 첫 번째 데이터프레임(`df_clusters`)은 원본 텍스트, 그들의 임베딩, 그리고 클러스터 할당을 포함합니다.\n",
    "      2. 두 번째 데이터프레임(`df_summary`)은 각 클러스터에 대한 요약, 지정된 세부 수준, 그리고 클러스터 식별자를 포함합니다.\n",
    "    \"\"\"\n",
    "\n",
    "    # 텍스트를 임베딩하고 클러스터링하여 'text', 'embd', 'cluster' 열이 있는 데이터프레임을 생성합니다.\n",
    "    df_clusters = embed_cluster_texts(texts)\n",
    "\n",
    "    # 클러스터를 쉽게 조작하기 위해 데이터프레임을 확장할 준비를 합니다.\n",
    "    expanded_list = []\n",
    "\n",
    "    # 데이터프레임 항목을 문서-클러스터 쌍으로 확장하여 처리를 간단하게 합니다.\n",
    "    for index, row in df_clusters.iterrows():\n",
    "        for cluster in row[\"cluster\"]:\n",
    "            expanded_list.append(\n",
    "                {\"text\": row[\"text\"], \"embd\": row[\"embd\"], \"cluster\": cluster}\n",
    "            )\n",
    "\n",
    "    # 확장된 목록에서 새 데이터프레임을 생성합니다.\n",
    "    expanded_df = pd.DataFrame(expanded_list)\n",
    "\n",
    "    # 처리를 위해 고유한 클러스터 식별자를 검색합니다.\n",
    "    all_clusters = expanded_df[\"cluster\"].unique()\n",
    "\n",
    "    print(f\"--Generated {len(all_clusters)} clusters--\")\n",
    "\n",
    "    # 요약\n",
    "    template = \"\"\"여기 LangChain 표현 언어 문서의 하위 집합이 있습니다.\n",
    "    \n",
    "    LangChain 표현 언어는 LangChain에서 체인을 구성하는 방법을 제공합니다.\n",
    "    \n",
    "    제공된 문서의 자세한 요약을 제공하십시오.\n",
    "    \n",
    "    문서:\n",
    "    {context}\n",
    "    \"\"\"\n",
    "    prompt = ChatPromptTemplate.from_template(template)\n",
    "    chain = prompt | model | StrOutputParser()\n",
    "\n",
    "    # 각 클러스터 내의 텍스트를 요약을 위해 포맷팅합니다.\n",
    "    summaries = []\n",
    "    for i in all_clusters:\n",
    "        df_cluster = expanded_df[expanded_df[\"cluster\"] == i]\n",
    "        formatted_txt = fmt_txt(df_cluster)\n",
    "        summaries.append(chain.invoke({\"context\": formatted_txt}))\n",
    "\n",
    "    # 요약, 해당 클러스터 및 레벨을 저장할 데이터프레임을 생성합니다.\n",
    "    df_summary = pd.DataFrame(\n",
    "        {\n",
    "            \"summaries\": summaries,\n",
    "            \"level\": [level] * len(summaries),\n",
    "            \"cluster\": list(all_clusters),\n",
    "        }\n",
    "    )\n",
    "\n",
    "    return df_clusters, df_summary"
   ]
  },
  {
   "cell_type": "code",
   "execution_count": 16,
   "metadata": {},
   "outputs": [],
   "source": [
    "def recursive_embed_cluster_summarize(\n",
    "    texts: List[str], level: int = 1, n_levels: int = 3\n",
    ") -> Dict[int, Tuple[pd.DataFrame, pd.DataFrame]]:\n",
    "    \"\"\"\n",
    "    지정된 레벨까지 또는 고유 클러스터의 수가 1이 될 때까지 텍스트를 재귀적으로 임베딩, 클러스터링, 요약하여\n",
    "    각 레벨에서의 결과를 저장합니다.\n",
    "\n",
    "    매개변수:\n",
    "    - texts: List[str], 처리할 텍스트들.\n",
    "    - level: int, 현재 재귀 레벨 (1에서 시작).\n",
    "    - n_levels: int, 재귀의 최대 깊이.\n",
    "\n",
    "    반환값:\n",
    "    - Dict[int, Tuple[pd.DataFrame, pd.DataFrame]], 재귀 레벨을 키로 하고 해당 레벨에서의 클러스터 DataFrame과 요약 DataFrame을 포함하는 튜플을 값으로 하는 사전.\n",
    "    \"\"\"\n",
    "    results = {}  # 각 레벨에서의 결과를 저장할 사전\n",
    "\n",
    "    # 현재 레벨에 대해 임베딩, 클러스터링, 요약 수행\n",
    "    df_clusters, df_summary = embed_cluster_summarize_texts(texts, level)\n",
    "\n",
    "    # 현재 레벨의 결과 저장\n",
    "    results[level] = (df_clusters, df_summary)\n",
    "\n",
    "    # 추가 재귀가 가능하고 의미가 있는지 결정\n",
    "    unique_clusters = df_summary[\"cluster\"].nunique()\n",
    "    if level < n_levels and unique_clusters > 1:\n",
    "        # 다음 레벨의 재귀 입력 텍스트로 요약 사용\n",
    "        new_texts = df_summary[\"summaries\"].tolist()\n",
    "        next_level_results = recursive_embed_cluster_summarize(\n",
    "            new_texts, level + 1, n_levels\n",
    "        )\n",
    "\n",
    "        # 다음 레벨의 결과를 현재 결과 사전에 병합\n",
    "        results.update(next_level_results)\n",
    "\n",
    "    return results"
   ]
  },
  {
   "cell_type": "code",
   "execution_count": 17,
   "metadata": {},
   "outputs": [
    {
     "data": {
      "text/plain": [
       "42"
      ]
     },
     "execution_count": 17,
     "metadata": {},
     "output_type": "execute_result"
    }
   ],
   "source": [
    "len(docs_texts)"
   ]
  },
  {
   "cell_type": "code",
   "execution_count": 18,
   "metadata": {},
   "outputs": [
    {
     "name": "stdout",
     "output_type": "stream",
     "text": [
      "--Generated 7 clusters--\n"
     ]
    }
   ],
   "source": [
    "# 트리 구축\n",
    "leaf_texts = docs_texts  # 문서 텍스트를 리프 텍스트로 설정\n",
    "results = recursive_embed_cluster_summarize(\n",
    "    # leaf_texts, level=1, n_levels=3\n",
    "    leaf_texts, level=7, n_levels=3\n",
    ")  "
   ]
  },
  {
   "cell_type": "code",
   "execution_count": 19,
   "metadata": {},
   "outputs": [
    {
     "name": "stdout",
     "output_type": "stream",
     "text": [
      "1\n",
      "{7: (                                                 text  \\\n",
      "0   \\n\\n\\n\\n\\nLangChain Expression Language (LCEL)...   \n",
      "1   \\n\\n\\n\\n\\nAdvantages of LCEL | ü¶úÔ∏èüîó Lan...   \n",
      "2   \\n\\n\\n\\n\\nComponents | ğŸ¦œï¸�ğŸ”— LangChain\\n...   \n",
      "3   \\n\\n\\n\\n\\nProviders | ü¶úÔ∏èüîó LangChain\\n\\...   \n",
      "4   \\n\\n\\n\\n\\nWeb scraping | ü¶úÔ∏èüîó LangChain...   \n",
      "5   \\n\\n\\n\\n\\nSecurity | ğŸ¦œï¸�ğŸ”— LangChain\\n\\n...   \n",
      "6   \\n\\n\\n\\n\\nTemplates | ü¶úÔ∏èüîó LangChain\\n\\...   \n",
      "7   \\n\\n\\n\\n\\nInstallation | ğŸ¦œï¸�ğŸ”— LangChain...   \n",
      "8   \\n\\n\\n\\n\\nGraphs | ğŸ¦œï¸�ğŸ”— LangChain\\n\\n\\n...   \n",
      "9   \\n\\nğŸ¦œï¸�ğŸ”— LangChain\\nSearch ğŸ¦œï¸�ğŸ”— ...   \n",
      "10  \\n\\n\\n\\n\\nIntroduction | ğŸ¦œï¸�ğŸ”— LangChain...   \n",
      "11  \\n\\n\\n\\n\\nQuickstart | ü¶úÔ∏èüîó LangChain\\n...   \n",
      "12  \\n\\n\\n\\n\\nğŸ¦œğŸ› ï¸� LangSmith | ğŸ¦œï¸�ğŸ”— ...   \n",
      "13  \\n\\n\\n\\n\\nSQL | ğŸ¦œï¸�ğŸ”— LangChain\\n\\n\\n\\n\\...   \n",
      "14  \\n\\n\\n\\n\\nIntroduction | ü¶úÔ∏èüîó LangChain...   \n",
      "15  \\n\\n\\n\\n\\nYouTube videos | ü¶úÔ∏èüîó LangCha...   \n",
      "16  \\n\\n\\n\\n\\nGuides | ğŸ¦œï¸�ğŸ”— LangChain\\n\\n\\n...   \n",
      "17  \\n\\n\\n\\n\\nStreaming | ü¶úÔ∏èüîó LangChain\\n\\...   \n",
      "18  \\n\\n\\n\\n\\nQ&A with RAG | ü¶úÔ∏èüîó LangChain...   \n",
      "19  \\n\\n\\n\\n\\nConceptual guide | ü¶úÔ∏èüîó LangC...   \n",
      "20  \\n\\n\\n\\n\\nPeople | ü¶úÔ∏èüîó LangChain\\n\\n\\n...   \n",
      "21  \\n\\n\\n\\n\\nAdd message history (memory) | ü¶úÔ...   \n",
      "22  \\n\\n\\n\\n\\nTutorials | ğŸ¦œï¸�ğŸ”— LangChain\\n\\...   \n",
      "23  \\n\\n\\n\\n\\nRoute logic based on input | ü¶úÔ∏è...   \n",
      "24  \\n\\n\\n\\n\\nLangChain Expression Language (LCEL)...   \n",
      "25  \\n\\n\\n\\n\\nğŸ“• Package Versioning | ğŸ¦œï¸�ğŸ”...   \n",
      "26  \\n\\n\\n\\n\\nChatbots | ğŸ¦œï¸�ğŸ”— LangChain\\n\\n...   \n",
      "27  \\n\\n\\n\\n\\nTool use and agents | ğŸ¦œï¸�ğŸ”— La...   \n",
      "28  \\n\\n\\n\\n\\nü¶úÔ∏èüèì LangServe | ü¶úÔ∏èüîó ...   \n",
      "29  \\n\\n\\n\\n\\nUse cases | ğŸ¦œï¸�ğŸ”— LangChain\\n\\...   \n",
      "30  \\n\\n\\n\\n\\nGet started | ü¶úÔ∏èüîó LangChain\\...   \n",
      "31  \\n\\n\\n\\n\\nParallel: Format data | ü¶úÔ∏èüîó ...   \n",
      "32  \\n\\n\\n\\n\\nIntroduction | ü¶úÔ∏èüîó LangChain...   \n",
      "33  \\n\\n\\n\\n\\nQuery analysis | ü¶úÔ∏èüîó LangCha...   \n",
      "34  \\n\\n\\n\\n\\nPrimitives | ğŸ¦œï¸�ğŸ”— LangChain\\n...   \n",
      "35  \\n\\n\\n\\n\\nIntroduction | ğŸ¦œï¸�ğŸ”— LangChain...   \n",
      "36  \\n\\n\\n\\n\\nExtracting structured output | ü¶úÔ...   \n",
      "37  \\n\\n\\n\\n\\nRunnable interface | ü¶úÔ∏èüîó Lan...   \n",
      "38  \\n\\n\\n\\n\\nWelcome Contributors | ğŸ¦œï¸�ğŸ”— L...   \n",
      "39  \\n\\n\\n\\n\\nFallbacks | ü¶úÔ∏èüîó LangChain\\n\\...   \n",
      "40  \\n\\n\\n\\n\\nQuickstart | ü¶úÔ∏èüîó LangChain\\n...   \n",
      "41  \\n\\n\\n\\n\\nSelf-querying | ü¶úÔ∏èüîó LangChai...   \n",
      "\n",
      "                                                 embd     cluster  \n",
      "0   [4.451562881469727, 4.568757057189941, 9.98282...  [4.0, 4.0]  \n",
      "1   [4.93299674987793, 6.082887649536133, 4.463100...       [0.0]  \n",
      "2   [-1.0781248807907104, 4.208497524261475, 10.37...       [5.0]  \n",
      "3   [-3.402681350708008, 3.9624648094177246, 7.866...       [5.0]  \n",
      "4   [4.745623588562012, 5.547607898712158, 4.24368...       [0.0]  \n",
      "5   [-1.0574777126312256, 2.7213351726531982, 9.11...       [5.0]  \n",
      "6   [-2.8907339572906494, 5.3342084884643555, 6.29...       [2.0]  \n",
      "7   [1.684532880783081, 4.710825443267822, 8.89819...       [4.0]  \n",
      "8   [-1.1775444746017456, 1.6574383974075317, 11.0...       [5.0]  \n",
      "9   [5.280169486999512, 2.021561861038208, 7.62258...       [4.0]  \n",
      "10  [3.7063920497894287, 2.3465416431427, 8.479870...  [5.0, 5.0]  \n",
      "11  [1.5861128568649292, 7.029420852661133, 3.7400...       [2.0]  \n",
      "12  [1.0992435216903687, 4.042975425720215, 11.075...       [1.0]  \n",
      "13  [4.320227146148682, 1.4425914287567139, 11.187...       [5.0]  \n",
      "14  [0.6075807213783264, 6.371564865112305, 6.4857...  [2.0, 2.0]  \n",
      "15  [3.0028114318847656, 5.3503098487854, 4.609107...       [2.0]  \n",
      "16  [1.025128960609436, 1.8337030410766602, 6.6505...       [1.0]  \n",
      "17  [0.7445043325424194, 10.119267463684082, 4.623...       [0.0]  \n",
      "18  [0.9666998386383057, 5.52421236038208, 7.24518...       [6.0]  \n",
      "19  [2.146125316619873, 6.601285457611084, 4.93210...       [2.0]  \n",
      "20  [0.9962486624717712, 5.127518177032471, 4.6943...       [2.0]  \n",
      "21  [0.4624551832675934, 6.242332935333252, 3.0034...       [0.0]  \n",
      "22  [-0.3417090177536011, 0.8881082534790039, 10.1...       [3.0]  \n",
      "23  [3.2271785736083984, 6.52927827835083, 3.86528...       [0.0]  \n",
      "24  [4.451562881469727, 4.568757057189941, 9.98282...  [4.0, 4.0]  \n",
      "25  [2.798846960067749, 7.236181735992432, 11.1866...       [4.0]  \n",
      "26  [1.8170522451400757, 3.8890469074249268, 9.161...       [5.0]  \n",
      "27  [3.811526298522949, -1.013426661491394, 10.512...       [5.0]  \n",
      "28  [-2.4591336250305176, 6.916897296905518, 5.359...       [2.0]  \n",
      "29  [1.3963041305541992, 6.0213775634765625, 10.53...       [1.0]  \n",
      "30  [0.41275209188461304, 4.8205437660217285, 3.60...       [0.0]  \n",
      "31  [-0.9175559878349304, 3.080693006515503, 7.583...       [3.0]  \n",
      "32  [0.6075807213783264, 6.371564865112305, 6.4857...  [2.0, 2.0]  \n",
      "33  [2.601243495941162, 3.498560905456543, 8.60008...       [6.0]  \n",
      "34  [1.0651750564575195, 1.9635779857635498, 12.48...       [4.0]  \n",
      "35  [3.7063920497894287, 2.3465416431427, 8.479870...  [5.0, 5.0]  \n",
      "36  [2.594373941421509, 2.7566447257995605, 8.9877...       [6.0]  \n",
      "37  [0.24465395510196686, 7.043337345123291, 4.187...       [2.0]  \n",
      "38  [0.25537076592445374, 2.6144533157348633, 10.2...       [4.0]  \n",
      "39  [-1.8856488466262817, 7.020641326904297, 2.757...       [0.0]  \n",
      "40  [-3.5017621517181396, -1.363652229309082, 11.2...       [3.0]  \n",
      "41  [1.4541727304458618, 4.924561500549316, 5.8994...       [0.0]  ,                                            summaries  level  cluster\n",
      "0   The text you provided is a documentation page...      7      4.0\n",
      "1   This code demonstrates how to create a self-q...      7      0.0\n",
      "2   Here is a summary of the contents of the prov...      7      5.0\n",
      "3   This is a documentation page for using parall...      7      2.0\n",
      "4   The provided document is a summary of the Lan...      7      1.0\n",
      "5   The documentation page provides a clear and c...      7      6.0\n",
      "6   It looks like you've provided a good overview...      7      3.0)}\n"
     ]
    }
   ],
   "source": [
    "print(len(results))\n",
    "print(results)"
   ]
  },
  {
   "cell_type": "code",
   "execution_count": 20,
   "metadata": {},
   "outputs": [],
   "source": [
    "from langchain_community.vectorstores import FAISS\n",
    "\n",
    "# leaf_texts를 복사하여 all_texts를 초기화합니다.\n",
    "all_texts = leaf_texts.copy()\n",
    "\n",
    "# 각 레벨의 요약을 추출하여 all_texts에 추가하기 위해 결과를 순회합니다.\n",
    "for level in sorted(results.keys()):\n",
    "    # 현재 레벨의 DataFrame에서 요약을 추출합니다.\n",
    "    summaries = results[level][1][\"summaries\"].tolist()\n",
    "    # 현재 레벨의 요약을 all_texts에 추가합니다.\n",
    "    all_texts.extend(summaries)\n",
    "\n",
    "# 이제 all_texts를 사용하여 FAISS vectorstore를 구축합니다.\n",
    "vectorstore = FAISS.from_texts(texts=all_texts, embedding=embd)"
   ]
  },
  {
   "cell_type": "code",
   "execution_count": 21,
   "metadata": {},
   "outputs": [],
   "source": [
    "import os\n",
    "\n",
    "DB_INDEX = \"RAPTOR\"\n",
    "\n",
    "# 로컬에 FAISS DB 인덱스가 이미 존재하는지 확인하고, 그렇다면 로드하여 vectorstore와 병합한 후 저장합니다.\n",
    "if os.path.exists(DB_INDEX):\n",
    "    local_index = FAISS.load_local(DB_INDEX, embd)\n",
    "    local_index.merge_from(vectorstore)\n",
    "    local_index.save_local(DB_INDEX)\n",
    "else:\n",
    "    vectorstore.save_local(folder_path=DB_INDEX)"
   ]
  },
  {
   "cell_type": "code",
   "execution_count": 22,
   "metadata": {},
   "outputs": [],
   "source": [
    "# retriever 생성\n",
    "retriever = vectorstore.as_retriever()"
   ]
  },
  {
   "cell_type": "code",
   "execution_count": 23,
   "metadata": {},
   "outputs": [],
   "source": [
    "from langchain import hub\n",
    "from langchain_core.runnables import RunnablePassthrough\n",
    "\n",
    "# 프롬프트 생성\n",
    "prompt = hub.pull(\"rlm/rag-prompt\")\n",
    "\n",
    "# 문서 포스트 프로세싱\n",
    "\n",
    "\n",
    "def format_docs(docs):\n",
    "    # 문서의 페이지 내용을 이어붙여 반환합니다.\n",
    "    return \"\\n\\n\".join(doc.page_content for doc in docs)\n",
    "\n",
    "\n",
    "# RAG 체인 정의\n",
    "rag_chain = (\n",
    "    # 검색 결과를 포맷팅하고 질문을 처리합니다.\n",
    "    {\"context\": retriever | format_docs, \"question\": RunnablePassthrough()}\n",
    "    | prompt  # 프롬프트를 적용합니다.\n",
    "    | model  # 모델을 적용합니다.\n",
    "    | StrOutputParser()  # 문자열 출력 파서를 적용합니다.\n",
    ")"
   ]
  },
  {
   "cell_type": "code",
   "execution_count": 24,
   "metadata": {},
   "outputs": [
    {
     "name": "stdout",
     "output_type": "stream",
     "text": [
      " The document provides a guide on using Parallel Execution in the LangChain Expression Language (LEL) to execute multiple elements simultaneously, focusing on the `RunnableParallel` class and batch processing for optimized results. It also offers insights into utilizing Large Language Models (LLMs) for information extraction applications, providing three approaches: Tool/Function Calling Mode, JSON Mode, and Prompting Based, with an emphasis on the Tool/Function Calling approach. The documentation includes best practices, a reference application, and additional resources for further learning.\n"
     ]
    }
   ],
   "source": [
    "# 추상적인 질문 실행\n",
    "print(rag_chain.invoke(\"Explain the subject of the whole document\"))"
   ]
  },
  {
   "cell_type": "code",
   "execution_count": 25,
   "metadata": {},
   "outputs": [
    {
     "name": "stdout",
     "output_type": "stream",
     "text": [
      " The documentation provides an overview of the RAG (Retrieval-and-Generation) architecture and its usage for Q&A applications using data from SQL databases or code (e.g., Python). It also introduces LangChain Expression Language (LCEL), which is a declarative way to compose chains together for efficient prototyping and production deployment of RAG applications.\n",
      "\n",
      "Here are some areas where I can provide feedback on this documentation page:\n",
      "\n",
      "1. Clarity and organization: The documentation is well-organized, with clear headings and subheadings that make it easy for users to find the information they need quickly. However, it would be helpful if there were more explanatory text around each section, as some concepts might not be immediately understandable without additional context.\n",
      "2. Terminology: Some terms used in the documentation, such as \"Retrieval-and-Generation\" (RAG), \"LangChain,\" and \"LCEL,\" may be unfamiliar to users who are new to these technologies. It would be helpful if there were brief explanations for each term in the initial sections of the documentation or a glossary of terms at the end.\n",
      "3. Examples and code snippets: The documentation could benefit from more examples and code snippets that demonstrate how to use RAG and LCEL in practice. This would help users better understand how to apply these concepts to their own projects.\n",
      "4. Links and resources: The documentation mentions other resources, such as the community Discord, Twitter, GitHub, and blog, but it would be helpful if there were direct links to these resources within the documentation itself. This would make it easier for users to access relevant information quickly.\n",
      "5. Updates and improvements: It is always useful for users to know when a document has been updated or improved. Adding a \"What's New\" section or version number at the beginning of the documentation would help users determine if they should refer to an older or newer version of the documentation based on their needs.\n",
      "6. Visualization and illustrations: Diagrams or flowcharts that visually represent the RAG architecture and LCEL workflow could be helpful in better understanding these concepts.\n",
      "7. Error handling and troubleshooting: The documentation should include information about common errors users may encounter when working with RAG and LCEL, as well as troubleshooting tips for resolving those issues.\n",
      "\n",
      "Overall, the documentation provides a good starting point for users interested in learning about RAG and LCEL. With some improvements, it could become even more helpful and user-friendly.\n"
     ]
    }
   ],
   "source": [
    "print(rag_chain.invoke(\"Write example python code using PydanticOutputParser\"))"
   ]
  },
  {
   "cell_type": "code",
   "execution_count": 26,
   "metadata": {},
   "outputs": [
    {
     "name": "stdout",
     "output_type": "stream",
     "text": [
      " Self-querying works by creating a retriever that fetches documents based on user queries and specified filters. In Python, this can be achieved using the LangChain library. The retriever consists of two main components: the query constructor chain and the structured query translator. The query constructor processes a user query, generating a StructuredQuery object with both the query term and relevant filters. The structured query translator then translates this generic StructuredQuery into a format compatible with the vector store being used. Here's an example of how to create a self-querying retriever:\n",
      "\n",
      "```python\n",
      "retriever = SelfQueryRetriever(\n",
      "    query_constructor=your_customized_query_constructor,\n",
      "    vectorstore=your_vector_store_instance,\n",
      "    structured_query_translator=ChromaTranslator()  # for Chroma vector store compatibility\n",
      ")\n",
      "\n",
      "results = retriever.invoke(\"Your query here\")\n",
      "for result in results:\n",
      "    print(result)\n",
      "```\n",
      "\n",
      "For more details and examples, refer to the LangChain cookbook or documentation.\n"
     ]
    }
   ],
   "source": [
    "print(rag_chain.invoke(\"Explain how self-query works and write example python code\"))"
   ]
  },
  {
   "cell_type": "code",
   "execution_count": null,
   "metadata": {},
   "outputs": [],
   "source": []
  }
 ],
 "metadata": {
  "kernelspec": {
   "display_name": "llm-study",
   "language": "python",
   "name": "python3"
  },
  "language_info": {
   "codemirror_mode": {
    "name": "ipython",
    "version": 3
   },
   "file_extension": ".py",
   "mimetype": "text/x-python",
   "name": "python",
   "nbconvert_exporter": "python",
   "pygments_lexer": "ipython3",
   "version": "3.11.9"
  }
 },
 "nbformat": 4,
 "nbformat_minor": 2
}
