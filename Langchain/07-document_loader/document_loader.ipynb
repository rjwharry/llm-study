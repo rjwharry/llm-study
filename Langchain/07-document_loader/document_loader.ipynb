{
 "cells": [
  {
   "cell_type": "markdown",
   "metadata": {},
   "source": [
    "# Loader Interface\n",
    "- loader 객체: 다양한 loader 도구(클래스)를 통해 객체를 생성\n",
    "- `load()`: 전체 문서를 로드하여 반환\n",
    "- `load_and_split()`: 문서를 split한 결과를 반환"
   ]
  },
  {
   "cell_type": "code",
   "execution_count": 1,
   "metadata": {},
   "outputs": [
    {
     "data": {
      "text/plain": [
       "True"
      ]
     },
     "execution_count": 1,
     "metadata": {},
     "output_type": "execute_result"
    }
   ],
   "source": [
    "# API 키를 환경변수로 관리하기 위한 설정 파일\n",
    "from dotenv import load_dotenv\n",
    "\n",
    "# API 키 정보 로드\n",
    "load_dotenv()"
   ]
  },
  {
   "cell_type": "markdown",
   "metadata": {},
   "source": [
    "## PyPDFLoader\n",
    "- PDF 문서를 불러올 때 사용"
   ]
  },
  {
   "cell_type": "code",
   "execution_count": 4,
   "metadata": {},
   "outputs": [
    {
     "name": "stdout",
     "output_type": "stream",
     "text": [
      "문서의 수: 23\n"
     ]
    }
   ],
   "source": [
    "from langchain.document_loaders import PyPDFLoader\n",
    "\n",
    "# PDF 파일 로드. 파일의 경로 입력\n",
    "loader = PyPDFLoader(\"./data/SPRI_AI_Brief_2023년12월호_F.pdf\")\n",
    "\n",
    "# 페이지 별 문서 로드\n",
    "split_docs = loader.load_and_split()\n",
    "\n",
    "print(f\"문서의 수: {len(split_docs)}\")"
   ]
  },
  {
   "cell_type": "code",
   "execution_count": 5,
   "metadata": {},
   "outputs": [
    {
     "data": {
      "text/plain": [
       "Document(page_content='2023 년 12월호\\nⅠ. 인공지능 산업 동향 브리프\\n 1. 정책/법제 \\n   ▹ 미국, 안전하고 신뢰할 수 있는 AI 개발과 사용에 관한 행정명령 발표  ························· 1\\n   ▹ G7, 히로시마 AI 프로세스를 통해 AI 기업 대상 국제 행동강령에 합의··························· 2\\n   ▹ 영국 AI 안전성 정상회의에 참가한 28개국, AI 위험에 공동 대응 선언··························· 3\\n   ▹ 미국 법원, 예술가들이 생성 AI 기업에 제기한 저작권 소송 기각····································· 4\\n   ▹ 미국 연방거래위원회 , 저작권청에 소비자 보호와 경쟁 측면의 AI 의견서 제출················· 5\\n   ▹ EU AI 법 3자 협상, 기반모델 규제 관련 견해차로 난항··················································· 6\\n \\n 2. 기업/산업 \\n   ▹ 미국 프런티어 모델 포럼, 1,000 만 달러 규모의 AI 안전 기금 조성································ 7\\n   ▹ 코히어 , 데이터 투명성 확보를 위한 데이터 출처 탐색기 공개  ······································· 8\\n   ▹ 알리바바 클라우드 , 최신 LLM ‘통이치엔원 2.0’ 공개 ······················································ 9\\n   ▹ 삼성전자 , 자체 개발 생성 AI ‘삼성 가우스 ’ 공개 ··························································· 10\\n   ▹ 구글, 앤스로픽에 20억 달러 투자로 생성 AI 협력 강화 ················································ 11\\n   ▹ IDC, 2027 년 AI 소프트웨어 매출 2,500 억 달러 돌파 전망··········································· 12\\n   ▹ 빌 게이츠 , AI 에이전트로 인한 컴퓨터 사용의 패러다임 변화 전망································ 13\\n   ▹ 유튜브 , 2024 년부터 AI 생성 콘텐츠 표시 의무화 ···························································· 14\\n 3. 기술/연구\\n   ▹ 영국 과학혁신기술부 , AI 안전 연구소 설립 발표······························································ 15\\n   ▹ 구글 딥마인드 , 범용 AI 모델의 기능과 동작에 대한 분류 체계 발표······························ 16\\n   ▹ 갈릴레오의 LLM 환각 지수 평가에서 GPT-4 가 가장 우수 ··········································· 17\\n   \\n 4. 인력/교육     \\n   ▹ 영국 옥스퍼드 인터넷 연구소 , AI 기술자의 임금이 평균 21% 높아······························· 18\\n   \\n   \\n \\nⅡ. 주요 행사\\n   ▹CES 2024 ····························································································································· 19\\n   ▹AIMLA 2024 ························································································································· 19\\n   ▹AAAI Conference on Artificial Intelligence ·································································· 19', metadata={'source': './data/SPRI_AI_Brief_2023년12월호_F.pdf', 'page': 1})"
      ]
     },
     "execution_count": 5,
     "metadata": {},
     "output_type": "execute_result"
    }
   ],
   "source": [
    "split_docs[1]"
   ]
  },
  {
   "cell_type": "markdown",
   "metadata": {},
   "source": [
    "## PyMuPDF\n",
    "- PDF 내에 모든 텍스트를 문자열 형식으로 로드하여 하나의 큰 문자열로 합친 뒤, 이를 split하는 방식"
   ]
  },
  {
   "cell_type": "code",
   "execution_count": 8,
   "metadata": {},
   "outputs": [
    {
     "name": "stdout",
     "output_type": "stream",
     "text": [
      " 개발하고, 주택 임대 시 AI 알고리즘 차별을 막기 위한 명확한 \n",
      "지침을 제공하며, 보건복지 부문에서 책임 있는 AI 배포와 사용을 위한 전략을 마련 \n",
      "n (소비자 보호와 근로자 지원) 의료 분야에서 책임 있는 AI 사용을 촉진하고 맞춤형 개인교습 등 학교 \n",
      "내 AI 교육 도구 관련 자원을 개발하며, AI로 인한 근로자 피해를 완화하고 이점을 극대화하는 원칙과 \n",
      "모범사례를 마련\n",
      "n (혁신과 경쟁 촉진) 국가AI연구자원(National Artificial Intelligence Research Resource, NAIRR)*을 \n",
      "통해 미국 전역의 AI 연구를 촉진하고, 중소기업과 개발자에 기술과 인프라를 지원\n",
      "* 국가 차원에서 AI 연구 인프라를 확충해 더 많은 AI 연구자에게 인프라를 지원하는 프로그램 \n",
      "∙비자 기준과 인터뷰 절차의 현대화와 간소화로 AI 관련 주요 분야의 전문 지식을 갖춘 외국인들이 미국에서 \n",
      "공부하고 취업할 수 있도록 지원\n",
      "☞ 출처 : The White House, Executive Order on the Safe, Secure, and Trustworthy Development and Use of \n",
      "Artificial Intelligence (E.O. 14110), 2023.10.30.\n",
      "SPRi AI Brief |  \n",
      "2023-12월호\n",
      "2\n",
      "G7, 히로시마 AI 프로세스를 통해 AI 기업 대상 국제 행동강령에 합의\n",
      "n G7이 첨단 AI 시스템을 개발하는 기업을 대상으로 AI 위험 식별과 완화를 위해 자발적인 \n",
      "채택을 권고하는 AI 국제 행동강령을 마련\n",
      "n 행동강령은 AI 수명주기 전반에 걸친 위험 평가와 완화, 투명성과 책임성의 보장, 정보공유와 \n",
      "이해관계자 간 협력, 보안 통제, 콘텐츠 인증과 출처 확인 등의 조치를 요구\n",
      "KEY Contents\n",
      "£ G7, 첨단 AI 시스템의 위험 관리를 위한 국제 행동강령 마련\n",
      "n 주요 7개국(G7)*은 2023년 10월 30일 ‘히로시마 AI 프로세스’를 통해 AI 기업 대상의 AI 국제 \n",
      "행동강령(I\n"
     ]
    }
   ],
   "source": [
    "import fitz\n",
    "\n",
    "# 파일열기\n",
    "doc = fitz.open(\"./data/SPRI_AI_Brief_2023년12월호_F.pdf\")\n",
    "\n",
    "\n",
    "# 페이지별로 문서를 읽어오면서 하나의 문자열에 append 하여 결합\n",
    "texts = \"\"\n",
    "for page in doc:\n",
    "    texts += page.get_text()\n",
    "\n",
    "# 일부 글자만 출력\n",
    "print(texts[3000:4000])"
   ]
  },
  {
   "cell_type": "code",
   "execution_count": 9,
   "metadata": {},
   "outputs": [
    {
     "name": "stdout",
     "output_type": "stream",
     "text": [
      "문서의 수: 15\n"
     ]
    }
   ],
   "source": [
    "from langchain.text_splitter import RecursiveCharacterTextSplitter\n",
    "\n",
    "text_splitter = RecursiveCharacterTextSplitter(\n",
    "    chunk_size=2000,\n",
    "    chunk_overlap=50,\n",
    "    length_function=len,\n",
    "    separators=[\"\\n\\n\", \"\\n\", \"(?<=\\. )\", \" \", \"\"],\n",
    ")\n",
    "\n",
    "split_texts = text_splitter.split_text(texts)\n",
    "print(f\"문서의 수: {len(split_texts)}\")"
   ]
  },
  {
   "cell_type": "markdown",
   "metadata": {},
   "source": [
    "## PDFPlumber\n",
    "- 페이지당 하나의 문서를 반환하며, PDF 내용과 자세한 메타데이터를 포함한다."
   ]
  },
  {
   "cell_type": "code",
   "execution_count": 11,
   "metadata": {},
   "outputs": [
    {
     "name": "stdout",
     "output_type": "stream",
     "text": [
      "문서의 수: 23\n"
     ]
    }
   ],
   "source": [
    "from langchain_community.document_loaders import PDFPlumberLoader\n",
    "\n",
    "loader = PDFPlumberLoader(\"./data/SPRI_AI_Brief_2023년12월호_F.pdf\")\n",
    "docs = loader.load()\n",
    "print(f\"문서의 수: {len(docs)}\")"
   ]
  },
  {
   "cell_type": "code",
   "execution_count": 12,
   "metadata": {},
   "outputs": [
    {
     "data": {
      "text/plain": [
       "{'source': './data/SPRI_AI_Brief_2023년12월호_F.pdf',\n",
       " 'file_path': './data/SPRI_AI_Brief_2023년12월호_F.pdf',\n",
       " 'page': 0,\n",
       " 'total_pages': 23,\n",
       " 'Author': 'dj',\n",
       " 'Creator': 'Hwp 2018 10.0.0.13462',\n",
       " 'Producer': 'Hancom PDF 1.3.0.542',\n",
       " 'CreationDate': \"D:20231208132838+09'00'\",\n",
       " 'ModDate': \"D:20231208132838+09'00'\",\n",
       " 'PDFVersion': '1.4'}"
      ]
     },
     "execution_count": 12,
     "metadata": {},
     "output_type": "execute_result"
    }
   ],
   "source": [
    "docs[0].metadata"
   ]
  },
  {
   "cell_type": "code",
   "execution_count": 14,
   "metadata": {},
   "outputs": [
    {
     "data": {
      "text/plain": [
       "'1. 정책/법제 2. 기업/산업 3. 기술/연구 4. 인력/교육\\n미국, 안전하고 신뢰할 수 있는 AI 개발과 사용에 관한 행정명령 발표\\nKEY Contents\\nn 미국 바이든 대통령이 ‘안전하고 신뢰할 수 있는 AI 개발과 사용에 관한 행정명령’에 서명하고\\n광범위한 행정 조치를 명시\\nn 행정명령은 △AI의 안전과 보안 기준 마련 △개인정보보호 △형평성과 시민권 향상 △소비자\\n보호 △노동자 지원 △혁신과 경쟁 촉진 △국제협력을 골자로 함\\n£바이든 대통령, AI 행정명령 통해 안전하고 신뢰할 수 있는 AI 개발과 활용 추진\\nn 미국 바이든 대통령이 2023년 10월 30일 연방정부 차원에서 안전하고 신뢰할 수 있는 AI 개발과\\n사용을 보장하기 위한 행정명령을 발표\\n∙ 행정명령은 △AI의 안전과 보안 기준 마련 △개인정보보호 △형평성과 시민권 향상 △소비자 보호\\n△노동자 지원 △혁신과 경쟁 촉진 △국제협력에 관한 내용을 포괄\\nn (AI 안전과 보안 기준) 강력한 AI 시스템을 개발하는 기업에게 안전 테스트 결과와 시스템에 관한\\n주요 정보를 미국 정부와 공유할 것을 요구하고, AI 시스템의 안전성과 신뢰성 확인을 위한 표준 및\\nAI 생성 콘텐츠 표시를 위한 표준과 모범사례 확립을 추진\\n∙ △1026 플롭스(FLOPS, Floating Point Operation Per Second)를 초과하는 컴퓨팅 성능 또는 생물학적\\n서열 데이터를 주로 사용하고 1023플롭스를 초과하는 컴퓨팅 성능을 사용하는 모델 △단일 데이터센터에서\\n1,000Gbit/s 이상의 네트워킹으로 연결되며 AI 훈련에서 이론상 최대 1020 플롭스를 처리할 수 있는\\n컴퓨팅 용량을 갖춘 컴퓨팅 클러스터가 정보공유 요구대상\\nn (형평성과 시민권 향상) 법률, 주택, 보건 분야에서 AI의 무책임한 사용으로 인한 차별과 편견 및 기타\\n문제를 방지하는 조치를 확대\\n∙ 형사사법 시스템에서 AI 사용 모범사례를 개발하고, 주택 임대 시 AI 알고리즘 차별을 막기 위한 명확한\\n지침을 제공하며, 보건복지 부문에서 책임 있는 AI 배포와 사용을 위한 전략을 마련\\nn (소비자 보호와 근로자 지원) 의료 분야에서 책임 있는 AI 사용을 촉진하고 맞춤형 개인교습 등 학교\\n내 AI 교육 도구 관련 자원을 개발하며, AI로 인한 근로자 피해를 완화하고 이점을 극대화하는 원칙과\\n모범사례를 마련\\nn (혁신과 경쟁 촉진) 국가AI연구자원(National Artificial Intelligence Research Resource, NAIRR)*을\\n통해 미국 전역의 AI 연구를 촉진하고, 중소기업과 개발자에 기술과 인프라를 지원\\n* 국가 차원에서 AI 연구 인프라를 확충해 더 많은 AI 연구자에게 인프라를 지원하는 프로그램\\n∙ 비자 기준과 인터뷰 절차의 현대화와 간소화로 AI 관련 주요 분야의 전문 지식을 갖춘 외국인들이 미국에서\\n공부하고 취업할 수 있도록 지원\\n☞ 출처 : The White House, Executive Order on the Safe, Secure, and Trustworthy Development and Use of\\nArtificial Intelligence (E.O. 14110), 2023.10.30.\\n'"
      ]
     },
     "execution_count": 14,
     "metadata": {},
     "output_type": "execute_result"
    }
   ],
   "source": [
    "docs[3].page_content"
   ]
  },
  {
   "cell_type": "markdown",
   "metadata": {},
   "source": [
    "# UnstructuredPDFLoader\n",
    "- 내부적으로 텍스트 덩어리마다 서로 다른 \"element\"를 가지고 있으며, `mode=\"elements\"`를 지정하면 덩어리별로 문서를 반환한다."
   ]
  },
  {
   "cell_type": "code",
   "execution_count": 21,
   "metadata": {},
   "outputs": [
    {
     "name": "stderr",
     "output_type": "stream",
     "text": [
      "[nltk_data] Downloading package punkt to /home/dudaji/nltk_data...\n",
      "[nltk_data]   Unzipping tokenizers/punkt.zip.\n",
      "[nltk_data] Downloading package averaged_perceptron_tagger to\n",
      "[nltk_data]     /home/dudaji/nltk_data...\n",
      "[nltk_data]   Unzipping taggers/averaged_perceptron_tagger.zip.\n"
     ]
    },
    {
     "name": "stdout",
     "output_type": "stream",
     "text": [
      "문서의 수: 652\n"
     ]
    }
   ],
   "source": [
    "from langchain_community.document_loaders import UnstructuredPDFLoader\n",
    "\n",
    "loader = UnstructuredPDFLoader(\"./data/SPRI_AI_Brief_2023년12월호_F.pdf\", mode=\"elements\")\n",
    "docs = loader.load()\n",
    "print(f\"문서의 수: {len(docs)}\")"
   ]
  },
  {
   "cell_type": "code",
   "execution_count": 22,
   "metadata": {},
   "outputs": [
    {
     "data": {
      "text/plain": [
       "{'source': './data/SPRI_AI_Brief_2023년12월호_F.pdf',\n",
       " 'coordinates': {'points': ((256.579467, 282.444348),\n",
       "   (256.579467, 303.42387300000007),\n",
       "   (355.4236898438, 303.42387300000007),\n",
       "   (355.4236898438, 282.444348)),\n",
       "  'system': 'PixelSpace',\n",
       "  'layout_width': 612,\n",
       "  'layout_height': 858},\n",
       " 'file_directory': './data',\n",
       " 'filename': 'SPRI_AI_Brief_2023년12월호_F.pdf',\n",
       " 'languages': ['eng'],\n",
       " 'last_modified': '2024-06-02T16:44:24',\n",
       " 'page_number': 1,\n",
       " 'filetype': 'application/pdf',\n",
       " 'category': 'UncategorizedText'}"
      ]
     },
     "execution_count": 22,
     "metadata": {},
     "output_type": "execute_result"
    }
   ],
   "source": [
    "docs[0].metadata"
   ]
  },
  {
   "cell_type": "code",
   "execution_count": 23,
   "metadata": {},
   "outputs": [
    {
     "data": {
      "text/plain": [
       "{'source': './data/SPRI_AI_Brief_2023년12월호_F.pdf',\n",
       " 'coordinates': {'points': ((157.56, 270.88800000000003),\n",
       "   (157.56, 281.928),\n",
       "   (223.522032, 281.928),\n",
       "   (223.522032, 270.88800000000003)),\n",
       "  'system': 'PixelSpace',\n",
       "  'layout_width': 612,\n",
       "  'layout_height': 858},\n",
       " 'file_directory': './data',\n",
       " 'filename': 'SPRI_AI_Brief_2023년12월호_F.pdf',\n",
       " 'languages': ['eng'],\n",
       " 'last_modified': '2024-06-02T16:44:24',\n",
       " 'page_number': 2,\n",
       " 'parent_id': '681f54ee913d24083279b457d31994e9',\n",
       " 'filetype': 'application/pdf',\n",
       " 'category': 'ListItem'}"
      ]
     },
     "execution_count": 23,
     "metadata": {},
     "output_type": "execute_result"
    }
   ],
   "source": [
    "docs[3].metadata\n"
   ]
  },
  {
   "cell_type": "code",
   "execution_count": 24,
   "metadata": {},
   "outputs": [
    {
     "data": {
      "text/plain": [
       "'2. 기업/산업'"
      ]
     },
     "execution_count": 24,
     "metadata": {},
     "output_type": "execute_result"
    }
   ],
   "source": [
    "docs[10].page_content\n"
   ]
  },
  {
   "cell_type": "markdown",
   "metadata": {},
   "source": [
    "## PyPDF Directory\n",
    "폴더 안에 있는 모든 PDF 파일을 로드"
   ]
  },
  {
   "cell_type": "code",
   "execution_count": 25,
   "metadata": {},
   "outputs": [],
   "source": [
    "from langchain_community.document_loaders import PyPDFDirectoryLoader\n",
    "\n",
    "loader = PyPDFDirectoryLoader(\"./data/\")\n",
    "docs = loader.load()"
   ]
  },
  {
   "cell_type": "code",
   "execution_count": 26,
   "metadata": {},
   "outputs": [
    {
     "name": "stdout",
     "output_type": "stream",
     "text": [
      "문서의 수: 23\n",
      "\n",
      "[메타데이터]\n",
      "\n",
      "{'source': 'data/SPRI_AI_Brief_2023년12월호_F.pdf', 'page': 10}\n",
      "\n",
      "========= [앞부분] 미리보기 =========\n",
      "\n",
      "SPRi AI Brief |  \n",
      "2023-12 월호\n",
      "8코히어 , 데이터 투명성 확보를 위한 데이터 출처 탐색기 공개\n",
      "n코히어와 12개 기관이  광범위한 데이터셋에 대한 감사를 통해 원본 데이터 출처, 재라이선스 상태, \n",
      "작성자 등 다양한 정보를 제공하는 ‘데이터 출처 탐색기 ’ 플랫폼을 출시\n",
      "n대화형 플랫폼을 통해 개발자는 데이터셋의 라이선스 상태를 쉽게 파악할 수 있으며 데이터셋의 \n",
      "구성과 계보도 추적 가능KEY Contents\n",
      "£데이터 출처 탐색기 , 광범위한 데이터셋 정보 제공을 통해 데이터 투명성 향상\n",
      "nAI 기업 코히어 (Cohere) 가 매사추세츠 공과⼤(MIT), 하버드 ⼤ 로스쿨 , 카네기멜론 ⼤ 등 12개 기관과  \n",
      "함께 2023 년 10월 25일 ‘데이터 출처 탐색기 (Data Provenance Explorer)’ 플랫폼을 공개\n",
      "∙AI 모델 훈련에 사용되는 데이터셋의 불분명한 출처로 인해 데이터 투명성이 확보되지 않아 다양한 \n",
      "법적·윤리적 문제가 발생\n",
      "∙이에 연구\n"
     ]
    }
   ],
   "source": [
    "print(f\"문서의 수: {len(docs)}\\n\")\n",
    "print(\"[메타데이터]\\n\")\n",
    "print(docs[10].metadata)\n",
    "print(\"\\n========= [앞부분] 미리보기 =========\\n\")\n",
    "print(docs[10].page_content[:500])"
   ]
  },
  {
   "cell_type": "markdown",
   "metadata": {},
   "source": [
    "## CSV\n",
    "- 한 row가 문서 하나가 된다"
   ]
  },
  {
   "cell_type": "code",
   "execution_count": 30,
   "metadata": {},
   "outputs": [],
   "source": [
    "from langchain_community.document_loaders.csv_loader import CSVLoader\n",
    "\n",
    "\n",
    "loader = CSVLoader(file_path=\"data/titanic.csv\")\n",
    "data = loader.load()"
   ]
  },
  {
   "cell_type": "code",
   "execution_count": 31,
   "metadata": {},
   "outputs": [
    {
     "data": {
      "text/plain": [
       "20"
      ]
     },
     "execution_count": 31,
     "metadata": {},
     "output_type": "execute_result"
    }
   ],
   "source": [
    "len(data)"
   ]
  },
  {
   "cell_type": "code",
   "execution_count": 33,
   "metadata": {},
   "outputs": [
    {
     "name": "stdout",
     "output_type": "stream",
     "text": [
      "page_content='PassengerId: 11\\nSurvived: 1\\nPclass: 3\\nName: Sandstrom, Miss. Marguerite Rut\\nSex: female\\nAge: 4\\nSibSp: 1\\nParch: 1\\nTicket: PP 9549\\nFare: 16.7\\nCabin: G6\\nEmbarked: S' metadata={'source': 'data/titanic.csv', 'row': 10}\n",
      "PassengerId: 11\n",
      "Survived: 1\n",
      "Pclass: 3\n",
      "Name: Sandstrom, Miss. Marguerite Rut\n",
      "Sex: female\n",
      "Age: 4\n",
      "SibSp: 1\n",
      "Parch: 1\n",
      "Ticket: PP 9549\n",
      "Fare: 16.7\n",
      "Cabin: G6\n",
      "Embarked: S\n"
     ]
    }
   ],
   "source": [
    "print(data[10])\n",
    "print(data[10].page_content)\n"
   ]
  },
  {
   "cell_type": "markdown",
   "metadata": {},
   "source": [
    "## HTML\n",
    "- 기본 mode는 single이지만 elements로 하면 unstructured 라이브러리를 통해 HTML을 쪼개서 문서를 반환한다."
   ]
  },
  {
   "cell_type": "code",
   "execution_count": 34,
   "metadata": {},
   "outputs": [
    {
     "data": {
      "text/plain": [
       "[Document(page_content='Name: 박시우\\n\\nAge: 31\\n\\nIsmarried: True\\n\\nCarownership: True\\n\\nAddress: street: 312번지, city: 서울, zipCode: 83795\\n\\nPhonenumbers: 483-4639-1933, 947-4179-7976\\n\\nHobbies: 요리, 음악 감상, 사진 촬영\\n\\nName: 정수아\\n\\nAge: 31\\n\\nIsmarried: False\\n\\nCarownership: True\\n\\nAddress: street: 877번지, city: 서울, zipCode: 36780\\n\\nPhonenumbers: 337-5721-3227, 387-3768-9586\\n\\nHobbies: 여행, 음악 감상, 등산\\n\\nName: 최도윤\\n\\nAge: 43\\n\\nIsmarried: False\\n\\nCarownership: True\\n\\nAddress: street: 175번지, city: 서울, zipCode: 89067\\n\\nPhonenumbers: 354-5563-4638, 471-9212-1826\\n\\nHobbies: 등산, 독서, 게임\\n\\nName: 정민준\\n\\nAge: 22\\n\\nIsmarried: False\\n\\nCarownership: False\\n\\nAddress: street: 690번지, city: 서울, zipCode: 70635\\n\\nPhonenumbers: 468-2796-2152, 922-5760-7030\\n\\nHobbies: 여행, 등산, 게임\\n\\nName: 이민준\\n\\nAge: 79\\n\\nIsmarried: True\\n\\nCarownership: False\\n\\nAddress: street: 151번지, city: 서울, zipCode: 79118\\n\\nPhonenumbers: 751-2823-8259, 722-7267-9516\\n\\nHobbies: 게임, 영화 감상, 음악 감상\\n\\nName: 최도윤\\n\\nAge: 64\\n\\nIsmarried: False\\n\\nCarownership: True\\n\\nAddress: street: 855번지, city: 서울, zipCode: 21216\\n\\nPhonenumbers: 462-4433-5968, 483-1709-4850\\n\\nHobbies: 독서, 등산, 요리\\n\\nName: 최지훈\\n\\nAge: 72\\n\\nIsmarried: True\\n\\nCarownership: True\\n\\nAddress: street: 683번지, city: 서울, zipCode: 75013\\n\\nPhonenumbers: 382-2779-3692, 835-4343-5346\\n\\nHobbies: 여행, 사진 촬영, 독서\\n\\nName: 정도윤\\n\\nAge: 77\\n\\nIsmarried: True\\n\\nCarownership: False\\n\\nAddress: street: 547번지, city: 서울, zipCode: 33986\\n\\nPhonenumbers: 136-2831-1021, 818-9721-7208\\n\\nHobbies: 독서, 등산, 음악 감상\\n\\nName: 정하린\\n\\nAge: 44\\n\\nIsmarried: False\\n\\nCarownership: True\\n\\nAddress: street: 304번지, city: 서울, zipCode: 69380\\n\\nPhonenumbers: 423-5001-2734, 256-4271-3750\\n\\nHobbies: 독서, 게임, 여행\\n\\nName: 김예준\\n\\nAge: 26\\n\\nIsmarried: False\\n\\nCarownership: True\\n\\nAddress: street: 924번지, city: 서울, zipCode: 77191\\n\\nPhonenumbers: 668-1157-6180, 815-9997-6459\\n\\nHobbies: 등산, 독서, 여행\\n\\nName: 최수아\\n\\nAge: 48\\n\\nIsmarried: True\\n\\nCarownership: True\\n\\nAddress: street: 539번지, city: 서울, zipCode: 67491\\n\\nPhonenumbers: 745-5529-4411, 437-3892-3668\\n\\nHobbies: 요리, 게임, 등산\\n\\nName: 이서연\\n\\nAge: 41\\n\\nIsmarried: False\\n\\nCarownership: True\\n\\nAddress: street: 358번지, city: 서울, zipCode: 70195\\n\\nPhonenumbers: 914-2071-3446, 539-6835-4629\\n\\nHobbies: 여행, 영화 감상, 요리\\n\\nName: 이지훈\\n\\nAge: 61\\n\\nIsmarried: True\\n\\nCarownership: True\\n\\nAddress: street: 741번지, city: 서울, zipCode: 82600\\n\\nPhonenumbers: 709-3578-3445, 907-3295-1822\\n\\nHobbies: 영화 감상, 독서, 여행\\n\\nName: 최서연\\n\\nAge: 47\\n\\nIsmarried: False\\n\\nCarownership: True\\n\\nAddress: street: 932번지, city: 서울, zipCode: 57742\\n\\nPhonenumbers: 508-9125-7029, 939-1920-5084\\n\\nHobbies: 사진 촬영, 등산, 요리\\n\\nName: 이민준\\n\\nAge: 23\\n\\nIsmarried: True\\n\\nCarownership: False\\n\\nAddress: street: 603번지, city: 서울, zipCode: 30841\\n\\nPhonenumbers: 891-2980-9497, 811-3249-9899\\n\\nHobbies: 등산, 독서, 여행\\n\\nName: 박하은\\n\\nAge: 52\\n\\nIsmarried: False\\n\\nCarownership: False\\n\\nAddress: street: 464번지, city: 서울, zipCode: 91295\\n\\nPhonenumbers: 499-4872-5904, 140-3733-7715\\n\\nHobbies: 게임, 음악 감상, 요리\\n\\nName: 정수아\\n\\nAge: 61\\n\\nIsmarried: False\\n\\nCarownership: True\\n\\nAddress: street: 401번지, city: 서울, zipCode: 71129\\n\\nPhonenumbers: 672-6315-8675, 975-1259-1656\\n\\nHobbies: 음악 감상, 요리, 여행\\n\\nName: 이지훈\\n\\nAge: 19\\n\\nIsmarried: False\\n\\nCarownership: False\\n\\nAddress: street: 356번지, city: 서울, zipCode: 40080\\n\\nPhonenumbers: 853-1953-3723, 408-3476-1336\\n\\nHobbies: 등산, 영화 감상, 요리\\n\\nName: 최도윤\\n\\nAge: 52\\n\\nIsmarried: True\\n\\nCarownership: True\\n\\nAddress: street: 940번지, city: 서울, zipCode: 60335\\n\\nPhonenumbers: 290-8270-9786, 483-1765-4028\\n\\nHobbies: 요리, 사진 촬영, 등산\\n\\nName: 최주원\\n\\nAge: 18\\n\\nIsmarried: True\\n\\nCarownership: True\\n\\nAddress: street: 289번지, city: 서울, zipCode: 59793\\n\\nPhonenumbers: 460-4533-7245, 344-2344-7362\\n\\nHobbies: 여행, 요리, 영화 감상', metadata={'source': 'data/client.html'})]"
      ]
     },
     "execution_count": 34,
     "metadata": {},
     "output_type": "execute_result"
    }
   ],
   "source": [
    "from langchain_community.document_loaders import UnstructuredHTMLLoader\n",
    "\n",
    "loader = UnstructuredHTMLLoader(\"data/client.html\")\n",
    "docs = loader.load()\n",
    "docs"
   ]
  },
  {
   "cell_type": "code",
   "execution_count": 36,
   "metadata": {},
   "outputs": [
    {
     "name": "stdout",
     "output_type": "stream",
     "text": [
      "문서의 수: 1\n",
      "\n",
      "[메타데이터]\n",
      "\n",
      "{'source': 'data/client.html'}\n",
      "\n",
      "========= [앞부분] 미리보기 =========\n",
      "\n",
      "Name: 박시우\n",
      "\n",
      "Age: 31\n",
      "\n",
      "Ismarried: True\n",
      "\n",
      "Carownership: True\n",
      "\n",
      "Address: street: 312번지, city: 서울, zipCode: 83795\n",
      "\n",
      "Phonenumbers: 483-4639-1933, 947-4179-7976\n",
      "\n",
      "Hobbies: 요리, 음악 감상, 사진 촬영\n",
      "\n",
      "Name: 정수아\n",
      "\n",
      "Age: 31\n",
      "\n",
      "Ismarried: False\n",
      "\n",
      "Carownership: True\n",
      "\n",
      "Address: street: 877번지, city: 서울, zipCode: 36780\n",
      "\n",
      "Phonenumbers: 337-5721-3227, 387-3768-9586\n",
      "\n",
      "Hobbies: 여행, 음악 감상, 등산\n",
      "\n",
      "Name: 최도윤\n",
      "\n",
      "Age: 43\n",
      "\n",
      "Ismarried: False\n",
      "\n",
      "Carownership: True\n",
      "\n",
      "Address: street: 175번지, city: 서울, zipCode: 89067\n",
      "\n",
      "Phonenumbers: 354-5563-4638, 471-9212-\n"
     ]
    }
   ],
   "source": [
    "print(f\"문서의 수: {len(docs)}\\n\")\n",
    "print(\"[메타데이터]\\n\")\n",
    "print(docs[0].metadata)\n",
    "print(\"\\n========= [앞부분] 미리보기 =========\\n\")\n",
    "print(docs[0].page_content[:500])"
   ]
  },
  {
   "cell_type": "code",
   "execution_count": 43,
   "metadata": {},
   "outputs": [
    {
     "data": {
      "text/plain": [
       "[Document(page_content='Name: 박시우', metadata={'source': 'data/client.html', 'category_depth': 0, 'last_modified': '2024-06-02T17:03:39', 'languages': ['eng'], 'file_directory': 'data', 'filename': 'client.html', 'filetype': 'text/html', 'category': 'Title'}),\n",
       " Document(page_content='Age: 31', metadata={'source': 'data/client.html', 'category_depth': 0, 'last_modified': '2024-06-02T17:03:39', 'languages': ['eng'], 'file_directory': 'data', 'filename': 'client.html', 'filetype': 'text/html', 'category': 'Title'}),\n",
       " Document(page_content='Ismarried: True', metadata={'source': 'data/client.html', 'category_depth': 0, 'last_modified': '2024-06-02T17:03:39', 'languages': ['eng'], 'file_directory': 'data', 'filename': 'client.html', 'filetype': 'text/html', 'category': 'Title'}),\n",
       " Document(page_content='Carownership: True', metadata={'source': 'data/client.html', 'category_depth': 0, 'last_modified': '2024-06-02T17:03:39', 'languages': ['eng'], 'file_directory': 'data', 'filename': 'client.html', 'filetype': 'text/html', 'category': 'Title'}),\n",
       " Document(page_content='Address: street: 312번지, city: 서울, zipCode: 83795', metadata={'source': 'data/client.html', 'category_depth': 0, 'last_modified': '2024-06-02T17:03:39', 'languages': ['eng'], 'file_directory': 'data', 'filename': 'client.html', 'filetype': 'text/html', 'category': 'Title'}),\n",
       " Document(page_content='Phonenumbers: 483-4639-1933, 947-4179-7976', metadata={'source': 'data/client.html', 'last_modified': '2024-06-02T17:03:39', 'languages': ['eng'], 'parent_id': 'aea06cdea974886a3dbb6311b6bcc254', 'file_directory': 'data', 'filename': 'client.html', 'filetype': 'text/html', 'category': 'UncategorizedText'}),\n",
       " Document(page_content='Hobbies: 요리, 음악 감상, 사진 촬영', metadata={'source': 'data/client.html', 'category_depth': 0, 'last_modified': '2024-06-02T17:03:39', 'languages': ['eng'], 'file_directory': 'data', 'filename': 'client.html', 'filetype': 'text/html', 'category': 'Title'}),\n",
       " Document(page_content='Name: 정수아', metadata={'source': 'data/client.html', 'category_depth': 0, 'last_modified': '2024-06-02T17:03:39', 'languages': ['eng'], 'file_directory': 'data', 'filename': 'client.html', 'filetype': 'text/html', 'category': 'Title'}),\n",
       " Document(page_content='Age: 31', metadata={'source': 'data/client.html', 'category_depth': 0, 'last_modified': '2024-06-02T17:03:39', 'languages': ['eng'], 'file_directory': 'data', 'filename': 'client.html', 'filetype': 'text/html', 'category': 'Title'}),\n",
       " Document(page_content='Ismarried: False', metadata={'source': 'data/client.html', 'category_depth': 0, 'last_modified': '2024-06-02T17:03:39', 'languages': ['eng'], 'file_directory': 'data', 'filename': 'client.html', 'filetype': 'text/html', 'category': 'Title'}),\n",
       " Document(page_content='Carownership: True', metadata={'source': 'data/client.html', 'category_depth': 0, 'last_modified': '2024-06-02T17:03:39', 'languages': ['eng'], 'file_directory': 'data', 'filename': 'client.html', 'filetype': 'text/html', 'category': 'Title'}),\n",
       " Document(page_content='Address: street: 877번지, city: 서울, zipCode: 36780', metadata={'source': 'data/client.html', 'category_depth': 0, 'last_modified': '2024-06-02T17:03:39', 'languages': ['eng'], 'file_directory': 'data', 'filename': 'client.html', 'filetype': 'text/html', 'category': 'Title'}),\n",
       " Document(page_content='Phonenumbers: 337-5721-3227, 387-3768-9586', metadata={'source': 'data/client.html', 'last_modified': '2024-06-02T17:03:39', 'languages': ['eng'], 'parent_id': '1d8b0a80db92d22fcf59f7d104c7515a', 'file_directory': 'data', 'filename': 'client.html', 'filetype': 'text/html', 'category': 'UncategorizedText'}),\n",
       " Document(page_content='Hobbies: 여행, 음악 감상, 등산', metadata={'source': 'data/client.html', 'category_depth': 0, 'last_modified': '2024-06-02T17:03:39', 'languages': ['eng'], 'file_directory': 'data', 'filename': 'client.html', 'filetype': 'text/html', 'category': 'Title'}),\n",
       " Document(page_content='Name: 최도윤', metadata={'source': 'data/client.html', 'category_depth': 0, 'last_modified': '2024-06-02T17:03:39', 'languages': ['eng'], 'file_directory': 'data', 'filename': 'client.html', 'filetype': 'text/html', 'category': 'Title'}),\n",
       " Document(page_content='Age: 43', metadata={'source': 'data/client.html', 'category_depth': 0, 'last_modified': '2024-06-02T17:03:39', 'languages': ['eng'], 'file_directory': 'data', 'filename': 'client.html', 'filetype': 'text/html', 'category': 'Title'}),\n",
       " Document(page_content='Ismarried: False', metadata={'source': 'data/client.html', 'category_depth': 0, 'last_modified': '2024-06-02T17:03:39', 'languages': ['eng'], 'file_directory': 'data', 'filename': 'client.html', 'filetype': 'text/html', 'category': 'Title'}),\n",
       " Document(page_content='Carownership: True', metadata={'source': 'data/client.html', 'category_depth': 0, 'last_modified': '2024-06-02T17:03:39', 'languages': ['eng'], 'file_directory': 'data', 'filename': 'client.html', 'filetype': 'text/html', 'category': 'Title'}),\n",
       " Document(page_content='Address: street: 175번지, city: 서울, zipCode: 89067', metadata={'source': 'data/client.html', 'category_depth': 0, 'last_modified': '2024-06-02T17:03:39', 'languages': ['eng'], 'file_directory': 'data', 'filename': 'client.html', 'filetype': 'text/html', 'category': 'Title'}),\n",
       " Document(page_content='Phonenumbers: 354-5563-4638, 471-9212-1826', metadata={'source': 'data/client.html', 'last_modified': '2024-06-02T17:03:39', 'languages': ['eng'], 'parent_id': 'c64188f3081bf936fc4944f732d91b97', 'file_directory': 'data', 'filename': 'client.html', 'filetype': 'text/html', 'category': 'UncategorizedText'}),\n",
       " Document(page_content='Hobbies: 등산, 독서, 게임', metadata={'source': 'data/client.html', 'category_depth': 0, 'last_modified': '2024-06-02T17:03:39', 'languages': ['eng'], 'file_directory': 'data', 'filename': 'client.html', 'filetype': 'text/html', 'category': 'Title'}),\n",
       " Document(page_content='Name: 정민준', metadata={'source': 'data/client.html', 'category_depth': 0, 'last_modified': '2024-06-02T17:03:39', 'languages': ['eng'], 'file_directory': 'data', 'filename': 'client.html', 'filetype': 'text/html', 'category': 'Title'}),\n",
       " Document(page_content='Age: 22', metadata={'source': 'data/client.html', 'category_depth': 0, 'last_modified': '2024-06-02T17:03:39', 'languages': ['eng'], 'file_directory': 'data', 'filename': 'client.html', 'filetype': 'text/html', 'category': 'Title'}),\n",
       " Document(page_content='Ismarried: False', metadata={'source': 'data/client.html', 'category_depth': 0, 'last_modified': '2024-06-02T17:03:39', 'languages': ['eng'], 'file_directory': 'data', 'filename': 'client.html', 'filetype': 'text/html', 'category': 'Title'}),\n",
       " Document(page_content='Carownership: False', metadata={'source': 'data/client.html', 'category_depth': 0, 'last_modified': '2024-06-02T17:03:39', 'languages': ['eng'], 'file_directory': 'data', 'filename': 'client.html', 'filetype': 'text/html', 'category': 'Title'}),\n",
       " Document(page_content='Address: street: 690번지, city: 서울, zipCode: 70635', metadata={'source': 'data/client.html', 'category_depth': 0, 'last_modified': '2024-06-02T17:03:39', 'languages': ['eng'], 'file_directory': 'data', 'filename': 'client.html', 'filetype': 'text/html', 'category': 'Title'}),\n",
       " Document(page_content='Phonenumbers: 468-2796-2152, 922-5760-7030', metadata={'source': 'data/client.html', 'last_modified': '2024-06-02T17:03:39', 'languages': ['eng'], 'parent_id': '5e34da065624e973e50b7193c4131411', 'file_directory': 'data', 'filename': 'client.html', 'filetype': 'text/html', 'category': 'UncategorizedText'}),\n",
       " Document(page_content='Hobbies: 여행, 등산, 게임', metadata={'source': 'data/client.html', 'category_depth': 0, 'last_modified': '2024-06-02T17:03:39', 'languages': ['eng'], 'file_directory': 'data', 'filename': 'client.html', 'filetype': 'text/html', 'category': 'Title'}),\n",
       " Document(page_content='Name: 이민준', metadata={'source': 'data/client.html', 'category_depth': 0, 'last_modified': '2024-06-02T17:03:39', 'languages': ['eng'], 'file_directory': 'data', 'filename': 'client.html', 'filetype': 'text/html', 'category': 'Title'}),\n",
       " Document(page_content='Age: 79', metadata={'source': 'data/client.html', 'category_depth': 0, 'last_modified': '2024-06-02T17:03:39', 'languages': ['eng'], 'file_directory': 'data', 'filename': 'client.html', 'filetype': 'text/html', 'category': 'Title'}),\n",
       " Document(page_content='Ismarried: True', metadata={'source': 'data/client.html', 'category_depth': 0, 'last_modified': '2024-06-02T17:03:39', 'languages': ['eng'], 'file_directory': 'data', 'filename': 'client.html', 'filetype': 'text/html', 'category': 'Title'}),\n",
       " Document(page_content='Carownership: False', metadata={'source': 'data/client.html', 'category_depth': 0, 'last_modified': '2024-06-02T17:03:39', 'languages': ['eng'], 'file_directory': 'data', 'filename': 'client.html', 'filetype': 'text/html', 'category': 'Title'}),\n",
       " Document(page_content='Address: street: 151번지, city: 서울, zipCode: 79118', metadata={'source': 'data/client.html', 'category_depth': 0, 'last_modified': '2024-06-02T17:03:39', 'languages': ['eng'], 'file_directory': 'data', 'filename': 'client.html', 'filetype': 'text/html', 'category': 'Title'}),\n",
       " Document(page_content='Phonenumbers: 751-2823-8259, 722-7267-9516', metadata={'source': 'data/client.html', 'last_modified': '2024-06-02T17:03:39', 'languages': ['eng'], 'parent_id': 'be613a3d7980e5e1e542ed37eb7dd985', 'file_directory': 'data', 'filename': 'client.html', 'filetype': 'text/html', 'category': 'UncategorizedText'}),\n",
       " Document(page_content='Hobbies: 게임, 영화 감상, 음악 감상', metadata={'source': 'data/client.html', 'category_depth': 0, 'last_modified': '2024-06-02T17:03:39', 'languages': ['eng'], 'file_directory': 'data', 'filename': 'client.html', 'filetype': 'text/html', 'category': 'Title'}),\n",
       " Document(page_content='Name: 최도윤', metadata={'source': 'data/client.html', 'category_depth': 0, 'last_modified': '2024-06-02T17:03:39', 'languages': ['eng'], 'file_directory': 'data', 'filename': 'client.html', 'filetype': 'text/html', 'category': 'Title'}),\n",
       " Document(page_content='Age: 64', metadata={'source': 'data/client.html', 'category_depth': 0, 'last_modified': '2024-06-02T17:03:39', 'languages': ['eng'], 'file_directory': 'data', 'filename': 'client.html', 'filetype': 'text/html', 'category': 'Title'}),\n",
       " Document(page_content='Ismarried: False', metadata={'source': 'data/client.html', 'category_depth': 0, 'last_modified': '2024-06-02T17:03:39', 'languages': ['eng'], 'file_directory': 'data', 'filename': 'client.html', 'filetype': 'text/html', 'category': 'Title'}),\n",
       " Document(page_content='Carownership: True', metadata={'source': 'data/client.html', 'category_depth': 0, 'last_modified': '2024-06-02T17:03:39', 'languages': ['eng'], 'file_directory': 'data', 'filename': 'client.html', 'filetype': 'text/html', 'category': 'Title'}),\n",
       " Document(page_content='Address: street: 855번지, city: 서울, zipCode: 21216', metadata={'source': 'data/client.html', 'category_depth': 0, 'last_modified': '2024-06-02T17:03:39', 'languages': ['eng'], 'file_directory': 'data', 'filename': 'client.html', 'filetype': 'text/html', 'category': 'Title'}),\n",
       " Document(page_content='Phonenumbers: 462-4433-5968, 483-1709-4850', metadata={'source': 'data/client.html', 'last_modified': '2024-06-02T17:03:39', 'languages': ['eng'], 'parent_id': 'f944030a0ba3f71af951ecb2b4377a30', 'file_directory': 'data', 'filename': 'client.html', 'filetype': 'text/html', 'category': 'UncategorizedText'}),\n",
       " Document(page_content='Hobbies: 독서, 등산, 요리', metadata={'source': 'data/client.html', 'category_depth': 0, 'last_modified': '2024-06-02T17:03:39', 'languages': ['eng'], 'file_directory': 'data', 'filename': 'client.html', 'filetype': 'text/html', 'category': 'Title'}),\n",
       " Document(page_content='Name: 최지훈', metadata={'source': 'data/client.html', 'category_depth': 0, 'last_modified': '2024-06-02T17:03:39', 'languages': ['eng'], 'file_directory': 'data', 'filename': 'client.html', 'filetype': 'text/html', 'category': 'Title'}),\n",
       " Document(page_content='Age: 72', metadata={'source': 'data/client.html', 'category_depth': 0, 'last_modified': '2024-06-02T17:03:39', 'languages': ['eng'], 'file_directory': 'data', 'filename': 'client.html', 'filetype': 'text/html', 'category': 'Title'}),\n",
       " Document(page_content='Ismarried: True', metadata={'source': 'data/client.html', 'category_depth': 0, 'last_modified': '2024-06-02T17:03:39', 'languages': ['eng'], 'file_directory': 'data', 'filename': 'client.html', 'filetype': 'text/html', 'category': 'Title'}),\n",
       " Document(page_content='Carownership: True', metadata={'source': 'data/client.html', 'category_depth': 0, 'last_modified': '2024-06-02T17:03:39', 'languages': ['eng'], 'file_directory': 'data', 'filename': 'client.html', 'filetype': 'text/html', 'category': 'Title'}),\n",
       " Document(page_content='Address: street: 683번지, city: 서울, zipCode: 75013', metadata={'source': 'data/client.html', 'category_depth': 0, 'last_modified': '2024-06-02T17:03:39', 'languages': ['eng'], 'file_directory': 'data', 'filename': 'client.html', 'filetype': 'text/html', 'category': 'Title'}),\n",
       " Document(page_content='Phonenumbers: 382-2779-3692, 835-4343-5346', metadata={'source': 'data/client.html', 'last_modified': '2024-06-02T17:03:39', 'languages': ['eng'], 'parent_id': 'f35a9aa0e26ef0ffaef405acf0c6837c', 'file_directory': 'data', 'filename': 'client.html', 'filetype': 'text/html', 'category': 'UncategorizedText'}),\n",
       " Document(page_content='Hobbies: 여행, 사진 촬영, 독서', metadata={'source': 'data/client.html', 'category_depth': 0, 'last_modified': '2024-06-02T17:03:39', 'languages': ['eng'], 'file_directory': 'data', 'filename': 'client.html', 'filetype': 'text/html', 'category': 'Title'}),\n",
       " Document(page_content='Name: 정도윤', metadata={'source': 'data/client.html', 'category_depth': 0, 'last_modified': '2024-06-02T17:03:39', 'languages': ['eng'], 'file_directory': 'data', 'filename': 'client.html', 'filetype': 'text/html', 'category': 'Title'}),\n",
       " Document(page_content='Age: 77', metadata={'source': 'data/client.html', 'category_depth': 0, 'last_modified': '2024-06-02T17:03:39', 'languages': ['eng'], 'file_directory': 'data', 'filename': 'client.html', 'filetype': 'text/html', 'category': 'Title'}),\n",
       " Document(page_content='Ismarried: True', metadata={'source': 'data/client.html', 'category_depth': 0, 'last_modified': '2024-06-02T17:03:39', 'languages': ['eng'], 'file_directory': 'data', 'filename': 'client.html', 'filetype': 'text/html', 'category': 'Title'}),\n",
       " Document(page_content='Carownership: False', metadata={'source': 'data/client.html', 'category_depth': 0, 'last_modified': '2024-06-02T17:03:39', 'languages': ['eng'], 'file_directory': 'data', 'filename': 'client.html', 'filetype': 'text/html', 'category': 'Title'}),\n",
       " Document(page_content='Address: street: 547번지, city: 서울, zipCode: 33986', metadata={'source': 'data/client.html', 'category_depth': 0, 'last_modified': '2024-06-02T17:03:39', 'languages': ['eng'], 'file_directory': 'data', 'filename': 'client.html', 'filetype': 'text/html', 'category': 'Title'}),\n",
       " Document(page_content='Phonenumbers: 136-2831-1021, 818-9721-7208', metadata={'source': 'data/client.html', 'last_modified': '2024-06-02T17:03:39', 'languages': ['eng'], 'parent_id': 'fc4eeb9f3bb127c7f860072ef6980f0b', 'file_directory': 'data', 'filename': 'client.html', 'filetype': 'text/html', 'category': 'UncategorizedText'}),\n",
       " Document(page_content='Hobbies: 독서, 등산, 음악 감상', metadata={'source': 'data/client.html', 'category_depth': 0, 'last_modified': '2024-06-02T17:03:39', 'languages': ['eng'], 'file_directory': 'data', 'filename': 'client.html', 'filetype': 'text/html', 'category': 'Title'}),\n",
       " Document(page_content='Name: 정하린', metadata={'source': 'data/client.html', 'category_depth': 0, 'last_modified': '2024-06-02T17:03:39', 'languages': ['eng'], 'file_directory': 'data', 'filename': 'client.html', 'filetype': 'text/html', 'category': 'Title'}),\n",
       " Document(page_content='Age: 44', metadata={'source': 'data/client.html', 'category_depth': 0, 'last_modified': '2024-06-02T17:03:39', 'languages': ['eng'], 'file_directory': 'data', 'filename': 'client.html', 'filetype': 'text/html', 'category': 'Title'}),\n",
       " Document(page_content='Ismarried: False', metadata={'source': 'data/client.html', 'category_depth': 0, 'last_modified': '2024-06-02T17:03:39', 'languages': ['eng'], 'file_directory': 'data', 'filename': 'client.html', 'filetype': 'text/html', 'category': 'Title'}),\n",
       " Document(page_content='Carownership: True', metadata={'source': 'data/client.html', 'category_depth': 0, 'last_modified': '2024-06-02T17:03:39', 'languages': ['eng'], 'file_directory': 'data', 'filename': 'client.html', 'filetype': 'text/html', 'category': 'Title'}),\n",
       " Document(page_content='Address: street: 304번지, city: 서울, zipCode: 69380', metadata={'source': 'data/client.html', 'category_depth': 0, 'last_modified': '2024-06-02T17:03:39', 'languages': ['eng'], 'file_directory': 'data', 'filename': 'client.html', 'filetype': 'text/html', 'category': 'Title'}),\n",
       " Document(page_content='Phonenumbers: 423-5001-2734, 256-4271-3750', metadata={'source': 'data/client.html', 'last_modified': '2024-06-02T17:03:39', 'languages': ['eng'], 'parent_id': '101e533b46b89b6bbcfc2c3065c6fbaf', 'file_directory': 'data', 'filename': 'client.html', 'filetype': 'text/html', 'category': 'UncategorizedText'}),\n",
       " Document(page_content='Hobbies: 독서, 게임, 여행', metadata={'source': 'data/client.html', 'category_depth': 0, 'last_modified': '2024-06-02T17:03:39', 'languages': ['eng'], 'file_directory': 'data', 'filename': 'client.html', 'filetype': 'text/html', 'category': 'Title'}),\n",
       " Document(page_content='Name: 김예준', metadata={'source': 'data/client.html', 'category_depth': 0, 'last_modified': '2024-06-02T17:03:39', 'languages': ['eng'], 'file_directory': 'data', 'filename': 'client.html', 'filetype': 'text/html', 'category': 'Title'}),\n",
       " Document(page_content='Age: 26', metadata={'source': 'data/client.html', 'category_depth': 0, 'last_modified': '2024-06-02T17:03:39', 'languages': ['eng'], 'file_directory': 'data', 'filename': 'client.html', 'filetype': 'text/html', 'category': 'Title'}),\n",
       " Document(page_content='Ismarried: False', metadata={'source': 'data/client.html', 'category_depth': 0, 'last_modified': '2024-06-02T17:03:39', 'languages': ['eng'], 'file_directory': 'data', 'filename': 'client.html', 'filetype': 'text/html', 'category': 'Title'}),\n",
       " Document(page_content='Carownership: True', metadata={'source': 'data/client.html', 'category_depth': 0, 'last_modified': '2024-06-02T17:03:39', 'languages': ['eng'], 'file_directory': 'data', 'filename': 'client.html', 'filetype': 'text/html', 'category': 'Title'}),\n",
       " Document(page_content='Address: street: 924번지, city: 서울, zipCode: 77191', metadata={'source': 'data/client.html', 'category_depth': 0, 'last_modified': '2024-06-02T17:03:39', 'languages': ['eng'], 'file_directory': 'data', 'filename': 'client.html', 'filetype': 'text/html', 'category': 'Title'}),\n",
       " Document(page_content='Phonenumbers: 668-1157-6180, 815-9997-6459', metadata={'source': 'data/client.html', 'last_modified': '2024-06-02T17:03:39', 'languages': ['eng'], 'parent_id': '2e9ff5368bd13cd17bf4ee3d75c5c088', 'file_directory': 'data', 'filename': 'client.html', 'filetype': 'text/html', 'category': 'UncategorizedText'}),\n",
       " Document(page_content='Hobbies: 등산, 독서, 여행', metadata={'source': 'data/client.html', 'category_depth': 0, 'last_modified': '2024-06-02T17:03:39', 'languages': ['eng'], 'file_directory': 'data', 'filename': 'client.html', 'filetype': 'text/html', 'category': 'Title'}),\n",
       " Document(page_content='Name: 최수아', metadata={'source': 'data/client.html', 'category_depth': 0, 'last_modified': '2024-06-02T17:03:39', 'languages': ['eng'], 'file_directory': 'data', 'filename': 'client.html', 'filetype': 'text/html', 'category': 'Title'}),\n",
       " Document(page_content='Age: 48', metadata={'source': 'data/client.html', 'category_depth': 0, 'last_modified': '2024-06-02T17:03:39', 'languages': ['eng'], 'file_directory': 'data', 'filename': 'client.html', 'filetype': 'text/html', 'category': 'Title'}),\n",
       " Document(page_content='Ismarried: True', metadata={'source': 'data/client.html', 'category_depth': 0, 'last_modified': '2024-06-02T17:03:39', 'languages': ['eng'], 'file_directory': 'data', 'filename': 'client.html', 'filetype': 'text/html', 'category': 'Title'}),\n",
       " Document(page_content='Carownership: True', metadata={'source': 'data/client.html', 'category_depth': 0, 'last_modified': '2024-06-02T17:03:39', 'languages': ['eng'], 'file_directory': 'data', 'filename': 'client.html', 'filetype': 'text/html', 'category': 'Title'}),\n",
       " Document(page_content='Address: street: 539번지, city: 서울, zipCode: 67491', metadata={'source': 'data/client.html', 'category_depth': 0, 'last_modified': '2024-06-02T17:03:39', 'languages': ['eng'], 'file_directory': 'data', 'filename': 'client.html', 'filetype': 'text/html', 'category': 'Title'}),\n",
       " Document(page_content='Phonenumbers: 745-5529-4411, 437-3892-3668', metadata={'source': 'data/client.html', 'last_modified': '2024-06-02T17:03:39', 'languages': ['eng'], 'parent_id': 'b2a3885ee1ffc594bd6f9c9cb3664a2a', 'file_directory': 'data', 'filename': 'client.html', 'filetype': 'text/html', 'category': 'UncategorizedText'}),\n",
       " Document(page_content='Hobbies: 요리, 게임, 등산', metadata={'source': 'data/client.html', 'category_depth': 0, 'last_modified': '2024-06-02T17:03:39', 'languages': ['eng'], 'file_directory': 'data', 'filename': 'client.html', 'filetype': 'text/html', 'category': 'Title'}),\n",
       " Document(page_content='Name: 이서연', metadata={'source': 'data/client.html', 'category_depth': 0, 'last_modified': '2024-06-02T17:03:39', 'languages': ['eng'], 'file_directory': 'data', 'filename': 'client.html', 'filetype': 'text/html', 'category': 'Title'}),\n",
       " Document(page_content='Age: 41', metadata={'source': 'data/client.html', 'category_depth': 0, 'last_modified': '2024-06-02T17:03:39', 'languages': ['eng'], 'file_directory': 'data', 'filename': 'client.html', 'filetype': 'text/html', 'category': 'Title'}),\n",
       " Document(page_content='Ismarried: False', metadata={'source': 'data/client.html', 'category_depth': 0, 'last_modified': '2024-06-02T17:03:39', 'languages': ['eng'], 'file_directory': 'data', 'filename': 'client.html', 'filetype': 'text/html', 'category': 'Title'}),\n",
       " Document(page_content='Carownership: True', metadata={'source': 'data/client.html', 'category_depth': 0, 'last_modified': '2024-06-02T17:03:39', 'languages': ['eng'], 'file_directory': 'data', 'filename': 'client.html', 'filetype': 'text/html', 'category': 'Title'}),\n",
       " Document(page_content='Address: street: 358번지, city: 서울, zipCode: 70195', metadata={'source': 'data/client.html', 'category_depth': 0, 'last_modified': '2024-06-02T17:03:39', 'languages': ['eng'], 'file_directory': 'data', 'filename': 'client.html', 'filetype': 'text/html', 'category': 'Title'}),\n",
       " Document(page_content='Phonenumbers: 914-2071-3446, 539-6835-4629', metadata={'source': 'data/client.html', 'last_modified': '2024-06-02T17:03:39', 'languages': ['eng'], 'parent_id': '1a3ac9802aee65c866ac0da233635b29', 'file_directory': 'data', 'filename': 'client.html', 'filetype': 'text/html', 'category': 'UncategorizedText'}),\n",
       " Document(page_content='Hobbies: 여행, 영화 감상, 요리', metadata={'source': 'data/client.html', 'category_depth': 0, 'last_modified': '2024-06-02T17:03:39', 'languages': ['eng'], 'file_directory': 'data', 'filename': 'client.html', 'filetype': 'text/html', 'category': 'Title'}),\n",
       " Document(page_content='Name: 이지훈', metadata={'source': 'data/client.html', 'category_depth': 0, 'last_modified': '2024-06-02T17:03:39', 'languages': ['eng'], 'file_directory': 'data', 'filename': 'client.html', 'filetype': 'text/html', 'category': 'Title'}),\n",
       " Document(page_content='Age: 61', metadata={'source': 'data/client.html', 'category_depth': 0, 'last_modified': '2024-06-02T17:03:39', 'languages': ['eng'], 'file_directory': 'data', 'filename': 'client.html', 'filetype': 'text/html', 'category': 'Title'}),\n",
       " Document(page_content='Ismarried: True', metadata={'source': 'data/client.html', 'category_depth': 0, 'last_modified': '2024-06-02T17:03:39', 'languages': ['eng'], 'file_directory': 'data', 'filename': 'client.html', 'filetype': 'text/html', 'category': 'Title'}),\n",
       " Document(page_content='Carownership: True', metadata={'source': 'data/client.html', 'category_depth': 0, 'last_modified': '2024-06-02T17:03:39', 'languages': ['eng'], 'file_directory': 'data', 'filename': 'client.html', 'filetype': 'text/html', 'category': 'Title'}),\n",
       " Document(page_content='Address: street: 741번지, city: 서울, zipCode: 82600', metadata={'source': 'data/client.html', 'category_depth': 0, 'last_modified': '2024-06-02T17:03:39', 'languages': ['eng'], 'file_directory': 'data', 'filename': 'client.html', 'filetype': 'text/html', 'category': 'Title'}),\n",
       " Document(page_content='Phonenumbers: 709-3578-3445, 907-3295-1822', metadata={'source': 'data/client.html', 'last_modified': '2024-06-02T17:03:39', 'languages': ['eng'], 'parent_id': '81d423ca19a22eb4781ce6fcf5e8d871', 'file_directory': 'data', 'filename': 'client.html', 'filetype': 'text/html', 'category': 'UncategorizedText'}),\n",
       " Document(page_content='Hobbies: 영화 감상, 독서, 여행', metadata={'source': 'data/client.html', 'category_depth': 0, 'last_modified': '2024-06-02T17:03:39', 'languages': ['eng'], 'file_directory': 'data', 'filename': 'client.html', 'filetype': 'text/html', 'category': 'Title'}),\n",
       " Document(page_content='Name: 최서연', metadata={'source': 'data/client.html', 'category_depth': 0, 'last_modified': '2024-06-02T17:03:39', 'languages': ['eng'], 'file_directory': 'data', 'filename': 'client.html', 'filetype': 'text/html', 'category': 'Title'}),\n",
       " Document(page_content='Age: 47', metadata={'source': 'data/client.html', 'category_depth': 0, 'last_modified': '2024-06-02T17:03:39', 'languages': ['eng'], 'file_directory': 'data', 'filename': 'client.html', 'filetype': 'text/html', 'category': 'Title'}),\n",
       " Document(page_content='Ismarried: False', metadata={'source': 'data/client.html', 'category_depth': 0, 'last_modified': '2024-06-02T17:03:39', 'languages': ['eng'], 'file_directory': 'data', 'filename': 'client.html', 'filetype': 'text/html', 'category': 'Title'}),\n",
       " Document(page_content='Carownership: True', metadata={'source': 'data/client.html', 'category_depth': 0, 'last_modified': '2024-06-02T17:03:39', 'languages': ['eng'], 'file_directory': 'data', 'filename': 'client.html', 'filetype': 'text/html', 'category': 'Title'}),\n",
       " Document(page_content='Address: street: 932번지, city: 서울, zipCode: 57742', metadata={'source': 'data/client.html', 'category_depth': 0, 'last_modified': '2024-06-02T17:03:39', 'languages': ['eng'], 'file_directory': 'data', 'filename': 'client.html', 'filetype': 'text/html', 'category': 'Title'}),\n",
       " Document(page_content='Phonenumbers: 508-9125-7029, 939-1920-5084', metadata={'source': 'data/client.html', 'last_modified': '2024-06-02T17:03:39', 'languages': ['eng'], 'parent_id': '1b3c67508e860f78b94c1c57134cd769', 'file_directory': 'data', 'filename': 'client.html', 'filetype': 'text/html', 'category': 'UncategorizedText'}),\n",
       " Document(page_content='Hobbies: 사진 촬영, 등산, 요리', metadata={'source': 'data/client.html', 'category_depth': 0, 'last_modified': '2024-06-02T17:03:39', 'languages': ['eng'], 'file_directory': 'data', 'filename': 'client.html', 'filetype': 'text/html', 'category': 'Title'}),\n",
       " Document(page_content='Name: 이민준', metadata={'source': 'data/client.html', 'category_depth': 0, 'last_modified': '2024-06-02T17:03:39', 'languages': ['eng'], 'file_directory': 'data', 'filename': 'client.html', 'filetype': 'text/html', 'category': 'Title'}),\n",
       " Document(page_content='Age: 23', metadata={'source': 'data/client.html', 'category_depth': 0, 'last_modified': '2024-06-02T17:03:39', 'languages': ['eng'], 'file_directory': 'data', 'filename': 'client.html', 'filetype': 'text/html', 'category': 'Title'}),\n",
       " Document(page_content='Ismarried: True', metadata={'source': 'data/client.html', 'category_depth': 0, 'last_modified': '2024-06-02T17:03:39', 'languages': ['eng'], 'file_directory': 'data', 'filename': 'client.html', 'filetype': 'text/html', 'category': 'Title'}),\n",
       " Document(page_content='Carownership: False', metadata={'source': 'data/client.html', 'category_depth': 0, 'last_modified': '2024-06-02T17:03:39', 'languages': ['eng'], 'file_directory': 'data', 'filename': 'client.html', 'filetype': 'text/html', 'category': 'Title'}),\n",
       " Document(page_content='Address: street: 603번지, city: 서울, zipCode: 30841', metadata={'source': 'data/client.html', 'category_depth': 0, 'last_modified': '2024-06-02T17:03:39', 'languages': ['eng'], 'file_directory': 'data', 'filename': 'client.html', 'filetype': 'text/html', 'category': 'Title'}),\n",
       " Document(page_content='Phonenumbers: 891-2980-9497, 811-3249-9899', metadata={'source': 'data/client.html', 'last_modified': '2024-06-02T17:03:39', 'languages': ['eng'], 'parent_id': '20484c8fca326b48d47912321ede9a6a', 'file_directory': 'data', 'filename': 'client.html', 'filetype': 'text/html', 'category': 'UncategorizedText'}),\n",
       " Document(page_content='Hobbies: 등산, 독서, 여행', metadata={'source': 'data/client.html', 'category_depth': 0, 'last_modified': '2024-06-02T17:03:39', 'languages': ['eng'], 'file_directory': 'data', 'filename': 'client.html', 'filetype': 'text/html', 'category': 'Title'}),\n",
       " Document(page_content='Name: 박하은', metadata={'source': 'data/client.html', 'category_depth': 0, 'last_modified': '2024-06-02T17:03:39', 'languages': ['eng'], 'file_directory': 'data', 'filename': 'client.html', 'filetype': 'text/html', 'category': 'Title'}),\n",
       " Document(page_content='Age: 52', metadata={'source': 'data/client.html', 'category_depth': 0, 'last_modified': '2024-06-02T17:03:39', 'languages': ['eng'], 'file_directory': 'data', 'filename': 'client.html', 'filetype': 'text/html', 'category': 'Title'}),\n",
       " Document(page_content='Ismarried: False', metadata={'source': 'data/client.html', 'category_depth': 0, 'last_modified': '2024-06-02T17:03:39', 'languages': ['eng'], 'file_directory': 'data', 'filename': 'client.html', 'filetype': 'text/html', 'category': 'Title'}),\n",
       " Document(page_content='Carownership: False', metadata={'source': 'data/client.html', 'category_depth': 0, 'last_modified': '2024-06-02T17:03:39', 'languages': ['eng'], 'file_directory': 'data', 'filename': 'client.html', 'filetype': 'text/html', 'category': 'Title'}),\n",
       " Document(page_content='Address: street: 464번지, city: 서울, zipCode: 91295', metadata={'source': 'data/client.html', 'category_depth': 0, 'last_modified': '2024-06-02T17:03:39', 'languages': ['eng'], 'file_directory': 'data', 'filename': 'client.html', 'filetype': 'text/html', 'category': 'Title'}),\n",
       " Document(page_content='Phonenumbers: 499-4872-5904, 140-3733-7715', metadata={'source': 'data/client.html', 'last_modified': '2024-06-02T17:03:39', 'languages': ['eng'], 'parent_id': '2dccb01e6a4cf426846b4f1c8a721b41', 'file_directory': 'data', 'filename': 'client.html', 'filetype': 'text/html', 'category': 'UncategorizedText'}),\n",
       " Document(page_content='Hobbies: 게임, 음악 감상, 요리', metadata={'source': 'data/client.html', 'category_depth': 0, 'last_modified': '2024-06-02T17:03:39', 'languages': ['eng'], 'file_directory': 'data', 'filename': 'client.html', 'filetype': 'text/html', 'category': 'Title'}),\n",
       " Document(page_content='Name: 정수아', metadata={'source': 'data/client.html', 'category_depth': 0, 'last_modified': '2024-06-02T17:03:39', 'languages': ['eng'], 'file_directory': 'data', 'filename': 'client.html', 'filetype': 'text/html', 'category': 'Title'}),\n",
       " Document(page_content='Age: 61', metadata={'source': 'data/client.html', 'category_depth': 0, 'last_modified': '2024-06-02T17:03:39', 'languages': ['eng'], 'file_directory': 'data', 'filename': 'client.html', 'filetype': 'text/html', 'category': 'Title'}),\n",
       " Document(page_content='Ismarried: False', metadata={'source': 'data/client.html', 'category_depth': 0, 'last_modified': '2024-06-02T17:03:39', 'languages': ['eng'], 'file_directory': 'data', 'filename': 'client.html', 'filetype': 'text/html', 'category': 'Title'}),\n",
       " Document(page_content='Carownership: True', metadata={'source': 'data/client.html', 'category_depth': 0, 'last_modified': '2024-06-02T17:03:39', 'languages': ['eng'], 'file_directory': 'data', 'filename': 'client.html', 'filetype': 'text/html', 'category': 'Title'}),\n",
       " Document(page_content='Address: street: 401번지, city: 서울, zipCode: 71129', metadata={'source': 'data/client.html', 'category_depth': 0, 'last_modified': '2024-06-02T17:03:39', 'languages': ['eng'], 'file_directory': 'data', 'filename': 'client.html', 'filetype': 'text/html', 'category': 'Title'}),\n",
       " Document(page_content='Phonenumbers: 672-6315-8675, 975-1259-1656', metadata={'source': 'data/client.html', 'last_modified': '2024-06-02T17:03:39', 'languages': ['eng'], 'parent_id': '07a183966fa605e06cd9d2ea8095980d', 'file_directory': 'data', 'filename': 'client.html', 'filetype': 'text/html', 'category': 'UncategorizedText'}),\n",
       " Document(page_content='Hobbies: 음악 감상, 요리, 여행', metadata={'source': 'data/client.html', 'category_depth': 0, 'last_modified': '2024-06-02T17:03:39', 'languages': ['eng'], 'file_directory': 'data', 'filename': 'client.html', 'filetype': 'text/html', 'category': 'Title'}),\n",
       " Document(page_content='Name: 이지훈', metadata={'source': 'data/client.html', 'category_depth': 0, 'last_modified': '2024-06-02T17:03:39', 'languages': ['eng'], 'file_directory': 'data', 'filename': 'client.html', 'filetype': 'text/html', 'category': 'Title'}),\n",
       " Document(page_content='Age: 19', metadata={'source': 'data/client.html', 'category_depth': 0, 'last_modified': '2024-06-02T17:03:39', 'languages': ['eng'], 'file_directory': 'data', 'filename': 'client.html', 'filetype': 'text/html', 'category': 'Title'}),\n",
       " Document(page_content='Ismarried: False', metadata={'source': 'data/client.html', 'category_depth': 0, 'last_modified': '2024-06-02T17:03:39', 'languages': ['eng'], 'file_directory': 'data', 'filename': 'client.html', 'filetype': 'text/html', 'category': 'Title'}),\n",
       " Document(page_content='Carownership: False', metadata={'source': 'data/client.html', 'category_depth': 0, 'last_modified': '2024-06-02T17:03:39', 'languages': ['eng'], 'file_directory': 'data', 'filename': 'client.html', 'filetype': 'text/html', 'category': 'Title'}),\n",
       " Document(page_content='Address: street: 356번지, city: 서울, zipCode: 40080', metadata={'source': 'data/client.html', 'category_depth': 0, 'last_modified': '2024-06-02T17:03:39', 'languages': ['eng'], 'file_directory': 'data', 'filename': 'client.html', 'filetype': 'text/html', 'category': 'Title'}),\n",
       " Document(page_content='Phonenumbers: 853-1953-3723, 408-3476-1336', metadata={'source': 'data/client.html', 'last_modified': '2024-06-02T17:03:39', 'languages': ['eng'], 'parent_id': 'e407b31a76f494264eab9e7b49d1d1f3', 'file_directory': 'data', 'filename': 'client.html', 'filetype': 'text/html', 'category': 'UncategorizedText'}),\n",
       " Document(page_content='Hobbies: 등산, 영화 감상, 요리', metadata={'source': 'data/client.html', 'category_depth': 0, 'last_modified': '2024-06-02T17:03:39', 'languages': ['eng'], 'file_directory': 'data', 'filename': 'client.html', 'filetype': 'text/html', 'category': 'Title'}),\n",
       " Document(page_content='Name: 최도윤', metadata={'source': 'data/client.html', 'category_depth': 0, 'last_modified': '2024-06-02T17:03:39', 'languages': ['eng'], 'file_directory': 'data', 'filename': 'client.html', 'filetype': 'text/html', 'category': 'Title'}),\n",
       " Document(page_content='Age: 52', metadata={'source': 'data/client.html', 'category_depth': 0, 'last_modified': '2024-06-02T17:03:39', 'languages': ['eng'], 'file_directory': 'data', 'filename': 'client.html', 'filetype': 'text/html', 'category': 'Title'}),\n",
       " Document(page_content='Ismarried: True', metadata={'source': 'data/client.html', 'category_depth': 0, 'last_modified': '2024-06-02T17:03:39', 'languages': ['eng'], 'file_directory': 'data', 'filename': 'client.html', 'filetype': 'text/html', 'category': 'Title'}),\n",
       " Document(page_content='Carownership: True', metadata={'source': 'data/client.html', 'category_depth': 0, 'last_modified': '2024-06-02T17:03:39', 'languages': ['eng'], 'file_directory': 'data', 'filename': 'client.html', 'filetype': 'text/html', 'category': 'Title'}),\n",
       " Document(page_content='Address: street: 940번지, city: 서울, zipCode: 60335', metadata={'source': 'data/client.html', 'category_depth': 0, 'last_modified': '2024-06-02T17:03:39', 'languages': ['eng'], 'file_directory': 'data', 'filename': 'client.html', 'filetype': 'text/html', 'category': 'Title'}),\n",
       " Document(page_content='Phonenumbers: 290-8270-9786, 483-1765-4028', metadata={'source': 'data/client.html', 'last_modified': '2024-06-02T17:03:39', 'languages': ['eng'], 'parent_id': '5d1d033765fd0ed2f764c3f7034fb152', 'file_directory': 'data', 'filename': 'client.html', 'filetype': 'text/html', 'category': 'UncategorizedText'}),\n",
       " Document(page_content='Hobbies: 요리, 사진 촬영, 등산', metadata={'source': 'data/client.html', 'category_depth': 0, 'last_modified': '2024-06-02T17:03:39', 'languages': ['eng'], 'file_directory': 'data', 'filename': 'client.html', 'filetype': 'text/html', 'category': 'Title'}),\n",
       " Document(page_content='Name: 최주원', metadata={'source': 'data/client.html', 'category_depth': 0, 'last_modified': '2024-06-02T17:03:39', 'languages': ['eng'], 'file_directory': 'data', 'filename': 'client.html', 'filetype': 'text/html', 'category': 'Title'}),\n",
       " Document(page_content='Age: 18', metadata={'source': 'data/client.html', 'category_depth': 0, 'last_modified': '2024-06-02T17:03:39', 'languages': ['eng'], 'file_directory': 'data', 'filename': 'client.html', 'filetype': 'text/html', 'category': 'Title'}),\n",
       " Document(page_content='Ismarried: True', metadata={'source': 'data/client.html', 'category_depth': 0, 'last_modified': '2024-06-02T17:03:39', 'languages': ['eng'], 'file_directory': 'data', 'filename': 'client.html', 'filetype': 'text/html', 'category': 'Title'}),\n",
       " Document(page_content='Carownership: True', metadata={'source': 'data/client.html', 'category_depth': 0, 'last_modified': '2024-06-02T17:03:39', 'languages': ['eng'], 'file_directory': 'data', 'filename': 'client.html', 'filetype': 'text/html', 'category': 'Title'}),\n",
       " Document(page_content='Address: street: 289번지, city: 서울, zipCode: 59793', metadata={'source': 'data/client.html', 'category_depth': 0, 'last_modified': '2024-06-02T17:03:39', 'languages': ['eng'], 'file_directory': 'data', 'filename': 'client.html', 'filetype': 'text/html', 'category': 'Title'}),\n",
       " Document(page_content='Phonenumbers: 460-4533-7245, 344-2344-7362', metadata={'source': 'data/client.html', 'last_modified': '2024-06-02T17:03:39', 'languages': ['eng'], 'parent_id': '72a97cbb3d40850db217072b89fda203', 'file_directory': 'data', 'filename': 'client.html', 'filetype': 'text/html', 'category': 'UncategorizedText'}),\n",
       " Document(page_content='Hobbies: 여행, 요리, 영화 감상', metadata={'source': 'data/client.html', 'category_depth': 0, 'last_modified': '2024-06-02T17:03:39', 'languages': ['eng'], 'file_directory': 'data', 'filename': 'client.html', 'filetype': 'text/html', 'category': 'Title'})]"
      ]
     },
     "execution_count": 43,
     "metadata": {},
     "output_type": "execute_result"
    }
   ],
   "source": [
    "loader = UnstructuredHTMLLoader(\"data/client.html\", mode=\"elements\")\n",
    "docs = loader.load()\n",
    "docs"
   ]
  },
  {
   "cell_type": "markdown",
   "metadata": {},
   "source": [
    "### BSHTMLLoader\n",
    "- html 파일을 로드하고, beautiful soup으로 파싱"
   ]
  },
  {
   "cell_type": "code",
   "execution_count": 46,
   "metadata": {},
   "outputs": [
    {
     "data": {
      "text/plain": [
       "[Document(page_content='Sample DataName: 박시우Age: 31Ismarried: TrueCarownership: TrueAddress: street: 312번지, city: 서울, zipCode: 83795Phonenumbers: 483-4639-1933, 947-4179-7976Hobbies: 요리, 음악 감상, 사진 촬영Name: 정수아Age: 31Ismarried: FalseCarownership: TrueAddress: street: 877번지, city: 서울, zipCode: 36780Phonenumbers: 337-5721-3227, 387-3768-9586Hobbies: 여행, 음악 감상, 등산Name: 최도윤Age: 43Ismarried: FalseCarownership: TrueAddress: street: 175번지, city: 서울, zipCode: 89067Phonenumbers: 354-5563-4638, 471-9212-1826Hobbies: 등산, 독서, 게임Name: 정민준Age: 22Ismarried: FalseCarownership: FalseAddress: street: 690번지, city: 서울, zipCode: 70635Phonenumbers: 468-2796-2152, 922-5760-7030Hobbies: 여행, 등산, 게임Name: 이민준Age: 79Ismarried: TrueCarownership: FalseAddress: street: 151번지, city: 서울, zipCode: 79118Phonenumbers: 751-2823-8259, 722-7267-9516Hobbies: 게임, 영화 감상, 음악 감상Name: 최도윤Age: 64Ismarried: FalseCarownership: TrueAddress: street: 855번지, city: 서울, zipCode: 21216Phonenumbers: 462-4433-5968, 483-1709-4850Hobbies: 독서, 등산, 요리Name: 최지훈Age: 72Ismarried: TrueCarownership: TrueAddress: street: 683번지, city: 서울, zipCode: 75013Phonenumbers: 382-2779-3692, 835-4343-5346Hobbies: 여행, 사진 촬영, 독서Name: 정도윤Age: 77Ismarried: TrueCarownership: FalseAddress: street: 547번지, city: 서울, zipCode: 33986Phonenumbers: 136-2831-1021, 818-9721-7208Hobbies: 독서, 등산, 음악 감상Name: 정하린Age: 44Ismarried: FalseCarownership: TrueAddress: street: 304번지, city: 서울, zipCode: 69380Phonenumbers: 423-5001-2734, 256-4271-3750Hobbies: 독서, 게임, 여행Name: 김예준Age: 26Ismarried: FalseCarownership: TrueAddress: street: 924번지, city: 서울, zipCode: 77191Phonenumbers: 668-1157-6180, 815-9997-6459Hobbies: 등산, 독서, 여행Name: 최수아Age: 48Ismarried: TrueCarownership: TrueAddress: street: 539번지, city: 서울, zipCode: 67491Phonenumbers: 745-5529-4411, 437-3892-3668Hobbies: 요리, 게임, 등산Name: 이서연Age: 41Ismarried: FalseCarownership: TrueAddress: street: 358번지, city: 서울, zipCode: 70195Phonenumbers: 914-2071-3446, 539-6835-4629Hobbies: 여행, 영화 감상, 요리Name: 이지훈Age: 61Ismarried: TrueCarownership: TrueAddress: street: 741번지, city: 서울, zipCode: 82600Phonenumbers: 709-3578-3445, 907-3295-1822Hobbies: 영화 감상, 독서, 여행Name: 최서연Age: 47Ismarried: FalseCarownership: TrueAddress: street: 932번지, city: 서울, zipCode: 57742Phonenumbers: 508-9125-7029, 939-1920-5084Hobbies: 사진 촬영, 등산, 요리Name: 이민준Age: 23Ismarried: TrueCarownership: FalseAddress: street: 603번지, city: 서울, zipCode: 30841Phonenumbers: 891-2980-9497, 811-3249-9899Hobbies: 등산, 독서, 여행Name: 박하은Age: 52Ismarried: FalseCarownership: FalseAddress: street: 464번지, city: 서울, zipCode: 91295Phonenumbers: 499-4872-5904, 140-3733-7715Hobbies: 게임, 음악 감상, 요리Name: 정수아Age: 61Ismarried: FalseCarownership: TrueAddress: street: 401번지, city: 서울, zipCode: 71129Phonenumbers: 672-6315-8675, 975-1259-1656Hobbies: 음악 감상, 요리, 여행Name: 이지훈Age: 19Ismarried: FalseCarownership: FalseAddress: street: 356번지, city: 서울, zipCode: 40080Phonenumbers: 853-1953-3723, 408-3476-1336Hobbies: 등산, 영화 감상, 요리Name: 최도윤Age: 52Ismarried: TrueCarownership: TrueAddress: street: 940번지, city: 서울, zipCode: 60335Phonenumbers: 290-8270-9786, 483-1765-4028Hobbies: 요리, 사진 촬영, 등산Name: 최주원Age: 18Ismarried: TrueCarownership: TrueAddress: street: 289번지, city: 서울, zipCode: 59793Phonenumbers: 460-4533-7245, 344-2344-7362Hobbies: 여행, 요리, 영화 감상', metadata={'source': 'data/client.html', 'title': 'Sample Data'})]"
      ]
     },
     "execution_count": 46,
     "metadata": {},
     "output_type": "execute_result"
    }
   ],
   "source": [
    "from langchain_community.document_loaders import BSHTMLLoader\n",
    "\n",
    "loader = BSHTMLLoader(\"data/client.html\")\n",
    "docs = loader.load()\n",
    "docs"
   ]
  },
  {
   "cell_type": "code",
   "execution_count": 47,
   "metadata": {},
   "outputs": [
    {
     "name": "stdout",
     "output_type": "stream",
     "text": [
      "문서의 수: 1\n",
      "\n",
      "[메타데이터]\n",
      "\n",
      "{'source': 'data/client.html', 'title': 'Sample Data'}\n",
      "\n",
      "========= [앞부분] 미리보기 =========\n",
      "\n",
      "Sample DataName: 박시우Age: 31Ismarried: TrueCarownership: TrueAddress: street: 312번지, city: 서울, zipCode: 83795Phonenumbers: 483-4639-1933, 947-4179-7976Hobbies: 요리, 음악 감상, 사진 촬영Name: 정수아Age: 31Ismarried: FalseCarownership: TrueAddress: street: 877번지, city: 서울, zipCode: 36780Phonenumbers: 337-5721-3227, 387-3768-9586Hobbies: 여행, 음악 감상, 등산Name: 최도윤Age: 43Ismarried: FalseCarownership: TrueAddress: street: 175번지, city: 서울, zipCode: 89067Phonenumbers: 354-5563-4638, 471-9212-1826Hobbies: 등산, 독서, 게임Name\n"
     ]
    }
   ],
   "source": [
    "print(f\"문서의 수: {len(docs)}\\n\")\n",
    "print(\"[메타데이터]\\n\")\n",
    "print(docs[0].metadata)\n",
    "print(\"\\n========= [앞부분] 미리보기 =========\\n\")\n",
    "print(docs[0].page_content[:500])"
   ]
  },
  {
   "cell_type": "markdown",
   "metadata": {},
   "source": [
    "## JSONLoader\n",
    "- JSON 파일을 로드할 때 쓰이며, 내부적으로 `jq` 패키지를 사용하므로 `jq` 문법에 맞춰서 사용해야 한다."
   ]
  },
  {
   "cell_type": "code",
   "execution_count": 48,
   "metadata": {},
   "outputs": [
    {
     "name": "stdout",
     "output_type": "stream",
     "text": [
      "[{'address': {'city': '서울', 'street': '312번지', 'zipCode': '83795'},\n",
      "  'age': 31,\n",
      "  'carOwnership': True,\n",
      "  'hobbies': ['요리', '음악 감상', '사진 촬영'],\n",
      "  'isMarried': True,\n",
      "  'name': '박시우',\n",
      "  'phoneNumbers': ['483-4639-1933', '947-4179-7976']},\n",
      " {'address': {'city': '서울', 'street': '877번지', 'zipCode': '36780'},\n",
      "  'age': 31,\n",
      "  'carOwnership': True,\n",
      "  'hobbies': ['여행', '음악 감상', '등산'],\n",
      "  'isMarried': False,\n",
      "  'name': '정수아',\n",
      "  'phoneNumbers': ['337-5721-3227', '387-3768-9586']},\n",
      " {'address': {'city': '서울', 'street': '175번지', 'zipCode': '89067'},\n",
      "  'age': 43,\n",
      "  'carOwnership': True,\n",
      "  'hobbies': ['등산', '독서', '게임'],\n",
      "  'isMarried': False,\n",
      "  'name': '최도윤',\n",
      "  'phoneNumbers': ['354-5563-4638', '471-9212-1826']},\n",
      " {'address': {'city': '서울', 'street': '690번지', 'zipCode': '70635'},\n",
      "  'age': 22,\n",
      "  'carOwnership': False,\n",
      "  'hobbies': ['여행', '등산', '게임'],\n",
      "  'isMarried': False,\n",
      "  'name': '정민준',\n",
      "  'phoneNumbers': ['468-2796-2152', '922-5760-7030']},\n",
      " {'address': {'city': '서울', 'street': '151번지', 'zipCode': '79118'},\n",
      "  'age': 79,\n",
      "  'carOwnership': False,\n",
      "  'hobbies': ['게임', '영화 감상', '음악 감상'],\n",
      "  'isMarried': True,\n",
      "  'name': '이민준',\n",
      "  'phoneNumbers': ['751-2823-8259', '722-7267-9516']},\n",
      " {'address': {'city': '서울', 'street': '855번지', 'zipCode': '21216'},\n",
      "  'age': 64,\n",
      "  'carOwnership': True,\n",
      "  'hobbies': ['독서', '등산', '요리'],\n",
      "  'isMarried': False,\n",
      "  'name': '최도윤',\n",
      "  'phoneNumbers': ['462-4433-5968', '483-1709-4850']},\n",
      " {'address': {'city': '서울', 'street': '683번지', 'zipCode': '75013'},\n",
      "  'age': 72,\n",
      "  'carOwnership': True,\n",
      "  'hobbies': ['여행', '사진 촬영', '독서'],\n",
      "  'isMarried': True,\n",
      "  'name': '최지훈',\n",
      "  'phoneNumbers': ['382-2779-3692', '835-4343-5346']},\n",
      " {'address': {'city': '서울', 'street': '547번지', 'zipCode': '33986'},\n",
      "  'age': 77,\n",
      "  'carOwnership': False,\n",
      "  'hobbies': ['독서', '등산', '음악 감상'],\n",
      "  'isMarried': True,\n",
      "  'name': '정도윤',\n",
      "  'phoneNumbers': ['136-2831-1021', '818-9721-7208']},\n",
      " {'address': {'city': '서울', 'street': '304번지', 'zipCode': '69380'},\n",
      "  'age': 44,\n",
      "  'carOwnership': True,\n",
      "  'hobbies': ['독서', '게임', '여행'],\n",
      "  'isMarried': False,\n",
      "  'name': '정하린',\n",
      "  'phoneNumbers': ['423-5001-2734', '256-4271-3750']},\n",
      " {'address': {'city': '서울', 'street': '924번지', 'zipCode': '77191'},\n",
      "  'age': 26,\n",
      "  'carOwnership': True,\n",
      "  'hobbies': ['등산', '독서', '여행'],\n",
      "  'isMarried': False,\n",
      "  'name': '김예준',\n",
      "  'phoneNumbers': ['668-1157-6180', '815-9997-6459']},\n",
      " {'address': {'city': '서울', 'street': '539번지', 'zipCode': '67491'},\n",
      "  'age': 48,\n",
      "  'carOwnership': True,\n",
      "  'hobbies': ['요리', '게임', '등산'],\n",
      "  'isMarried': True,\n",
      "  'name': '최수아',\n",
      "  'phoneNumbers': ['745-5529-4411', '437-3892-3668']},\n",
      " {'address': {'city': '서울', 'street': '358번지', 'zipCode': '70195'},\n",
      "  'age': 41,\n",
      "  'carOwnership': True,\n",
      "  'hobbies': ['여행', '영화 감상', '요리'],\n",
      "  'isMarried': False,\n",
      "  'name': '이서연',\n",
      "  'phoneNumbers': ['914-2071-3446', '539-6835-4629']},\n",
      " {'address': {'city': '서울', 'street': '741번지', 'zipCode': '82600'},\n",
      "  'age': 61,\n",
      "  'carOwnership': True,\n",
      "  'hobbies': ['영화 감상', '독서', '여행'],\n",
      "  'isMarried': True,\n",
      "  'name': '이지훈',\n",
      "  'phoneNumbers': ['709-3578-3445', '907-3295-1822']},\n",
      " {'address': {'city': '서울', 'street': '932번지', 'zipCode': '57742'},\n",
      "  'age': 47,\n",
      "  'carOwnership': True,\n",
      "  'hobbies': ['사진 촬영', '등산', '요리'],\n",
      "  'isMarried': False,\n",
      "  'name': '최서연',\n",
      "  'phoneNumbers': ['508-9125-7029', '939-1920-5084']},\n",
      " {'address': {'city': '서울', 'street': '603번지', 'zipCode': '30841'},\n",
      "  'age': 23,\n",
      "  'carOwnership': False,\n",
      "  'hobbies': ['등산', '독서', '여행'],\n",
      "  'isMarried': True,\n",
      "  'name': '이민준',\n",
      "  'phoneNumbers': ['891-2980-9497', '811-3249-9899']},\n",
      " {'address': {'city': '서울', 'street': '464번지', 'zipCode': '91295'},\n",
      "  'age': 52,\n",
      "  'carOwnership': False,\n",
      "  'hobbies': ['게임', '음악 감상', '요리'],\n",
      "  'isMarried': False,\n",
      "  'name': '박하은',\n",
      "  'phoneNumbers': ['499-4872-5904', '140-3733-7715']},\n",
      " {'address': {'city': '서울', 'street': '401번지', 'zipCode': '71129'},\n",
      "  'age': 61,\n",
      "  'carOwnership': True,\n",
      "  'hobbies': ['음악 감상', '요리', '여행'],\n",
      "  'isMarried': False,\n",
      "  'name': '정수아',\n",
      "  'phoneNumbers': ['672-6315-8675', '975-1259-1656']},\n",
      " {'address': {'city': '서울', 'street': '356번지', 'zipCode': '40080'},\n",
      "  'age': 19,\n",
      "  'carOwnership': False,\n",
      "  'hobbies': ['등산', '영화 감상', '요리'],\n",
      "  'isMarried': False,\n",
      "  'name': '이지훈',\n",
      "  'phoneNumbers': ['853-1953-3723', '408-3476-1336']},\n",
      " {'address': {'city': '서울', 'street': '940번지', 'zipCode': '60335'},\n",
      "  'age': 52,\n",
      "  'carOwnership': True,\n",
      "  'hobbies': ['요리', '사진 촬영', '등산'],\n",
      "  'isMarried': True,\n",
      "  'name': '최도윤',\n",
      "  'phoneNumbers': ['290-8270-9786', '483-1765-4028']},\n",
      " {'address': {'city': '서울', 'street': '289번지', 'zipCode': '59793'},\n",
      "  'age': 18,\n",
      "  'carOwnership': True,\n",
      "  'hobbies': ['여행', '요리', '영화 감상'],\n",
      "  'isMarried': True,\n",
      "  'name': '최주원',\n",
      "  'phoneNumbers': ['460-4533-7245', '344-2344-7362']}]\n"
     ]
    }
   ],
   "source": [
    "from langchain_community.document_loaders import JSONLoader\n",
    "\n",
    "import json\n",
    "from pathlib import Path\n",
    "from pprint import pprint\n",
    "\n",
    "\n",
    "file_path = \"data/people.json\"\n",
    "data = json.loads(Path(file_path).read_text())\n",
    "\n",
    "pprint(data)"
   ]
  },
  {
   "cell_type": "code",
   "execution_count": 51,
   "metadata": {},
   "outputs": [
    {
     "name": "stdout",
     "output_type": "stream",
     "text": [
      "[Document(page_content=\"['483-4639-1933', '947-4179-7976']\", metadata={'source': '/home/dudaji/nopro-ws/gitRepo/llm-study/Langchain/07-document_loader/data/people.json', 'seq_num': 1}),\n",
      " Document(page_content=\"['337-5721-3227', '387-3768-9586']\", metadata={'source': '/home/dudaji/nopro-ws/gitRepo/llm-study/Langchain/07-document_loader/data/people.json', 'seq_num': 2}),\n",
      " Document(page_content=\"['354-5563-4638', '471-9212-1826']\", metadata={'source': '/home/dudaji/nopro-ws/gitRepo/llm-study/Langchain/07-document_loader/data/people.json', 'seq_num': 3}),\n",
      " Document(page_content=\"['468-2796-2152', '922-5760-7030']\", metadata={'source': '/home/dudaji/nopro-ws/gitRepo/llm-study/Langchain/07-document_loader/data/people.json', 'seq_num': 4}),\n",
      " Document(page_content=\"['751-2823-8259', '722-7267-9516']\", metadata={'source': '/home/dudaji/nopro-ws/gitRepo/llm-study/Langchain/07-document_loader/data/people.json', 'seq_num': 5}),\n",
      " Document(page_content=\"['462-4433-5968', '483-1709-4850']\", metadata={'source': '/home/dudaji/nopro-ws/gitRepo/llm-study/Langchain/07-document_loader/data/people.json', 'seq_num': 6}),\n",
      " Document(page_content=\"['382-2779-3692', '835-4343-5346']\", metadata={'source': '/home/dudaji/nopro-ws/gitRepo/llm-study/Langchain/07-document_loader/data/people.json', 'seq_num': 7}),\n",
      " Document(page_content=\"['136-2831-1021', '818-9721-7208']\", metadata={'source': '/home/dudaji/nopro-ws/gitRepo/llm-study/Langchain/07-document_loader/data/people.json', 'seq_num': 8}),\n",
      " Document(page_content=\"['423-5001-2734', '256-4271-3750']\", metadata={'source': '/home/dudaji/nopro-ws/gitRepo/llm-study/Langchain/07-document_loader/data/people.json', 'seq_num': 9}),\n",
      " Document(page_content=\"['668-1157-6180', '815-9997-6459']\", metadata={'source': '/home/dudaji/nopro-ws/gitRepo/llm-study/Langchain/07-document_loader/data/people.json', 'seq_num': 10}),\n",
      " Document(page_content=\"['745-5529-4411', '437-3892-3668']\", metadata={'source': '/home/dudaji/nopro-ws/gitRepo/llm-study/Langchain/07-document_loader/data/people.json', 'seq_num': 11}),\n",
      " Document(page_content=\"['914-2071-3446', '539-6835-4629']\", metadata={'source': '/home/dudaji/nopro-ws/gitRepo/llm-study/Langchain/07-document_loader/data/people.json', 'seq_num': 12}),\n",
      " Document(page_content=\"['709-3578-3445', '907-3295-1822']\", metadata={'source': '/home/dudaji/nopro-ws/gitRepo/llm-study/Langchain/07-document_loader/data/people.json', 'seq_num': 13}),\n",
      " Document(page_content=\"['508-9125-7029', '939-1920-5084']\", metadata={'source': '/home/dudaji/nopro-ws/gitRepo/llm-study/Langchain/07-document_loader/data/people.json', 'seq_num': 14}),\n",
      " Document(page_content=\"['891-2980-9497', '811-3249-9899']\", metadata={'source': '/home/dudaji/nopro-ws/gitRepo/llm-study/Langchain/07-document_loader/data/people.json', 'seq_num': 15}),\n",
      " Document(page_content=\"['499-4872-5904', '140-3733-7715']\", metadata={'source': '/home/dudaji/nopro-ws/gitRepo/llm-study/Langchain/07-document_loader/data/people.json', 'seq_num': 16}),\n",
      " Document(page_content=\"['672-6315-8675', '975-1259-1656']\", metadata={'source': '/home/dudaji/nopro-ws/gitRepo/llm-study/Langchain/07-document_loader/data/people.json', 'seq_num': 17}),\n",
      " Document(page_content=\"['853-1953-3723', '408-3476-1336']\", metadata={'source': '/home/dudaji/nopro-ws/gitRepo/llm-study/Langchain/07-document_loader/data/people.json', 'seq_num': 18}),\n",
      " Document(page_content=\"['290-8270-9786', '483-1765-4028']\", metadata={'source': '/home/dudaji/nopro-ws/gitRepo/llm-study/Langchain/07-document_loader/data/people.json', 'seq_num': 19}),\n",
      " Document(page_content=\"['460-4533-7245', '344-2344-7362']\", metadata={'source': '/home/dudaji/nopro-ws/gitRepo/llm-study/Langchain/07-document_loader/data/people.json', 'seq_num': 20})]\n"
     ]
    }
   ],
   "source": [
    "loader = JSONLoader(\n",
    "    file_path=\"data/people.json\",\n",
    "    jq_schema=\".[].phoneNumbers\", # page_content에 들어갈 요소를 jq 문법으로 지정\n",
    "    text_content=False,\n",
    ")\n",
    "\n",
    "data = loader.load()\n",
    "\n",
    "pprint(data)"
   ]
  },
  {
   "cell_type": "markdown",
   "metadata": {},
   "source": [
    "# Text Loader"
   ]
  },
  {
   "cell_type": "code",
   "execution_count": 52,
   "metadata": {},
   "outputs": [
    {
     "name": "stdout",
     "output_type": "stream",
     "text": [
      "문서의 수: 1\n",
      "\n",
      "[메타데이터]\n",
      "\n",
      "{'source': 'data/appendix-keywords.txt'}\n",
      "\n",
      "========= [앞부분] 미리보기 =========\n",
      "\n",
      "Semantic Search\n",
      "\n",
      "정의: 의미론적 검색은 사용자의 질의를 단순한 키워드 매칭을 넘어서 그 의미를 파악하여 관련된 결과를 반환하는 검색 방식입니다.\n",
      "예시: 사용자가 \"태양계 행성\"이라고 검색하면, \"목성\", \"화성\" 등과 같이 관련된 행성에 대한 정보를 반환합니다.\n",
      "연관키워드: 자연어 처리, 검색 알고리즘, 데이터 마이닝\n",
      "\n",
      "Embedding\n",
      "\n",
      "정의: 임베딩은 단어나 문장 같은 텍스트 데이터를 저차원의 연속적인 벡터로 변환하는 과정입니다. 이를 통해 컴퓨터가 텍스트를 이해하고 처리할 수 있게 합니다.\n",
      "예시: \"사과\"라는 단어를 [0.65, -0.23, 0.17]과 같은 벡터로 표현합니다.\n",
      "연관키워드: 자연어 처리, 벡터화, 딥러닝\n",
      "\n",
      "Token\n",
      "\n",
      "정의: 토큰은 텍스트를 더 작은 단위로 분할하는 것을 의미합니다. 이는 일반적으로 단어, 문장, 또는 구절일 수 있습니다.\n",
      "예시: 문장 \"나는 학교에 간다\"를 \"나는\", \"학교에\", \"간다\"로 분할합니다.\n",
      "연관키워드: 토큰화, 자연어\n"
     ]
    }
   ],
   "source": [
    "from langchain_community.document_loaders import TextLoader\n",
    "\n",
    "loader = TextLoader(\"data/appendix-keywords.txt\")\n",
    "docs = loader.load()\n",
    "print(f\"문서의 수: {len(docs)}\\n\")\n",
    "print(\"[메타데이터]\\n\")\n",
    "print(docs[0].metadata)\n",
    "print(\"\\n========= [앞부분] 미리보기 =========\\n\")\n",
    "print(docs[0].page_content[:500])"
   ]
  },
  {
   "cell_type": "markdown",
   "metadata": {},
   "source": [
    "# File Directory\n",
    "- 폴더 안에 특정 문서들을 한번에 로드할 수 있다.\n",
    "- 내부적으로 [`UnstructuredLoader`](https://python.langchain.com/v0.1/docs/integrations/document_loaders/unstructured_file/)를 사용한다.\n",
    "- Default로 single thread에서 동작하지만 `use_multithreading=True` 옵션을 통해 multi threading으로 로드할 수 있다."
   ]
  },
  {
   "cell_type": "code",
   "execution_count": 53,
   "metadata": {},
   "outputs": [
    {
     "name": "stdout",
     "output_type": "stream",
     "text": [
      "문서의 수: 1\n",
      "\n",
      "[메타데이터]\n",
      "\n",
      "{'source': 'data/SPRI_AI_Brief_2023년12월호_F.pdf'}\n",
      "\n",
      "========= [앞부분] 미리보기 =========\n",
      "\n",
      "2023년 12월호\n",
      "\n",
      "2023년 12월호\n",
      "\n",
      "Ⅰ. 인공지능 산업 동향 브리프\n",
      "\n",
      "1. 정책/법제\n",
      "\n",
      "▹ 미국, 안전하고 신뢰할 수 있는 AI 개발과 사용에 관한 행정명령 발표 ························· 1\n",
      "\n",
      "▹ G7, 히로시마 AI 프로세스를 통해 AI 기업 대상 국제 행동강령에 합의 ··························· 2\n",
      "\n",
      "▹ 영국 AI 안전성 정상회의에 참가한 28개국, AI 위험에 공동 대응 선언 ··························· 3\n",
      "\n",
      "▹ 미국 법원, 예술가들이 생성 AI 기업에 제기한 저작권 소송 기각 ····································· 4\n",
      "\n",
      "▹ 미국 연방거래위원회, 저작권청에 소비자 보호와 경쟁 측면의 AI 의견서 제출 ················· 5\n",
      "\n",
      "▹ EU AI 법 3자 협상, 기반모델 규제 관련 견해차로 난항 ············································\n"
     ]
    }
   ],
   "source": [
    "from langchain_community.document_loaders import DirectoryLoader\n",
    "\n",
    "loader = DirectoryLoader(\".\", glob=\"data/*.pdf\")\n",
    "docs = loader.load()\n",
    "\n",
    "print(f\"문서의 수: {len(docs)}\\n\")\n",
    "print(\"[메타데이터]\\n\")\n",
    "print(docs[0].metadata)\n",
    "print(\"\\n========= [앞부분] 미리보기 =========\\n\")\n",
    "print(docs[0].page_content[:500])"
   ]
  },
  {
   "cell_type": "code",
   "execution_count": 54,
   "metadata": {},
   "outputs": [
    {
     "name": "stderr",
     "output_type": "stream",
     "text": [
      "100%|██████████| 2/2 [00:00<00:00, 10.01it/s]"
     ]
    },
    {
     "name": "stdout",
     "output_type": "stream",
     "text": [
      "문서의 수: 2\n",
      "\n",
      "[메타데이터]\n",
      "\n",
      "{'source': 'data/appendix-keywords-CP949.txt'}\n",
      "\n",
      "========= [앞부분] 미리보기 =========\n",
      "\n",
      "Semantic Search\n",
      "\n",
      "정의: 의미론적 검색은 사용자의 질의를 단순한 키워드 매칭을 넘어서 그 의미를 파악하여 관련된 결과를 반환하는 검색 방식입니다. 예시: 사용자가 \"태양계 행성\"이라고 검색하면, \"목성\", \"화성\" 등과 같이 관련된 행성에 대한 정보를 반환합니다. 연관키워드: 자연어 처리, 검색 알고리즘, 데이터 마이닝\n",
      "\n",
      "Embedding\n",
      "\n",
      "정의: 임베딩은 단어나 문장 같은 텍스트 데이터를 저차원의 연속적인 벡터로 변환하는 과정입니다. 이를 통해 컴퓨터가 텍스트를 이해하고 처리할 수 있게 합니다. 예시: \"사과\"라는 단어를 [0.65, -0.23, 0.17]과 같은 벡터로 표현합니다. 연관키워드: 자연어 처리, 벡터화, 딥러닝\n",
      "\n",
      "Token\n",
      "\n",
      "정의: 토큰은 텍스트를 더 작은 단위로 분할하는 것을 의미합니다. 이는 일반적으로 단어, 문장, 또는 구절일 수 있습니다. 예시: 문장 \"나는 학교에 간다\"를 \"나는\", \"학교에\", \"간다\"로 분할합니다. 연관키워드: 토큰화, 자연어\n"
     ]
    },
    {
     "name": "stderr",
     "output_type": "stream",
     "text": [
      "\n"
     ]
    }
   ],
   "source": [
    "loader = DirectoryLoader(\".\", glob=\"data/*.txt\", show_progress=True)\n",
    "docs = loader.load()\n",
    "\n",
    "print(f\"문서의 수: {len(docs)}\\n\")\n",
    "print(\"[메타데이터]\\n\")\n",
    "print(docs[0].metadata)\n",
    "print(\"\\n========= [앞부분] 미리보기 =========\\n\")\n",
    "print(docs[0].page_content[:500])"
   ]
  },
  {
   "cell_type": "markdown",
   "metadata": {},
   "source": [
    "위에서 언급했듯이 내부적으로 `UnstructuredLoader`를 사용한다고 했지만, 이는 `loader_cls` 옵션을 통해 바꿀 수 있다."
   ]
  },
  {
   "cell_type": "code",
   "execution_count": 55,
   "metadata": {},
   "outputs": [
    {
     "name": "stdout",
     "output_type": "stream",
     "text": [
      "문서의 수: 1\n",
      "\n",
      "[메타데이터]\n",
      "\n",
      "{'source': 'data/audio_utils.py'}\n",
      "\n",
      "========= [앞부분] 미리보기 =========\n",
      "\n",
      "import re\n",
      "import os\n",
      "from pytube import YouTube\n",
      "from moviepy.editor import AudioFileClip, VideoFileClip\n",
      "from pydub import AudioSegment\n",
      "from pydub.silence import detect_nonsilent\n",
      "\n",
      "\n",
      "def extract_abr(abr):\n",
      "    youtube_audio_pattern = re.compile(r\"\\d+\")\n",
      "    kbps = youtube_audio_pattern.search(abr)\n",
      "    if kbps:\n",
      "        kbps = kbps.group()\n",
      "        return int(kbps)\n",
      "    else:\n",
      "        return 0\n",
      "\n",
      "\n",
      "def get_audio_filepath(filename):\n",
      "    # audio 폴더가 없으면 생성\n",
      "    if not os.path.isdir(\"audio\"):\n",
      "        os.mkdir(\"au\n"
     ]
    }
   ],
   "source": [
    "from langchain_community.document_loaders import PythonLoader\n",
    "\n",
    "loader = DirectoryLoader(\".\", glob=\"**/*.py\", loader_cls=PythonLoader)\n",
    "docs = loader.load()\n",
    "\n",
    "print(f\"문서의 수: {len(docs)}\\n\")\n",
    "print(\"[메타데이터]\\n\")\n",
    "print(docs[0].metadata)\n",
    "print(\"\\n========= [앞부분] 미리보기 =========\\n\")\n",
    "print(docs[0].page_content[:500])"
   ]
  },
  {
   "cell_type": "markdown",
   "metadata": {},
   "source": [
    "# TextLoader 인코딩 자동감지\n",
    "- 대량으로 text 파일을 로드할 때 유용한 옵션\n",
    "- `silent_errors`: 로드할 수 없는 파일은 건너뛰고 계속 다음 로드 프로세스 진행\n",
    "- `autodetect_encoding`: 파일 인코딩을 자동으로 감지하도록 요청"
   ]
  },
  {
   "cell_type": "code",
   "execution_count": 65,
   "metadata": {},
   "outputs": [
    {
     "name": "stderr",
     "output_type": "stream",
     "text": [
      "Error loading file data/appendix-keywords-CP949.txt: Error loading data/appendix-keywords-CP949.txt\n",
      "Error loading file data/appendix-keywords-EUCKR.txt: Error loading data/appendix-keywords-EUCKR.txt\n"
     ]
    }
   ],
   "source": [
    "path = \"data/\"\n",
    "\n",
    "# text_loader_kwargs = {\"autodetect_encoding\": True}\n",
    "\n",
    "loader = DirectoryLoader(\n",
    "    path,\n",
    "    glob=\"**/*.txt\",\n",
    "    loader_cls=TextLoader,\n",
    "    silent_errors=True,\n",
    "    # loader_kwargs=text_loader_kwargs,\n",
    ")\n",
    "docs = loader.load()"
   ]
  },
  {
   "cell_type": "code",
   "execution_count": 70,
   "metadata": {},
   "outputs": [],
   "source": [
    "path = \"data/\"\n",
    "\n",
    "text_loader_kwargs = {\"autodetect_encoding\": True}\n",
    "\n",
    "loader = DirectoryLoader(\n",
    "    path,\n",
    "    glob=\"**/*.txt\",\n",
    "    loader_cls=TextLoader,\n",
    "    silent_errors=True,\n",
    "    loader_kwargs=text_loader_kwargs, # 자동 인코딩 감지를 통해 원래 에러가 발생한 파일도 정상적으로 로드할 수 있다.\n",
    ")\n",
    "docs = loader.load()"
   ]
  },
  {
   "cell_type": "code",
   "execution_count": 67,
   "metadata": {},
   "outputs": [
    {
     "data": {
      "text/plain": [
       "['data/chain-of-density.txt',\n",
       " 'data/reference.txt',\n",
       " 'data/appendix-keywords-CP949.txt',\n",
       " 'data/appendix-keywords-utf8.txt',\n",
       " 'data/appendix-keywords.txt',\n",
       " 'data/appendix-keywords-EUCKR.txt']"
      ]
     },
     "execution_count": 67,
     "metadata": {},
     "output_type": "execute_result"
    }
   ],
   "source": [
    "doc_sources = [doc.metadata[\"source\"] for doc in docs]\n",
    "doc_sources"
   ]
  },
  {
   "cell_type": "code",
   "execution_count": 68,
   "metadata": {},
   "outputs": [
    {
     "name": "stdout",
     "output_type": "stream",
     "text": [
      "[메타데이터]\n",
      "\n",
      "{'source': 'data/appendix-keywords-CP949.txt'}\n",
      "\n",
      "========= [앞부분] 미리보기 =========\n",
      "\n",
      "Semantic Search\n",
      "\n",
      "정의: 의미론적 검색은 사용자의 질의를 단순한 키워드 매칭을 넘어서 그 의미를 파악하여 관련된 결과를 반환하는 검색 방식입니다.\n",
      "예시: 사용자가 \"태양계 행성\"이라고 검색하면, \"목성\", \"화성\" 등과 같이 관련된 행성에 대한 정보를 반환합니다.\n",
      "연관키워드: 자연어 처리, 검색 알고리즘, 데이터 마이닝\n",
      "\n",
      "Embedding\n",
      "\n",
      "정의: 임베딩은 단어나 문장 같은 텍스트 데이터를 저차원의 연속적인 벡터로 변환하는 과정입니다. 이를 통해 컴퓨터가 텍스트를 이해하고 처리할 수 있게 합니다.\n",
      "예시: \"사과\"라는 단어를 [0.65, -0.23, 0.17]과 같은 벡터로 표현합니다.\n",
      "연관키워드: 자연어 처리, 벡터화, 딥러닝\n",
      "\n",
      "Token\n",
      "\n",
      "정의: 토큰은 텍스트를 더 작은 단위로 분할하는 것을 의미합니다. 이는 일반적으로 단어, 문장, 또는 구절일 수 있습니다.\n",
      "예시: 문장 \"나는 학교에 간다\"를 \"나는\", \"학교에\", \"간다\"로 분할합니다.\n",
      "연관키워드: 토큰화, 자연어\n"
     ]
    }
   ],
   "source": [
    "print(\"[메타데이터]\\n\")\n",
    "print(docs[2].metadata)\n",
    "print(\"\\n========= [앞부분] 미리보기 =========\\n\")\n",
    "print(docs[2].page_content[:500])"
   ]
  },
  {
   "cell_type": "code",
   "execution_count": 69,
   "metadata": {},
   "outputs": [
    {
     "name": "stdout",
     "output_type": "stream",
     "text": [
      "[메타데이터]\n",
      "\n",
      "{'source': 'data/appendix-keywords-utf8.txt'}\n",
      "\n",
      "========= [앞부분] 미리보기 =========\n",
      "\n",
      "Semantic Search\n",
      "\n",
      "정의: 의미론적 검색은 사용자의 질의를 단순한 키워드 매칭을 넘어서 그 의미를 파악하여 관련된 결과를 반환하는 검색 방식입니다.\n",
      "예시: 사용자가 \"태양계 행성\"이라고 검색하면, \"목성\", \"화성\" 등과 같이 관련된 행성에 대한 정보를 반환합니다.\n",
      "연관키워드: 자연어 처리, 검색 알고리즘, 데이터 마이닝\n",
      "\n",
      "Embedding\n",
      "\n",
      "정의: 임베딩은 단어나 문장 같은 텍스트 데이터를 저차원의 연속적인 벡터로 변환하는 과정입니다. 이를 통해 컴퓨터가 텍스트를 이해하고 처리할 수 있게 합니다.\n",
      "예시: \"사과\"라는 단어를 [0.65, -0.23, 0.17]과 같은 벡터로 표현합니다.\n",
      "연관키워드: 자연어 처리, 벡터화, 딥러닝\n",
      "\n",
      "Token\n",
      "\n",
      "정의: 토큰은 텍스트를 더 작은 단위로 분할하는 것을 의미합니다. 이는 일반적으로 단어, 문장, 또는 구절일 수 있습니다.\n",
      "예시: 문장 \"나는 학교에 간다\"를 \"나는\", \"학교에\", \"간다\"로 분할합니다.\n",
      "연관키워드: 토큰화, 자연어\n"
     ]
    }
   ],
   "source": [
    "print(\"[메타데이터]\\n\")\n",
    "print(docs[3].metadata)\n",
    "print(\"\\n========= [앞부분] 미리보기 =========\\n\")\n",
    "print(docs[3].page_content[:500])"
   ]
  },
  {
   "cell_type": "code",
   "execution_count": null,
   "metadata": {},
   "outputs": [],
   "source": []
  },
  {
   "cell_type": "code",
   "execution_count": null,
   "metadata": {},
   "outputs": [],
   "source": []
  }
 ],
 "metadata": {
  "kernelspec": {
   "display_name": "llm-study",
   "language": "python",
   "name": "python3"
  },
  "language_info": {
   "codemirror_mode": {
    "name": "ipython",
    "version": 3
   },
   "file_extension": ".py",
   "mimetype": "text/x-python",
   "name": "python",
   "nbconvert_exporter": "python",
   "pygments_lexer": "ipython3",
   "version": "3.1.-1"
  }
 },
 "nbformat": 4,
 "nbformat_minor": 2
}
