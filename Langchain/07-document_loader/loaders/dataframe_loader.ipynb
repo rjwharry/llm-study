{
 "cells": [
  {
   "cell_type": "code",
   "execution_count": 2,
   "metadata": {},
   "outputs": [],
   "source": [
    "import pandas as pd\n",
    "df = pd.read_csv(\"data/titanic.csv\")\n"
   ]
  },
  {
   "cell_type": "code",
   "execution_count": 3,
   "metadata": {},
   "outputs": [],
   "source": [
    "from langchain_community.document_loaders import DataFrameLoader"
   ]
  },
  {
   "cell_type": "code",
   "execution_count": 4,
   "metadata": {},
   "outputs": [],
   "source": [
    "loader = DataFrameLoader(df, page_content_column=\"Name\")"
   ]
  },
  {
   "cell_type": "code",
   "execution_count": 5,
   "metadata": {},
   "outputs": [
    {
     "data": {
      "text/plain": [
       "[Document(page_content='Braund, Mr. Owen Harris', metadata={'PassengerId': 1, 'Survived': 0, 'Pclass': 3, 'Sex': 'male', 'Age': 22.0, 'SibSp': 1, 'Parch': 0, 'Ticket': 'A/5 21171', 'Fare': 7.25, 'Cabin': nan, 'Embarked': 'S'}),\n",
       " Document(page_content='Cumings, Mrs. John Bradley (Florence Briggs Thayer)', metadata={'PassengerId': 2, 'Survived': 1, 'Pclass': 1, 'Sex': 'female', 'Age': 38.0, 'SibSp': 1, 'Parch': 0, 'Ticket': 'PC 17599', 'Fare': 71.2833, 'Cabin': 'C85', 'Embarked': 'C'}),\n",
       " Document(page_content='Heikkinen, Miss. Laina', metadata={'PassengerId': 3, 'Survived': 1, 'Pclass': 3, 'Sex': 'female', 'Age': 26.0, 'SibSp': 0, 'Parch': 0, 'Ticket': 'STON/O2. 3101282', 'Fare': 7.925, 'Cabin': nan, 'Embarked': 'S'}),\n",
       " Document(page_content='Futrelle, Mrs. Jacques Heath (Lily May Peel)', metadata={'PassengerId': 4, 'Survived': 1, 'Pclass': 1, 'Sex': 'female', 'Age': 35.0, 'SibSp': 1, 'Parch': 0, 'Ticket': '113803', 'Fare': 53.1, 'Cabin': 'C123', 'Embarked': 'S'}),\n",
       " Document(page_content='Allen, Mr. William Henry', metadata={'PassengerId': 5, 'Survived': 0, 'Pclass': 3, 'Sex': 'male', 'Age': 35.0, 'SibSp': 0, 'Parch': 0, 'Ticket': '373450', 'Fare': 8.05, 'Cabin': nan, 'Embarked': 'S'}),\n",
       " Document(page_content='Moran, Mr. James', metadata={'PassengerId': 6, 'Survived': 0, 'Pclass': 3, 'Sex': 'male', 'Age': nan, 'SibSp': 0, 'Parch': 0, 'Ticket': '330877', 'Fare': 8.4583, 'Cabin': nan, 'Embarked': 'Q'}),\n",
       " Document(page_content='McCarthy, Mr. Timothy J', metadata={'PassengerId': 7, 'Survived': 0, 'Pclass': 1, 'Sex': 'male', 'Age': 54.0, 'SibSp': 0, 'Parch': 0, 'Ticket': '17463', 'Fare': 51.8625, 'Cabin': 'E46', 'Embarked': 'S'}),\n",
       " Document(page_content='Palsson, Master. Gosta Leonard', metadata={'PassengerId': 8, 'Survived': 0, 'Pclass': 3, 'Sex': 'male', 'Age': 2.0, 'SibSp': 3, 'Parch': 1, 'Ticket': '349909', 'Fare': 21.075, 'Cabin': nan, 'Embarked': 'S'}),\n",
       " Document(page_content='Johnson, Mrs. Oscar W (Elisabeth Vilhelmina Berg)', metadata={'PassengerId': 9, 'Survived': 1, 'Pclass': 3, 'Sex': 'female', 'Age': 27.0, 'SibSp': 0, 'Parch': 2, 'Ticket': '347742', 'Fare': 11.1333, 'Cabin': nan, 'Embarked': 'S'}),\n",
       " Document(page_content='Nasser, Mrs. Nicholas (Adele Achem)', metadata={'PassengerId': 10, 'Survived': 1, 'Pclass': 2, 'Sex': 'female', 'Age': 14.0, 'SibSp': 1, 'Parch': 0, 'Ticket': '237736', 'Fare': 30.0708, 'Cabin': nan, 'Embarked': 'C'}),\n",
       " Document(page_content='Sandstrom, Miss. Marguerite Rut', metadata={'PassengerId': 11, 'Survived': 1, 'Pclass': 3, 'Sex': 'female', 'Age': 4.0, 'SibSp': 1, 'Parch': 1, 'Ticket': 'PP 9549', 'Fare': 16.7, 'Cabin': 'G6', 'Embarked': 'S'}),\n",
       " Document(page_content='Bonnell, Miss. Elizabeth', metadata={'PassengerId': 12, 'Survived': 1, 'Pclass': 1, 'Sex': 'female', 'Age': 58.0, 'SibSp': 0, 'Parch': 0, 'Ticket': '113783', 'Fare': 26.55, 'Cabin': 'C103', 'Embarked': 'S'}),\n",
       " Document(page_content='Saundercock, Mr. William Henry', metadata={'PassengerId': 13, 'Survived': 0, 'Pclass': 3, 'Sex': 'male', 'Age': 20.0, 'SibSp': 0, 'Parch': 0, 'Ticket': 'A/5. 2151', 'Fare': 8.05, 'Cabin': nan, 'Embarked': 'S'}),\n",
       " Document(page_content='Andersson, Mr. Anders Johan', metadata={'PassengerId': 14, 'Survived': 0, 'Pclass': 3, 'Sex': 'male', 'Age': 39.0, 'SibSp': 1, 'Parch': 5, 'Ticket': '347082', 'Fare': 31.275, 'Cabin': nan, 'Embarked': 'S'}),\n",
       " Document(page_content='Vestrom, Miss. Hulda Amanda Adolfina', metadata={'PassengerId': 15, 'Survived': 0, 'Pclass': 3, 'Sex': 'female', 'Age': 14.0, 'SibSp': 0, 'Parch': 0, 'Ticket': '350406', 'Fare': 7.8542, 'Cabin': nan, 'Embarked': 'S'}),\n",
       " Document(page_content='Hewlett, Mrs. (Mary D Kingcome) ', metadata={'PassengerId': 16, 'Survived': 1, 'Pclass': 2, 'Sex': 'female', 'Age': 55.0, 'SibSp': 0, 'Parch': 0, 'Ticket': '248706', 'Fare': 16.0, 'Cabin': nan, 'Embarked': 'S'}),\n",
       " Document(page_content='Rice, Master. Eugene', metadata={'PassengerId': 17, 'Survived': 0, 'Pclass': 3, 'Sex': 'male', 'Age': 2.0, 'SibSp': 4, 'Parch': 1, 'Ticket': '382652', 'Fare': 29.125, 'Cabin': nan, 'Embarked': 'Q'}),\n",
       " Document(page_content='Williams, Mr. Charles Eugene', metadata={'PassengerId': 18, 'Survived': 1, 'Pclass': 2, 'Sex': 'male', 'Age': nan, 'SibSp': 0, 'Parch': 0, 'Ticket': '244373', 'Fare': 13.0, 'Cabin': nan, 'Embarked': 'S'}),\n",
       " Document(page_content='Vander Planke, Mrs. Julius (Emelia Maria Vandemoortele)', metadata={'PassengerId': 19, 'Survived': 0, 'Pclass': 3, 'Sex': 'female', 'Age': 31.0, 'SibSp': 1, 'Parch': 0, 'Ticket': '345763', 'Fare': 18.0, 'Cabin': nan, 'Embarked': 'S'}),\n",
       " Document(page_content='Masselmani, Mrs. Fatima', metadata={'PassengerId': 20, 'Survived': 1, 'Pclass': 3, 'Sex': 'female', 'Age': nan, 'SibSp': 0, 'Parch': 0, 'Ticket': '2649', 'Fare': 7.225, 'Cabin': nan, 'Embarked': 'C'})]"
      ]
     },
     "execution_count": 5,
     "metadata": {},
     "output_type": "execute_result"
    }
   ],
   "source": [
    "loader.load()"
   ]
  },
  {
   "cell_type": "markdown",
   "metadata": {},
   "source": [
    "- 전체 테이블을 메모리에 로드하지 않고, 필요할 때마다 메모리에 로드하는 `lazy_load`를 지원한다."
   ]
  },
  {
   "cell_type": "code",
   "execution_count": 6,
   "metadata": {},
   "outputs": [
    {
     "name": "stdout",
     "output_type": "stream",
     "text": [
      "page_content='Braund, Mr. Owen Harris' metadata={'PassengerId': 1, 'Survived': 0, 'Pclass': 3, 'Sex': 'male', 'Age': 22.0, 'SibSp': 1, 'Parch': 0, 'Ticket': 'A/5 21171', 'Fare': 7.25, 'Cabin': nan, 'Embarked': 'S'}\n",
      "page_content='Cumings, Mrs. John Bradley (Florence Briggs Thayer)' metadata={'PassengerId': 2, 'Survived': 1, 'Pclass': 1, 'Sex': 'female', 'Age': 38.0, 'SibSp': 1, 'Parch': 0, 'Ticket': 'PC 17599', 'Fare': 71.2833, 'Cabin': 'C85', 'Embarked': 'C'}\n",
      "page_content='Heikkinen, Miss. Laina' metadata={'PassengerId': 3, 'Survived': 1, 'Pclass': 3, 'Sex': 'female', 'Age': 26.0, 'SibSp': 0, 'Parch': 0, 'Ticket': 'STON/O2. 3101282', 'Fare': 7.925, 'Cabin': nan, 'Embarked': 'S'}\n",
      "page_content='Futrelle, Mrs. Jacques Heath (Lily May Peel)' metadata={'PassengerId': 4, 'Survived': 1, 'Pclass': 1, 'Sex': 'female', 'Age': 35.0, 'SibSp': 1, 'Parch': 0, 'Ticket': '113803', 'Fare': 53.1, 'Cabin': 'C123', 'Embarked': 'S'}\n",
      "page_content='Allen, Mr. William Henry' metadata={'PassengerId': 5, 'Survived': 0, 'Pclass': 3, 'Sex': 'male', 'Age': 35.0, 'SibSp': 0, 'Parch': 0, 'Ticket': '373450', 'Fare': 8.05, 'Cabin': nan, 'Embarked': 'S'}\n",
      "page_content='Moran, Mr. James' metadata={'PassengerId': 6, 'Survived': 0, 'Pclass': 3, 'Sex': 'male', 'Age': nan, 'SibSp': 0, 'Parch': 0, 'Ticket': '330877', 'Fare': 8.4583, 'Cabin': nan, 'Embarked': 'Q'}\n",
      "page_content='McCarthy, Mr. Timothy J' metadata={'PassengerId': 7, 'Survived': 0, 'Pclass': 1, 'Sex': 'male', 'Age': 54.0, 'SibSp': 0, 'Parch': 0, 'Ticket': '17463', 'Fare': 51.8625, 'Cabin': 'E46', 'Embarked': 'S'}\n",
      "page_content='Palsson, Master. Gosta Leonard' metadata={'PassengerId': 8, 'Survived': 0, 'Pclass': 3, 'Sex': 'male', 'Age': 2.0, 'SibSp': 3, 'Parch': 1, 'Ticket': '349909', 'Fare': 21.075, 'Cabin': nan, 'Embarked': 'S'}\n",
      "page_content='Johnson, Mrs. Oscar W (Elisabeth Vilhelmina Berg)' metadata={'PassengerId': 9, 'Survived': 1, 'Pclass': 3, 'Sex': 'female', 'Age': 27.0, 'SibSp': 0, 'Parch': 2, 'Ticket': '347742', 'Fare': 11.1333, 'Cabin': nan, 'Embarked': 'S'}\n",
      "page_content='Nasser, Mrs. Nicholas (Adele Achem)' metadata={'PassengerId': 10, 'Survived': 1, 'Pclass': 2, 'Sex': 'female', 'Age': 14.0, 'SibSp': 1, 'Parch': 0, 'Ticket': '237736', 'Fare': 30.0708, 'Cabin': nan, 'Embarked': 'C'}\n",
      "page_content='Sandstrom, Miss. Marguerite Rut' metadata={'PassengerId': 11, 'Survived': 1, 'Pclass': 3, 'Sex': 'female', 'Age': 4.0, 'SibSp': 1, 'Parch': 1, 'Ticket': 'PP 9549', 'Fare': 16.7, 'Cabin': 'G6', 'Embarked': 'S'}\n",
      "page_content='Bonnell, Miss. Elizabeth' metadata={'PassengerId': 12, 'Survived': 1, 'Pclass': 1, 'Sex': 'female', 'Age': 58.0, 'SibSp': 0, 'Parch': 0, 'Ticket': '113783', 'Fare': 26.55, 'Cabin': 'C103', 'Embarked': 'S'}\n",
      "page_content='Saundercock, Mr. William Henry' metadata={'PassengerId': 13, 'Survived': 0, 'Pclass': 3, 'Sex': 'male', 'Age': 20.0, 'SibSp': 0, 'Parch': 0, 'Ticket': 'A/5. 2151', 'Fare': 8.05, 'Cabin': nan, 'Embarked': 'S'}\n",
      "page_content='Andersson, Mr. Anders Johan' metadata={'PassengerId': 14, 'Survived': 0, 'Pclass': 3, 'Sex': 'male', 'Age': 39.0, 'SibSp': 1, 'Parch': 5, 'Ticket': '347082', 'Fare': 31.275, 'Cabin': nan, 'Embarked': 'S'}\n",
      "page_content='Vestrom, Miss. Hulda Amanda Adolfina' metadata={'PassengerId': 15, 'Survived': 0, 'Pclass': 3, 'Sex': 'female', 'Age': 14.0, 'SibSp': 0, 'Parch': 0, 'Ticket': '350406', 'Fare': 7.8542, 'Cabin': nan, 'Embarked': 'S'}\n",
      "page_content='Hewlett, Mrs. (Mary D Kingcome) ' metadata={'PassengerId': 16, 'Survived': 1, 'Pclass': 2, 'Sex': 'female', 'Age': 55.0, 'SibSp': 0, 'Parch': 0, 'Ticket': '248706', 'Fare': 16.0, 'Cabin': nan, 'Embarked': 'S'}\n",
      "page_content='Rice, Master. Eugene' metadata={'PassengerId': 17, 'Survived': 0, 'Pclass': 3, 'Sex': 'male', 'Age': 2.0, 'SibSp': 4, 'Parch': 1, 'Ticket': '382652', 'Fare': 29.125, 'Cabin': nan, 'Embarked': 'Q'}\n",
      "page_content='Williams, Mr. Charles Eugene' metadata={'PassengerId': 18, 'Survived': 1, 'Pclass': 2, 'Sex': 'male', 'Age': nan, 'SibSp': 0, 'Parch': 0, 'Ticket': '244373', 'Fare': 13.0, 'Cabin': nan, 'Embarked': 'S'}\n",
      "page_content='Vander Planke, Mrs. Julius (Emelia Maria Vandemoortele)' metadata={'PassengerId': 19, 'Survived': 0, 'Pclass': 3, 'Sex': 'female', 'Age': 31.0, 'SibSp': 1, 'Parch': 0, 'Ticket': '345763', 'Fare': 18.0, 'Cabin': nan, 'Embarked': 'S'}\n",
      "page_content='Masselmani, Mrs. Fatima' metadata={'PassengerId': 20, 'Survived': 1, 'Pclass': 3, 'Sex': 'female', 'Age': nan, 'SibSp': 0, 'Parch': 0, 'Ticket': '2649', 'Fare': 7.225, 'Cabin': nan, 'Embarked': 'C'}\n"
     ]
    }
   ],
   "source": [
    "# 더 큰 테이블에 대해 지연 로드를 사용하여 전체 테이블을 메모리에 읽어들이지 않습니다.\n",
    "for i in loader.lazy_load():\n",
    "    # 각 항목을 출력합니다.\n",
    "    print(i)"
   ]
  },
  {
   "cell_type": "code",
   "execution_count": null,
   "metadata": {},
   "outputs": [],
   "source": []
  }
 ],
 "metadata": {
  "kernelspec": {
   "display_name": "llm-study",
   "language": "python",
   "name": "python3"
  },
  "language_info": {
   "codemirror_mode": {
    "name": "ipython",
    "version": 3
   },
   "file_extension": ".py",
   "mimetype": "text/x-python",
   "name": "python",
   "nbconvert_exporter": "python",
   "pygments_lexer": "ipython3",
   "version": "3.11.9"
  }
 },
 "nbformat": 4,
 "nbformat_minor": 2
}
