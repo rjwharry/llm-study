{
 "cells": [
  {
   "cell_type": "markdown",
   "metadata": {},
   "source": [
    "# Async Chromium\n",
    "- `AsyncChromiumLoader`는 페이지를 로드한 다음 `Html2TextTransformer`를 사용하여 텍스트로 변환"
   ]
  },
  {
   "cell_type": "code",
   "execution_count": 1,
   "metadata": {},
   "outputs": [
    {
     "data": {
      "text/plain": [
       "True"
      ]
     },
     "execution_count": 1,
     "metadata": {},
     "output_type": "execute_result"
    }
   ],
   "source": [
    "# API 키를 환경변수로 관리하기 위한 설정 파일\n",
    "from dotenv import load_dotenv\n",
    "\n",
    "# API 키 정보 로드\n",
    "load_dotenv()"
   ]
  },
  {
   "cell_type": "code",
   "execution_count": 2,
   "metadata": {},
   "outputs": [],
   "source": [
    "import nest_asyncio\n",
    "\n",
    "nest_asyncio.apply()"
   ]
  },
  {
   "cell_type": "code",
   "execution_count": 9,
   "metadata": {},
   "outputs": [
    {
     "data": {
      "text/plain": [
       "'ews_800x420_20221201.png\">\\n  <meta property=\"og:description\" content=\"정치, 경제, 사회, 생활/문화, 세계, IT/과학 등 언론사별, 분야별 뉴스 기사 제공\">\\n  <meta property=\"og:article:author\" content=\"네이버\">\\n  <meta name=\"twitter:card\" content=\"summary\">\\n  <meta name=\"twitter:title\" content=\"네이버 뉴스\">\\n  <meta name=\"twitter:site\" content=\"네이버 뉴스\">\\n  <meta name=\"twitter:creator\" content=\"네이버 뉴스\">\\n  <meta name=\"twitter:image\" content=\"https://ssl.pstatic.net/static.news/image/news/ogtag/navernews_800x420_20221201.png\">\\n  <meta name='"
      ]
     },
     "execution_count": 9,
     "metadata": {},
     "output_type": "execute_result"
    }
   ],
   "source": [
    "from langchain_community.document_loaders import AsyncChromiumLoader\n",
    "\n",
    "# 크롤링할 URL 목록을 설정합니다.\n",
    "urls = [\"https://news.naver.com\"]\n",
    "\n",
    "# AsyncChromiumLoader를 사용하여 URL에서 비동기적으로 문서를 로드합니다.\n",
    "loader = AsyncChromiumLoader(urls)\n",
    "# 로드된 문서를 가져옵니다.\n",
    "docs = loader.load()\n",
    "\n",
    "# 0번 문서의 내용 중 중간의 500자를 출력합니다.\n",
    "docs[0].page_content[6000:6500]"
   ]
  },
  {
   "cell_type": "markdown",
   "metadata": {},
   "source": [
    "`Html2TextTransformer`의 `transform_documents` 함수를 통해 HTML 문서를 텍스트 문서로 변환"
   ]
  },
  {
   "cell_type": "code",
   "execution_count": 11,
   "metadata": {},
   "outputs": [],
   "source": [
    "from langchain_community.document_transformers import Html2TextTransformer\n",
    "\n",
    "html2text = Html2TextTransformer()  # HTML을 텍스트로 변환하는 객체를 생성합니다.\n",
    "docs_transformed = html2text.transform_documents(\n",
    "    docs\n",
    ")  # HTML 문서를 텍스트로 변환합니다."
   ]
  },
  {
   "cell_type": "code",
   "execution_count": 14,
   "metadata": {},
   "outputs": [
    {
     "name": "stdout",
     "output_type": "stream",
     "text": [
      "것으로 파악했습니다.\n",
      "합동참모본부는 공지를 통해 북한이 어젯밤에 이어 이틀간 오물 풍선을 무더기로 살포했\n",
      "\n",
      "#### 주간동아06월 02일 09:06\n",
      "\n",
      "구독\n",
      "\n",
      "[영상] 부동산 전문가 조영광 “인구 감소로 집값 떨어진다는 건 말도 안 되는 얘기”\n",
      "\n",
      "“인구 감소는 쏠림 현상 촉진하고, 쏠림 지역은 집값 오를 수밖에 없어” 서울 강남·서초·용산구 등 상급지 주요 아파트 시세가 종전 최고점을\n",
      "회복한 반면, 한때 영끌족 성지로 꼽히던 노원·도봉·강북구는 하락세를 보이\n",
      "\n",
      "#### 아시아경제06월 02일 15:56\n",
      "\n",
      "구독\n",
      "\n",
      "백종원 영상 속에 '밀양 여중생 성폭행' 가해자가…뒤늦게 조회수 폭발\n",
      "\n",
      "백종원 백종원 더본코리아 대표의 유튜브 채널에 올라온 과거 영상의 조회수가 뒤늦게 폭발하고 있다. 해당 영상 속 직원이 밀양 성폭행 사건\n",
      "주동자라는 폭로가 나오면서다. 백 대표의 유튜브 채널에서 올린 2022년 '님\n",
      "\n",
      "#### 뉴스106월 02일 15:38\n",
      "\n",
      "구독\n",
      "\n",
      "[단독] 강형욱 반려견 안락사시킨 수의사 \n"
     ]
    }
   ],
   "source": [
    "print(docs_transformed[0].page_content[6000:6500])\n"
   ]
  },
  {
   "cell_type": "markdown",
   "metadata": {},
   "source": [
    "# BeautifulSoupTransformer\n",
    "- beautifulsoup 모듈을 통해 HTML문서에서 태그들을 직접 다룰 수 있다"
   ]
  },
  {
   "cell_type": "code",
   "execution_count": 15,
   "metadata": {},
   "outputs": [],
   "source": [
    "from langchain_community.document_transformers import BeautifulSoupTransformer\n",
    "\n",
    "# 변환 작업\n",
    "bs_transformer = BeautifulSoupTransformer()\n",
    "# HTML 문서를 변환합니다. p, li, div, a 태그의 내용을 추출합니다.\n",
    "docs_transformed = bs_transformer.transform_documents(\n",
    "    docs,\n",
    "    # tags_to_extract=[\"p\", \"li\", \"div\", \"a\"]\n",
    "    tags_to_extract=[\"a\"],\n",
    ")"
   ]
  },
  {
   "cell_type": "code",
   "execution_count": 16,
   "metadata": {},
   "outputs": [
    {
     "name": "stdout",
     "output_type": "stream",
     "text": [
      "본문 바로가기 (#ct) NAVER 뉴스  (https://entertain.naver.com/home) 연예  (https://entertain.naver.com/home)  (https://sports.news.naver.com/index) 스포츠  (https://sports.news.naver.com/index)  (https://weather.naver.com/) 날씨  (https://weather.naver.com/)  (https://contents.premium.naver.com/) 프리미엄  (https://contents.premium.naver.com/) 로그인  (javascript:;) 내정보 보기 (임직원혜택) (#) 프로필 사진 변경 _ (https://nid.naver.com/user2/api/naverProfile?m=checkIdType) 로그아웃 @naver.com (https://mail.naver.com) 네이버ID (https://nid.naver.com/user2/help/myInfo?menu=home) 보안설정 (https://nid.naver.com/user2/help/myInfo?m=viewSecurity&menu=security) 내인증서 (https://nid.naver.com/user2/eSign/v1/home/land) 네이버 멤버쉽 내 페이포인트 내 블로그 (https://blog.naver.com/MyBlog.naver) 가입한 카페 (https://section.cafe.naver.com) N Pay 네이버 멤버십 최대 5% 적립 환경설정 네이버톡 알림 내 알림 전체보기 (https://m.notify.naver.com/?from=pcmain) 메일 서비스 더보기 닫기 추가 (#) 추가 (#) 추가 (#) 추가 (#) 즐겨찾기 설정 삭제 카페 (https://cafe.naver.com/) 뉴스 (https://news.naver.com/) 지도 (https://map.naver.com/) 스포츠 (h\n"
     ]
    }
   ],
   "source": [
    "print(docs_transformed[0].page_content[:1000])\n"
   ]
  },
  {
   "cell_type": "markdown",
   "metadata": {},
   "source": [
    "# WebBaseLoader\n",
    "- 웹 페이지의 모든 텍스트를 추출하여 langchain Document로 변환한다.\n",
    "- 특정 사례나 데이터 소스에 최적화된 로직을 적용하기 위해 자식 클래스들을 활용할 수도 있다.\n",
    "    - `IMSDbLoader`: 영화 대본을 다루는 IMSDb 웹사이트에서 데이터를 로드하는 데 특화\n",
    "    - `AZLyricsLoader`: 가사 정보를 제공하는 AZLyrics 웹사이트의 텍스트를 추출\n",
    "    - `CollegeConfidentialLoader`: 대학 커뮤니티 포럼인 CollegeConfidential에서 데이터를 가져오는 데 최적화\n",
    "- URL 리스트를 전달하면 여러 페이지를 한번에 로드할 수 있다."
   ]
  },
  {
   "cell_type": "code",
   "execution_count": 17,
   "metadata": {},
   "outputs": [],
   "source": [
    "from langchain_community.document_loaders import WebBaseLoader\n",
    "\n",
    "# 웹 페이지 \"https://news.naver.com/\"에서 데이터를 로드하는 WebBaseLoader 객체를 생성합니다.\n",
    "loader = WebBaseLoader(\"https://news.naver.com/\")\n",
    "\n",
    "# 한글이 깨져서 로드되는 경우 아래와 같이 인코딩을 지정합니다.\n",
    "# loader = WebBaseLoader(\"https://news.naver.com/\", encoding=\"utf-8\")"
   ]
  },
  {
   "cell_type": "code",
   "execution_count": 19,
   "metadata": {},
   "outputs": [],
   "source": [
    "loader.requests_kwargs = {\"verify\": False}"
   ]
  },
  {
   "cell_type": "code",
   "execution_count": 22,
   "metadata": {},
   "outputs": [
    {
     "name": "stderr",
     "output_type": "stream",
     "text": [
      "/home/dudaji/anaconda3/envs/llm-study/lib/python3.11/site-packages/urllib3/connectionpool.py:1103: InsecureRequestWarning: Unverified HTTPS request is being made to host 'news.naver.com'. Adding certificate verification is strongly advised. See: https://urllib3.readthedocs.io/en/latest/advanced-usage.html#tls-warnings\n",
      "  warnings.warn(\n"
     ]
    },
    {
     "name": "stdout",
     "output_type": "stream",
     "text": [
      "he weekend, according to Seoul's Joi한국일보06월 02일 16:20구독조국 \"감옥 가면 스쾃·팔굽혀펴기 하겠다… 내 일은 당이 해줄 것\"“내가 감옥에 가게 된다면 당이 내 일을 대신해줄 것이다. 얼마나 오래 그곳에 있을지 모르겠지만, 스쾃과 팔굽혀펴기를 하겠다.” 조국 조국혁신당 대표가 외신과의 인터뷰에서 윤석열 정권과의 투쟁 의지를 재매일경제06월 02일 16:15구독작년 24억 번 ‘이병헌 협박녀’...올해 초 은퇴선언하더니 활동 재개?배우 이병헌의 사적 동영상을 유포하겠다며 50억원을 요구했던 그룹 글램 출신 아프리카TV BJ 김시원이 올해 초 은퇴를 선언한 이후 처음으로 근황을 알렸다. 김시원은 지난달 28일 자신의 인스타그램에 ‘나시 원피스로매일신문06월 02일 15:45구독\"영부인 첫 단독외교?…김정숙, 특별수행원 자격\n"
     ]
    }
   ],
   "source": [
    "# 로더를 사용하여 데이터를 불러옵니다.\n",
    "web_data = loader.load()\n",
    "# 불러온 데이터를 출력합니다.\n",
    "print(web_data[0].page_content[2000:2500].replace(\"\\n\", \"\"))"
   ]
  },
  {
   "cell_type": "code",
   "execution_count": 23,
   "metadata": {},
   "outputs": [
    {
     "name": "stdout",
     "output_type": "stream",
     "text": [
      "Naver\n",
      "                       구독설정                                속보당정, 과일류·식품 원료 관세 인하 하반기까지 연장 검토머니투데이내용작성전당정 \"당, 과일류·식품원료 관세 인하 하반기 연장 요청\"뉴스1내용작성전당정 \"모든 신병교육대 훈련실태·병영생활여건 긴급점검\"MBN내용작성전당정 “모든 신병교육대 훈련실태·병영생활여건 긴급점검”매일경제내용작성전당정 \"北 오물풍선·GPS 교란 강력규탄…즉각중단 촉구\"연합뉴스내용작성전당정, 과일류·식품원료 관세 인하 하반기까지 연장 검토SBS Biz내용작성전추경호 \"민주, 법사위 맡으면 국힘이 국회의장 맡아야\"서울경제추경호 \"민주, 법사위 맡는다면, 국힘이 국회의장 맡아야\"대전일보'12사단 훈련병 사망' 여성 중대장 살인죄로 고발...\"미필적 고의\"한경비즈니스내용작성전속보 닫기한국경제TV06월 02일 16:14구독맥주가 단돈 1,000원…편맥족 공략편의점 세븐일레븐이 본격적인 맥주 시즌을 앞두고 '천원 맥주'로 소비자를 공략한다. 세븐일레븐은 고물가 시대에 수입 맥주를 천원에 선보이는 '천원 맥주' 마케팅을 펼치고 있다고 2일 밝혔다. 세븐일레븐은 지난 4월 대전일보06월 02일 16:08구독\"김호중, 불안한 가정에서 제대로 교육 못 받아\"… 감싸기 청원 '논란''음주 뺑소니' 혐의를 받는 가수 김호중을 감싸는 내용의 글이 KBS 청원 게시판에 올라온 것으로 뒤늦게 확인돼 논란이 되고 있다. 2일 온라인 커뮤니티 등에 따르면 작성자 A 씨는 지난달 26일 KBS 시청자 청원코리아헤럴드06월 02일 13:47구독Jirisan bear \n",
      "============================================================\n",
      "Daum\n",
      "홈 | 다음뉴스본문 바로가기메뉴 바로가기뉴스관련 서비스연예스포츠 뉴스 메인메뉴홈사회정치경제국제문화IT연재포토팩트체크홈이슈 기사 목록사회                                    “차 앞유리 깨지고 北 담배 냄새 진동”…‘역대 최다’ 오물 풍선에 시민들 곤욕                                정치                                    軍 \"북 오물풍선 720여개 식별\"...NSC 상임위 확대회의 개최                                경제                                    5대 은행 수익성 개선…직원 급여도 1.1억원 돌파                                사회                                    탈북민 단체, 오물풍선에 ‘대북전단’ 맞대응 예고… 정부 “자제요청 쉽지않아”                                사회                                    [단독] 최재영, 김건희 여사 첫 접견 뒤 “샤넬 화장품은 포장 뜯어” 메모                                정치                                    민주, ‘채상병 특검법 관철’ 전국 순회 집회 검토                                사회                                    확인사살·즉결처형 5·18계엄군 검찰 고발 왜?[뉴스분석]                                정치                                    황우여 \"당·정부·대통령실, 1인 3각 달리기하듯 한 호흡으로 난제 풀 것\"                                문화                                    韓 연주자 입상 불발된 퀸 엘리자베스 콩쿠르 결과 논란…“정\n"
     ]
    }
   ],
   "source": [
    "# 웹 페이지 URL 목록을 사용하여 WebBaseLoader 객체를 생성합니다.\n",
    "loader = WebBaseLoader([\"https://news.naver.com/\", \"https://news.daum.net\"])\n",
    "docs = loader.load()  # 지정된 웹 페이지에서 문서를 로드합니다.\n",
    "# 로드된 문서를 출력합니다.\n",
    "print(\"Naver\")\n",
    "print(docs[0].page_content.replace(\"\\n\", \"\")[200:1000])\n",
    "print(\"===\" * 20)\n",
    "print(\"Daum\")\n",
    "print(docs[1].page_content.replace(\"\\n\", \"\")[:1000])"
   ]
  },
  {
   "cell_type": "markdown",
   "metadata": {},
   "source": [
    "- 여러 URL을 동시에 로드해서 파싱하면 다량의 데이터를 빠르고 효율적으로 수집할 수 있다.\n",
    "- `aload` 함수를 통해 비동기적으로 웹 페이지를 로드한다.\n",
    "- `requests_per_second`로 초당 요청수를 조절할 수 있다. 기본값: 2"
   ]
  },
  {
   "cell_type": "code",
   "execution_count": 24,
   "metadata": {},
   "outputs": [
    {
     "name": "stderr",
     "output_type": "stream",
     "text": [
      "Fetching pages: 100%|##########| 2/2 [00:00<00:00,  7.68it/s]\n"
     ]
    },
    {
     "name": "stdout",
     "output_type": "stream",
     "text": [
      "Naver\n",
      "                       구독설정                                속보당정 \"훈련병 사망사고 면밀히 조사해 종합 재발 방지 대책 수립\"머니투데이내용작성전당정 “모든 신병교육대 훈련실태·병영생활여건 긴급점검”헤럴드경제내용작성전당정 \"北 오물풍선·GPS 교란 강력규탄…즉각중단 촉구\"중앙일보내용작성전당정 \"북한 대남 오물풍선 살포 및 GPS 교란  규탄\"뉴스1내용작성전당정 \"훈련병 사망사고 면밀조사…재발방지책 수립\"아시아경제내용작성전당정 \"北 오물풍선, 상상할 수 없는 저급·치졸한 행위\"YTN당정 \"모든 신병교육대 훈련실태·병영생활여건 긴급점검\"MBN내용작성전당정 “모든 신병교육대 훈련실태·병영생활여건 긴급점검”매일경제내용작성전당정 \"北 오물풍선·GPS 교란 강력규탄…즉각중단 촉구\"연합뉴스내용작성전당정, 과일류·식품원료 관세 인하 하반기까지 연장 검토SBS Biz내용작성전추경호 \"민주, 법사위 맡으면 국힘이 국회의장 맡아야\"서울경제추경호 \"민주, 법사위 맡는다면, 국힘이 국회의장 맡아야\"대전일보'12사단 훈련병 사망' 여성 중대장 살인죄로 고발...\"미필적 고의\"한경비즈니스내용작성전속보 닫기kbc광주방송06월 02일 16:16구독동영상재생시간15:31'고검장 출신' 양부남 \"尹 본인 개입 단서 나와..용산 압수수색, 대통령 조사 필요\"[국민맞수]채상병 사망 사건 수사 관련 윤석열 대통령이 개인 휴대폰으로 당시 해외 체류 중이던 이종섭 국방부 장관과 하루 세 차례 통화했다는 논란과 관련해 고검장 출신인 양부남 더불어민주당 의원은 \"대통령 직접 조사가 불가피하대구MBC06월 02\n",
      "============================================================\n",
      "Daum\n",
      "홈 | 다음뉴스본문 바로가기메뉴 바로가기뉴스관련 서비스연예스포츠 뉴스 메인메뉴홈사회정치경제국제문화IT연재포토팩트체크홈이슈 기사 목록국제                                    “전쟁은 계속된다” 이스라엘·하마스, 美 새 휴전안에도 냉랭                                사회                                    “차 앞유리 깨지고 北 담배 냄새 진동”…‘역대 최다’ 오물 풍선에 시민들 곤욕                                정치                                    軍 \"북 오물풍선 720여개 식별\"...NSC 상임위 확대회의 개최                                경제                                    5대 은행 수익성 개선…직원 급여도 1.1억원 돌파                                사회                                    탈북민 단체, 오물풍선에 ‘대북전단’ 맞대응 예고… 정부 “자제요청 쉽지않아”                                사회                                    [단독] 최재영, 김건희 여사 첫 접견 뒤 “샤넬 화장품은 포장 뜯어” 메모                                정치                                    민주, ‘채상병 특검법 관철’ 전국 순회 집회 검토                                사회                                    확인사살·즉결처형 5·18계엄군 검찰 고발 왜?[뉴스분석]                                정치                                    황우여 \"당·정부·대통령실, 1인 3각 달리기하듯 한 호흡으로 난제 풀 것\"\n"
     ]
    }
   ],
   "source": [
    "# 웹 페이지 URL 목록을 사용하여 WebBaseLoader 객체를 생성합니다.\n",
    "loader = WebBaseLoader([\"https://news.naver.com/\", \"https://news.daum.net\"])\n",
    "loader.requests_per_second = 2  # 초당 요청 수를 2로 설정합니다.\n",
    "docs = loader.aload()  # 지정된 웹 페이지에서 문서를 로드합니다.\n",
    "# 로드된 문서를 출력합니다.\n",
    "print(\"Naver\")\n",
    "print(docs[0].page_content.replace(\"\\n\", \"\")[200:1000])\n",
    "print(\"===\" * 20)\n",
    "print(\"Daum\")\n",
    "print(docs[1].page_content.replace(\"\\n\", \"\")[:1000])"
   ]
  },
  {
   "cell_type": "markdown",
   "metadata": {},
   "source": [
    "# SitemapLoader\n",
    "- SitemapLoader는 지정된 URL에서 사이트맵을 로드한 다음 사이트맵의 모든 페이지를 스크랩하고 로드하여 각 페이지를 문서로 반환.\n",
    "- 병렬적으로 scarping 작업이 일어나며, 마찬가지로 초당 요청수 기본값은 2이다.\n",
    "- 사이트맵을 통해 웹 사이트 구조를 분석하거나 특정 페이지에 대한 정보를 수집할 때 유용할 수 있다."
   ]
  },
  {
   "cell_type": "code",
   "execution_count": 3,
   "metadata": {},
   "outputs": [
    {
     "name": "stderr",
     "output_type": "stream",
     "text": [
      "Fetching pages: 100%|##########| 28/28 [00:12<00:00,  2.24it/s]\n"
     ]
    }
   ],
   "source": [
    "from langchain_community.document_loaders.sitemap import SitemapLoader\n",
    "\n",
    "sitemap_loader = SitemapLoader(web_path=\"https://api.python.langchain.com/sitemap.xml\")\n",
    "docs = sitemap_loader.load()"
   ]
  },
  {
   "cell_type": "code",
   "execution_count": 4,
   "metadata": {},
   "outputs": [
    {
     "data": {
      "text/plain": [
       "Document(page_content='\\n\\n\\n\\n\\n\\n\\n\\n\\n\\nLangChain Python API Reference Documentation.\\n\\n\\nYou will be automatically redirected to the new location of this page.\\n\\n', metadata={'source': 'https://api.python.langchain.com/en/stable/', 'loc': 'https://api.python.langchain.com/en/stable/', 'lastmod': '2024-05-15T00:29:42.163001+00:00', 'changefreq': 'weekly', 'priority': '1'})"
      ]
     },
     "execution_count": 4,
     "metadata": {},
     "output_type": "execute_result"
    }
   ],
   "source": [
    "docs[0]"
   ]
  },
  {
   "cell_type": "code",
   "execution_count": null,
   "metadata": {},
   "outputs": [],
   "source": []
  }
 ],
 "metadata": {
  "kernelspec": {
   "display_name": "llm-study",
   "language": "python",
   "name": "python3"
  },
  "language_info": {
   "codemirror_mode": {
    "name": "ipython",
    "version": 3
   },
   "file_extension": ".py",
   "mimetype": "text/x-python",
   "name": "python",
   "nbconvert_exporter": "python",
   "pygments_lexer": "ipython3",
   "version": "3.11.9"
  }
 },
 "nbformat": 4,
 "nbformat_minor": 2
}
