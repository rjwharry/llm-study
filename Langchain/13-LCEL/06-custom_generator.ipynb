{
 "cells": [
  {
   "cell_type": "markdown",
   "metadata": {},
   "source": [
    "# Custom Generator\n",
    "- generator 함수를 LCEL 체인에서 사용할 수 있음\n",
    "- `Iterator[Input] -> Interator[Output]` 형식이어야 하며, 비동기의 경우 `AsyncIterator[Input] -> AsyncIterator[Output]` 형식이어야 한다."
   ]
  },
  {
   "cell_type": "code",
   "execution_count": 1,
   "metadata": {},
   "outputs": [
    {
     "data": {
      "text/plain": [
       "True"
      ]
     },
     "execution_count": 1,
     "metadata": {},
     "output_type": "execute_result"
    }
   ],
   "source": [
    "# API 키를 환경변수로 관리하기 위한 설정 파일\n",
    "import os\n",
    "from dotenv import load_dotenv\n",
    "\n",
    "# API 키 정보 로드\n",
    "load_dotenv()"
   ]
  },
  {
   "cell_type": "code",
   "execution_count": 2,
   "metadata": {},
   "outputs": [],
   "source": [
    "from typing import Iterator, List\n",
    "\n",
    "from langchain.prompts.chat import ChatPromptTemplate\n",
    "from langchain_core.output_parsers import StrOutputParser\n",
    "from langchain_community.chat_models import ChatOllama\n",
    "\n",
    "prompt = ChatPromptTemplate.from_template(\n",
    "    # 주어진 회사와 유사한 5개의 회사를 쉼표로 구분된 목록으로 작성하세요.\n",
    "    \"Write a comma-separated list of 5 companies similar to: {company}\"\n",
    ")\n",
    "# 온도를 0.0으로 설정하여 ChatOpenAI 모델을 초기화합니다.\n",
    "model = ChatOllama(model=\"gemma:7b\")\n",
    "\n",
    "# 프롬프트와 모델을 연결하고 문자열 출력 파서를 적용하여 체인을 생성합니다.\n",
    "str_chain = prompt | model | StrOutputParser()"
   ]
  },
  {
   "cell_type": "code",
   "execution_count": 3,
   "metadata": {},
   "outputs": [
    {
     "name": "stdout",
     "output_type": "stream",
     "text": [
      "Amazon, Apple, Meta, Microsoft, Salesforce"
     ]
    }
   ],
   "source": [
    "# 데이터를 스트리밍합니다.\n",
    "for chunk in str_chain.stream({\"company\": \"Google\"}):\n",
    "    # 각 청크를 출력하고, 줄 바꿈 없이 버퍼를 즉시 플러시합니다.\n",
    "    print(chunk, end=\"\", flush=True)"
   ]
  },
  {
   "cell_type": "code",
   "execution_count": 4,
   "metadata": {},
   "outputs": [],
   "source": [
    "# 입력으로 llm 토큰의 반복자를 받아 쉼표로 구분된 문자열 리스트로 분할하는 사용자 정의 파서입니다.\n",
    "def split_into_list(input: Iterator[str]) -> Iterator[List[str]]:\n",
    "    # 쉼표가 나올 때까지 부분 입력을 보관합니다.\n",
    "    buffer = \"\"\n",
    "    for chunk in input:\n",
    "        # 현재 청크를 버퍼에 추가합니다.\n",
    "        buffer += chunk\n",
    "        # 버퍼에 쉼표가 있는 동안 반복합니다.\n",
    "        while \",\" in buffer:\n",
    "            # 버퍼를 쉼표로 분할합니다.\n",
    "            comma_index = buffer.index(\",\")\n",
    "            # 쉼표 이전의 모든 내용을 반환합니다.\n",
    "            yield [buffer[:comma_index].strip()]\n",
    "            # 나머지는 다음 반복을 위해 저장합니다.\n",
    "            buffer = buffer[comma_index + 1 :]\n",
    "    # 마지막 청크를 반환합니다.\n",
    "    yield [buffer.strip()]"
   ]
  },
  {
   "cell_type": "code",
   "execution_count": 5,
   "metadata": {},
   "outputs": [],
   "source": [
    "list_chain = str_chain | split_into_list  # 문자열 체인을 리스트로 분할합니다."
   ]
  },
  {
   "cell_type": "code",
   "execution_count": 6,
   "metadata": {},
   "outputs": [
    {
     "name": "stdout",
     "output_type": "stream",
     "text": [
      "['Amazon']\n",
      "['Apple']\n",
      "['Meta']\n",
      "['Microsoft']\n",
      "['Nvidia']\n"
     ]
    }
   ],
   "source": [
    "for chunk in list_chain.stream({\"company\": \"Google\"}):\n",
    "    print(chunk, flush=True)  # 각 청크를 출력하고, 버퍼를 즉시 플러시합니다."
   ]
  },
  {
   "cell_type": "code",
   "execution_count": 7,
   "metadata": {},
   "outputs": [
    {
     "data": {
      "text/plain": [
       "['Amazon', 'Apple', 'Microsoft', 'Facebook', 'Tencent']"
      ]
     },
     "execution_count": 7,
     "metadata": {},
     "output_type": "execute_result"
    }
   ],
   "source": [
    "list_chain.invoke({\"company\": \"Google\"})"
   ]
  },
  {
   "cell_type": "code",
   "execution_count": 9,
   "metadata": {},
   "outputs": [],
   "source": [
    "from typing import AsyncIterator\n",
    "\n",
    "# 비동기 함수 정의\n",
    "async def asplit_into_list(input: AsyncIterator[str]) -> AsyncIterator[List[str]]:\n",
    "    buffer = \"\"\n",
    "    # `input`은 `async_generator` 객체이므로 `async for`를 사용\n",
    "    async for chunk in input:\n",
    "        buffer += chunk\n",
    "        while \",\" in buffer:\n",
    "            comma_index = buffer.index(\",\")\n",
    "            yield [\n",
    "                buffer[:comma_index].strip()\n",
    "            ]  # 쉼표를 기준으로 분할하여 리스트로 반환\n",
    "            buffer = buffer[comma_index + 1:]\n",
    "    yield [buffer.strip()]  # 남은 버퍼 내용을 리스트로 반환\n",
    "\n",
    "\n",
    "# alist_chain 과 asplit_into_list 를 파이프라인으로 연결\n",
    "alist_chain = str_chain | asplit_into_list"
   ]
  },
  {
   "cell_type": "code",
   "execution_count": 10,
   "metadata": {},
   "outputs": [
    {
     "name": "stdout",
     "output_type": "stream",
     "text": [
      "['Amazon']\n",
      "['Apple']\n",
      "['Microsoft']\n",
      "['Facebook']\n",
      "['Oracle']\n"
     ]
    }
   ],
   "source": [
    "# async for 루프를 사용하여 데이터를 스트리밍합니다.\n",
    "async for chunk in alist_chain.astream({\"company\": \"Google\"}):\n",
    "    # 각 청크를 출력하고 버퍼를 비웁니다.\n",
    "    print(chunk, flush=True)"
   ]
  },
  {
   "cell_type": "code",
   "execution_count": 11,
   "metadata": {},
   "outputs": [
    {
     "data": {
      "text/plain": [
       "['Amazon', 'Apple', 'Facebook', 'Microsoft', 'Netflix']"
      ]
     },
     "execution_count": 11,
     "metadata": {},
     "output_type": "execute_result"
    }
   ],
   "source": [
    "await alist_chain.ainvoke({\"company\": \"Google\"})"
   ]
  },
  {
   "cell_type": "code",
   "execution_count": null,
   "metadata": {},
   "outputs": [],
   "source": []
  }
 ],
 "metadata": {
  "kernelspec": {
   "display_name": "llm-study",
   "language": "python",
   "name": "python3"
  },
  "language_info": {
   "codemirror_mode": {
    "name": "ipython",
    "version": 3
   },
   "file_extension": ".py",
   "mimetype": "text/x-python",
   "name": "python",
   "nbconvert_exporter": "python",
   "pygments_lexer": "ipython3",
   "version": "3.11.9"
  }
 },
 "nbformat": 4,
 "nbformat_minor": 2
}
