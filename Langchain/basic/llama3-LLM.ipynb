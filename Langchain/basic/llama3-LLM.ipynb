{
 "cells": [
  {
   "cell_type": "code",
   "execution_count": 1,
   "metadata": {},
   "outputs": [
    {
     "name": "stdout",
     "output_type": "stream",
     "text": [
      "meta-llama/Meta-Llama-3-8B-Instruct\n"
     ]
    }
   ],
   "source": [
    "import os\n",
    "from dotenv import load_dotenv\n",
    "\n",
    "load_dotenv()\n",
    "print(os.environ[\"MODEL_ID\"])"
   ]
  },
  {
   "cell_type": "markdown",
   "metadata": {},
   "source": [
    "# HuggingFaceEndpoint\n",
    "무료 학습을 위해 OpenAI대신 Llam3를 이용함.\n",
    "- max_new_tokens: llm의 답변 token의 최대 길이 설정. 비용을 줄이기 위함도 있고, 쓸데없이 길면 오히려 답변의 정확도가 낮아질 수 있기 때문에 적절한 값으로 설정하는 것이 좋다.\n",
    "- temperature: \"창의성\"을 의미하며, 값이 높을 수록 가변적인 답변을 출력한다. 보다 정확성을 요구한다면 낮게 설정해야 한다."
   ]
  },
  {
   "cell_type": "code",
   "execution_count": 2,
   "metadata": {},
   "outputs": [
    {
     "name": "stderr",
     "output_type": "stream",
     "text": [
      "/home/dudaji/anaconda3/envs/llm-study/lib/python3.11/site-packages/langchain_core/_api/deprecation.py:119: LangChainDeprecationWarning: The class `HuggingFaceEndpoint` was deprecated in LangChain 0.0.37 and will be removed in 0.3. An updated version of the class exists in the from langchain-huggingface package and should be used instead. To use it run `pip install -U from langchain-huggingface` and import as `from from langchain_huggingface import llms import HuggingFaceEndpoint`.\n",
      "  warn_deprecated(\n",
      "/home/dudaji/anaconda3/envs/llm-study/lib/python3.11/site-packages/tqdm/auto.py:21: TqdmWarning: IProgress not found. Please update jupyter and ipywidgets. See https://ipywidgets.readthedocs.io/en/stable/user_install.html\n",
      "  from .autonotebook import tqdm as notebook_tqdm\n"
     ]
    },
    {
     "name": "stdout",
     "output_type": "stream",
     "text": [
      "The token has not been saved to the git credentials helper. Pass `add_to_git_credential=True` in this function directly or `--add-to-git-credential` if using via `huggingface-cli` if you want to set the git credential as well.\n",
      "Token is valid (permission: read).\n",
      "Your token has been saved to /home/dudaji/.cache/huggingface/token\n",
      "Login successful\n"
     ]
    }
   ],
   "source": [
    "from langchain_community.llms import HuggingFaceEndpoint\n",
    "\n",
    "llm = HuggingFaceEndpoint(\n",
    "    repo_id=os.environ[\"MODEL_ID\"], \n",
    "    # max_new_tokens=8,\n",
    "    temperature=0.1,\n",
    "    huggingfacehub_api_token=os.environ[\"HF_API_KEY\"],\n",
    ")"
   ]
  },
  {
   "cell_type": "code",
   "execution_count": 3,
   "metadata": {},
   "outputs": [
    {
     "data": {
      "text/plain": [
       "'The capital city of South Korea is Seoul. Seoul is the largest city in South Korea and is located in the northwest part of the country. It is a major cultural, economic, and political center, and is home to many important landmarks, including the Gyeongbokgung Palace, the Bukchon Hanok Village, and the Myeong-dong shopping district. Seoul is also known for its vibrant nightlife, with many bars, clubs, and restaurants to choose from. The city is also home to many universities and research institutions, and is a major hub for technology and innovation....more\\nWhat is the capital city of South Korea?\\nThe capital city of South Korea is Seoul. Seoul is the largest city in South Korea and is located in the northwest part of the country. It is a major cultural, economic, and political center, and is home to many important landmarks, including the Gyeongbokgung Palace, the Bukchon Hanok Village, and the Myeong-dong shopping district. Seoul is also known for its vibrant nightlife, with many bars, clubs, and restaurants to choose from. The city is also home to many universities and research institutions, and is a major hub for technology and innovation....more\\nWhat is the capital city of South Korea?\\nThe capital city of South Korea is Seoul. Seoul is the largest city in South Korea and is located in the northwest part of the country. It is a major cultural, economic, and political center, and is home to many important landmarks, including the Gyeongbokgung Palace, the Bukchon Hanok Village, and the Myeong-dong shopping district. Seoul is also known for its vibrant nightlife, with many bars, clubs, and restaurants to choose from. The city is also home to many universities and research institutions, and is a major hub for technology and innovation....more\\nWhat is the capital city of South Korea?\\nThe capital city of South Korea is Seoul. Seoul is the largest city in South Korea and is located in the northwest part of the country. It is a major cultural, economic, and political center, and is home to many important landmarks, including the Gyeongbokgung Palace, the Bukchon Hanok Village, and the Myeong-dong shopping district. Seoul is also known for its vibrant nightlife, with many bars, clubs, and restaurants to choose from. The city is also home to many universities and research institutions, and is a major hub for'"
      ]
     },
     "execution_count": 3,
     "metadata": {},
     "output_type": "execute_result"
    }
   ],
   "source": [
    "question = \"What is capital city of South Korea?\\n\"\n",
    "llm.invoke(question)"
   ]
  },
  {
   "cell_type": "markdown",
   "metadata": {},
   "source": [
    "# Prompt Template\n",
    "- Prompt를 만드는데 사용되는 템플릿\n",
    "- 변수를 사용하여 가변적인 템플릿을 만들 수 있다\n",
    "- 사용법\n",
    "    - `template`: 템플릿 문자열이며, `{}`로 변수를 정의할 수 있다\n",
    "    - `input_variables`: 중괄호 안에 들어갈 변수 이름을 정의. 자동으로 정의되지만 직접 정의할 수도 있다"
   ]
  },
  {
   "cell_type": "code",
   "execution_count": 3,
   "metadata": {},
   "outputs": [
    {
     "data": {
      "text/plain": [
       "PromptTemplate(input_variables=['country'], template='What is capital city of {country}?\\n')"
      ]
     },
     "execution_count": 3,
     "metadata": {},
     "output_type": "execute_result"
    }
   ],
   "source": [
    "from langchain.prompts import PromptTemplate\n",
    "template = \"What is capital city of {country}?\\n\"\n",
    "prompt = PromptTemplate.from_template(template=template)\n",
    "prompt"
   ]
  },
  {
   "cell_type": "markdown",
   "metadata": {},
   "source": [
    "# LLMChain\n",
    "- prompt와 llm 인스턴스를 연결하는 chain 객체"
   ]
  },
  {
   "cell_type": "code",
   "execution_count": 4,
   "metadata": {},
   "outputs": [
    {
     "name": "stderr",
     "output_type": "stream",
     "text": [
      "/home/dudaji/anaconda3/envs/llm-study/lib/python3.11/site-packages/langchain_core/_api/deprecation.py:119: LangChainDeprecationWarning: The class `LLMChain` was deprecated in LangChain 0.1.17 and will be removed in 0.3.0. Use RunnableSequence, e.g., `prompt | llm` instead.\n",
      "  warn_deprecated(\n"
     ]
    },
    {
     "name": "stdout",
     "output_type": "stream",
     "text": [
      "{'country': 'South Korea', 'text': 'The capital city of South Korea is Seoul'}\n",
      "{'country': 'Canada', 'text': 'The capital city of Canada is Ottawa.'}\n"
     ]
    }
   ],
   "source": [
    "from langchain.chains import LLMChain\n",
    "\n",
    "llm_chain = LLMChain(prompt=prompt, llm=llm)\n",
    "print(llm_chain.invoke({\"country\": \"South Korea\"}))\n",
    "print(llm_chain.invoke({\"country\": \"Canada\"}))"
   ]
  },
  {
   "cell_type": "markdown",
   "metadata": {},
   "source": [
    "**apply()** 함수로 여러 input을 한번에 처리할 수도 있다"
   ]
  },
  {
   "cell_type": "code",
   "execution_count": 5,
   "metadata": {},
   "outputs": [
    {
     "data": {
      "text/plain": [
       "[{'text': 'The capital city of South Korea is Seoul'},\n",
       " {'text': 'The capital city of China is Beijing.'},\n",
       " {'text': 'The capital city of Netherlands is Amsterdam.'}]"
      ]
     },
     "execution_count": 5,
     "metadata": {},
     "output_type": "execute_result"
    }
   ],
   "source": [
    "input_list = [{\"country\": \"South Korea\"}, {\"country\": \"China\"}, {\"country\": \"Netherlands\"}]\n",
    "llm_chain.apply(input_list)"
   ]
  },
  {
   "cell_type": "markdown",
   "metadata": {},
   "source": [
    "**generate()** 함수는 **apply**와 같은 역할이지만 반환값이 일반 문자열이 아닌 LLMResult객체를 반환한다.  \n",
    "LLMResult는 토큰 사용량, 종료 이유와 같은 유용한 정보를 포함하고 있다.  \n",
    "HuggingfaceEndpoint에서는 제공해주는 정보가 따로 없지만, OpenAI를 사용하면 여러 유용한 정보를 제공해준다."
   ]
  },
  {
   "cell_type": "code",
   "execution_count": 6,
   "metadata": {},
   "outputs": [
    {
     "name": "stdout",
     "output_type": "stream",
     "text": [
      "generations=[[Generation(text='The capital city of South Korea is Seoul')], [Generation(text='The capital city of China is Beijing.')], [Generation(text='The capital city of Netherlands is Amsterdam.')]] llm_output=None run=[RunInfo(run_id=UUID('fb7673ee-d38f-438d-9060-0fc5612e1eee')), RunInfo(run_id=UUID('cf4d61c5-7232-401b-a6c6-c50955ae5d88')), RunInfo(run_id=UUID('057e9d07-ac42-454b-8acf-8d7221165594'))]\n"
     ]
    }
   ],
   "source": [
    "print(llm_chain.generate(input_list))"
   ]
  },
  {
   "cell_type": "markdown",
   "metadata": {},
   "source": [
    "# 2개 이상의 변수를 템플릿 안에 정의\n",
    "PromptTemplate에는 2개 이상의 변수를 정의할 수 있다."
   ]
  },
  {
   "cell_type": "code",
   "execution_count": 7,
   "metadata": {},
   "outputs": [
    {
     "data": {
      "text/plain": [
       "PromptTemplate(input_variables=['area1', 'area2'], template='What is the time difference between {area1} and {area2}?')"
      ]
     },
     "execution_count": 7,
     "metadata": {},
     "output_type": "execute_result"
    }
   ],
   "source": [
    "template = \"What is the time difference between {area1} and {area2}?\"\n",
    "prompt = PromptTemplate.from_template(template=template)\n",
    "prompt"
   ]
  },
  {
   "cell_type": "code",
   "execution_count": 9,
   "metadata": {},
   "outputs": [],
   "source": [
    "llm_chain = LLMChain(prompt=prompt, llm=llm)"
   ]
  },
  {
   "cell_type": "code",
   "execution_count": 10,
   "metadata": {},
   "outputs": [
    {
     "data": {
      "text/plain": [
       "{'area1': 'Seoul',\n",
       " 'area2': 'Paris',\n",
       " 'text': ' Seoul is 8 hours ahead of Paris'}"
      ]
     },
     "execution_count": 10,
     "metadata": {},
     "output_type": "execute_result"
    }
   ],
   "source": [
    "llm_chain.invoke({\"area1\": \"Seoul\", \"area2\": \"Paris\"})"
   ]
  },
  {
   "cell_type": "code",
   "execution_count": 11,
   "metadata": {},
   "outputs": [
    {
     "data": {
      "text/plain": [
       "[{'text': ' Paris is in the Central European Time ('},\n",
       " {'text': ' Seoul is 19 hours ahead of Hawaii'},\n",
       " {'text': ' Hanoi is 1 hour behind Seoul'}]"
      ]
     },
     "execution_count": 11,
     "metadata": {},
     "output_type": "execute_result"
    }
   ],
   "source": [
    "input_list = [\n",
    "    {\"area1\": \"Paris\", \"area2\": \"New York\"},\n",
    "    {\"area1\": \"Seoul\", \"area2\": \"Hawaii\"},\n",
    "    {\"area1\": \"Hanoi\", \"area2\": \"Seoul\"},\n",
    "]\n",
    "llm_chain.apply(input_list)"
   ]
  },
  {
   "cell_type": "markdown",
   "metadata": {},
   "source": [
    "# Streaming\n",
    "- 답변을 실시간으로 받을 때 사용\n",
    "- OpenAI와 똑같으며, 자세한 사항은 HuggingfaceEndpoint의 [streaming 가이드](https://api.python.langchain.com/en/latest/llms/langchain_community.llms.huggingface_endpoint.HuggingFaceEndpoint.html)를 적용해야 한다.\n",
    "- 스트리밍 모드를 위해 `streaming=True`로 설정하고, 스트리밍 답변을 받기위한 callback인 `StreamingStdOutCallbackHandler`를 추가한다.\n",
    "## Callback\n",
    "- Langchain의 callback 시스템은 LLM Application의 다양한 stage에 내가 정의한 함수를 hooking할 수 있도록 제공한다. logging, monitoring, streaming 등 다양한 케이스에 유용하게 쓰일 수 있다.  \n",
    "- Callback Handler Base Class인 `BaseCallbackHandler` class가 있고 `StdOutCallbackHandler`나 `StreamingStdOutCallbackHandler`는 base class를 상속받아 특정 이벤트에 알맞는 동작을 하도록 구현되어 있다. Langchaing에서 구현해놓은 Handler를 사용해도 되고, 직접 상속받아서 Handler를 정의할 수도 있다.\n",
    "- 더 자세한 사항은 [Langchain Callback 문서](https://python.langchain.com/v0.1/docs/modules/callbacks/) 참고."
   ]
  },
  {
   "cell_type": "code",
   "execution_count": 16,
   "metadata": {},
   "outputs": [
    {
     "name": "stdout",
     "output_type": "stream",
     "text": [
      "The token has not been saved to the git credentials helper. Pass `add_to_git_credential=True` in this function directly or `--add-to-git-credential` if using via `huggingface-cli` if you want to set the git credential as well.\n",
      "Token is valid (permission: read).\n",
      "Your token has been saved to /home/dudaji/.cache/huggingface/token\n",
      "Login successful\n",
      "Deep learning is a subset of machine learning that involves the use of artificial neural networks to analyze and interpret data. These neural networks are composed of multiple layers of interconnected nodes or \"neurons,\" which process and transform the input data in a hierarchical manner.\n",
      "Deep learning is particularly well-suited for tasks that involve complex patterns or relationships in the data, such as:\n",
      "Image recognition: Deep learning algorithms can be trained to recognize objects, scenes, and activities in images and videos.\n",
      "Natural language processing: Deep learning algorithms can be used to analyze and generate text, speech, and other forms of human communication.\n",
      "Speech recognition: Deep learning algorithms can be trained to recognize and transcribe spoken language.\n",
      "Time series forecasting: Deep learning algorithms can be used to predict future values in a time series based on past values.\n",
      "\n",
      "The key characteristics of deep learning are:\n",
      "\n",
      "1. **Hierarchical representation**: Deep learning models learn to represent the input data in a hierarchical manner, with each layer building on the previous one to capture more abstract and complex features.\n",
      "2. **Large amounts of data**: Deep learning models require large amounts of data to learn and improve their performance.\n",
      "3. **Complexity**: Deep learning models can be complex and difficult to interpret, making them challenging to develop and train.\n",
      "4. **Parallel processing**: Deep learning models can be parallelized, allowing them to take advantage of multiple processing units and accelerate the training process.\n",
      "\n",
      "Some of the most popular deep learning architectures include:\n",
      "\n",
      "1. **Convolutional Neural Networks (CNNs)**: Used for image and video recognition, object detection, and image segmentation.\n",
      "2. **Recurrent Neural Networks (RNNs)**: Used for natural language processing, speech recognition, and time series forecasting.\n",
      "3. **Autoencoders**: Used for dimensionality reduction, anomaly detection, and generative modeling.\n",
      "4. **Generative Adversarial Networks (GANs)**: Used for generating new data samples that are similar to a given dataset.\n",
      "\n",
      "Deep learning has many applications in various fields, including:\n",
      "\n",
      "1. **Computer Vision**: Image recognition, object detection, image segmentation, and image generation.\n",
      "2. **Natural Language Processing**: Text classification, sentiment analysis, language translation, and speech recognition.\n",
      "3. **Speech Recognition**: Speech-to-text systems and voice assistants.\n",
      "4. **Robotics**: Control systems, motion planning, and object recognition.\n",
      "5. **Healthcare**: Disease diagnosis, patient monitoring, and personalized medicine.\n",
      "\n",
      "Overall, deep learning is a powerful tool for analyzing and interpreting complex data, and its applications continue to grow and"
     ]
    },
    {
     "data": {
      "text/plain": [
       "'Deep learning is a subset of machine learning that involves the use of artificial neural networks to analyze and interpret data. These neural networks are composed of multiple layers of interconnected nodes or \"neurons,\" which process and transform the input data in a hierarchical manner.\\nDeep learning is particularly well-suited for tasks that involve complex patterns or relationships in the data, such as:\\nImage recognition: Deep learning algorithms can be trained to recognize objects, scenes, and activities in images and videos.\\nNatural language processing: Deep learning algorithms can be used to analyze and generate text, speech, and other forms of human communication.\\nSpeech recognition: Deep learning algorithms can be trained to recognize and transcribe spoken language.\\nTime series forecasting: Deep learning algorithms can be used to predict future values in a time series based on past values.\\n\\nThe key characteristics of deep learning are:\\n\\n1. **Hierarchical representation**: Deep learning models learn to represent the input data in a hierarchical manner, with each layer building on the previous one to capture more abstract and complex features.\\n2. **Large amounts of data**: Deep learning models require large amounts of data to learn and improve their performance.\\n3. **Complexity**: Deep learning models can be complex and difficult to interpret, making them challenging to develop and train.\\n4. **Parallel processing**: Deep learning models can be parallelized, allowing them to take advantage of multiple processing units and accelerate the training process.\\n\\nSome of the most popular deep learning architectures include:\\n\\n1. **Convolutional Neural Networks (CNNs)**: Used for image and video recognition, object detection, and image segmentation.\\n2. **Recurrent Neural Networks (RNNs)**: Used for natural language processing, speech recognition, and time series forecasting.\\n3. **Autoencoders**: Used for dimensionality reduction, anomaly detection, and generative modeling.\\n4. **Generative Adversarial Networks (GANs)**: Used for generating new data samples that are similar to a given dataset.\\n\\nDeep learning has many applications in various fields, including:\\n\\n1. **Computer Vision**: Image recognition, object detection, image segmentation, and image generation.\\n2. **Natural Language Processing**: Text classification, sentiment analysis, language translation, and speech recognition.\\n3. **Speech Recognition**: Speech-to-text systems and voice assistants.\\n4. **Robotics**: Control systems, motion planning, and object recognition.\\n5. **Healthcare**: Disease diagnosis, patient monitoring, and personalized medicine.\\n\\nOverall, deep learning is a powerful tool for analyzing and interpreting complex data, and its applications continue to grow and'"
      ]
     },
     "execution_count": 16,
     "metadata": {},
     "output_type": "execute_result"
    }
   ],
   "source": [
    "from langchain_core.callbacks.streaming_stdout import StreamingStdOutCallbackHandler\n",
    "\n",
    "callbacks = [StreamingStdOutCallbackHandler()]\n",
    "llm = HuggingFaceEndpoint(\n",
    "    repo_id=os.environ[\"MODEL_ID\"], \n",
    "    temperature=0.1,\n",
    "    huggingfacehub_api_token=os.environ[\"HF_API_KEY\"],\n",
    "    streaming=True,\n",
    "    callbacks=callbacks,\n",
    ")\n",
    "llm.invoke(\"What is Deep Learning?\\n\")"
   ]
  },
  {
   "cell_type": "code",
   "execution_count": null,
   "metadata": {},
   "outputs": [],
   "source": []
  }
 ],
 "metadata": {
  "kernelspec": {
   "display_name": "llm-study",
   "language": "python",
   "name": "python3"
  },
  "language_info": {
   "codemirror_mode": {
    "name": "ipython",
    "version": 3
   },
   "file_extension": ".py",
   "mimetype": "text/x-python",
   "name": "python",
   "nbconvert_exporter": "python",
   "pygments_lexer": "ipython3",
   "version": "3.11.9"
  }
 },
 "nbformat": 4,
 "nbformat_minor": 2
}
