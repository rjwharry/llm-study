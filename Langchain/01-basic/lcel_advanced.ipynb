{
 "cells": [
  {
   "cell_type": "markdown",
   "metadata": {},
   "source": [
    "# LCEL 인터페이스\n",
    "- 사용자가 다양한 chain을 만들 수 있도록 langchaing의 대부분의 component들은 Runnable Protocol을 구현하고 있다. \n",
    "- 이는 chat models, LLMs, output parsers, retrievers, prompt templates 등 다양한 요소들이 Runnable 프로토콜을 구현하고 있다. \n",
    "- Runnable Protocol을 따르는 요소들로 쉽게 사용자가 자신만의 chain을 구성할 수 있다.\n",
    "# Runnable\n",
    "- Runnable은 invoke, batch, stream, transform, 그리고 compose되는 작업을 의미하며, 다음 함수들을 포함하고 있다.\n",
    "    - `invoke`: 입력에 대해 체인을 호출\n",
    "    - `stream`: 응답 청크를 스트리밍\n",
    "    - `batch`: 입력 리스트에 대해 체인을 호출 -> 내부적으로 `invoke`를 thread pool executor로 병렬적으로 실행시킨다\n",
    "- 위의 함수들에 대응되는 비동기 함수도 제공하고 있으며, 앞에 \"a\"가 붙은 이름이다.\n",
    "    - `ainvoke`: invoke 비동기\n",
    "    - `astream`: stream 비동기\n",
    "    - `abatch`: batch 비동기\n",
    "    - `astream_log`: 최종 응답 뿐만아니라 chain의 중간 단계를 스트리밍\n",
    "    - `astream_events`: chain에서 발생하는 event에 대한 스트리밍 (beta)\n",
    "- 모든 runnable은 입력과 출력 스키마를 노출시키고 Pydantic 모델로 자동생성된다.\n",
    "    - `input_schema`: Runnable의 입력 Pydantic 모델\n",
    "    - `output_schema`: Runnable의 출력 Pydantic 모델\n",
    "\n",
    "더 자세한 내용은 [공식문서](https://python.langchain.com/v0.1/docs/expression_language/interface/)를 참고"
   ]
  },
  {
   "cell_type": "code",
   "execution_count": 1,
   "metadata": {},
   "outputs": [
    {
     "name": "stdout",
     "output_type": "stream",
     "text": [
      "meta-llama/Meta-Llama-3-8B-Instruct\n"
     ]
    }
   ],
   "source": [
    "import os\n",
    "from dotenv import load_dotenv\n",
    "\n",
    "load_dotenv()\n",
    "print(os.environ[\"MODEL_ID\"])"
   ]
  },
  {
   "cell_type": "code",
   "execution_count": 2,
   "metadata": {},
   "outputs": [
    {
     "name": "stderr",
     "output_type": "stream",
     "text": [
      "/home/dudaji/anaconda3/envs/llm-study/lib/python3.11/site-packages/langchain_core/_api/deprecation.py:119: LangChainDeprecationWarning: The class `HuggingFaceEndpoint` was deprecated in LangChain 0.0.37 and will be removed in 0.3. An updated version of the class exists in the from langchain-huggingface package and should be used instead. To use it run `pip install -U from langchain-huggingface` and import as `from from langchain_huggingface import llms import HuggingFaceEndpoint`.\n",
      "  warn_deprecated(\n",
      "/home/dudaji/anaconda3/envs/llm-study/lib/python3.11/site-packages/tqdm/auto.py:21: TqdmWarning: IProgress not found. Please update jupyter and ipywidgets. See https://ipywidgets.readthedocs.io/en/stable/user_install.html\n",
      "  from .autonotebook import tqdm as notebook_tqdm\n"
     ]
    },
    {
     "name": "stdout",
     "output_type": "stream",
     "text": [
      "The token has not been saved to the git credentials helper. Pass `add_to_git_credential=True` in this function directly or `--add-to-git-credential` if using via `huggingface-cli` if you want to set the git credential as well.\n",
      "Token is valid (permission: read).\n",
      "Your token has been saved to /home/dudaji/.cache/huggingface/token\n",
      "Login successful\n"
     ]
    },
    {
     "name": "stderr",
     "output_type": "stream",
     "text": [
      "/home/dudaji/anaconda3/envs/llm-study/lib/python3.11/site-packages/langchain_core/_api/deprecation.py:119: LangChainDeprecationWarning: The class `ChatHuggingFace` was deprecated in LangChain 0.0.37 and will be removed in 0.3. An updated version of the class exists in the from langchain-huggingface package and should be used instead. To use it run `pip install -U from langchain-huggingface` and import as `from from langchain_huggingface.chat_models import huggingface import ChatHuggingFace`.\n",
      "  warn_deprecated(\n",
      "Special tokens have been added in the vocabulary, make sure the associated word embeddings are fine-tuned or trained.\n"
     ]
    }
   ],
   "source": [
    "from langchain_community.llms import HuggingFaceEndpoint\n",
    "from langchain_community.chat_models.huggingface import ChatHuggingFace\n",
    "\n",
    "llm = HuggingFaceEndpoint(\n",
    "    repo_id=os.environ[\"MODEL_ID\"], \n",
    "    # max_new_tokens=8,\n",
    "    temperature=0.1,\n",
    "    huggingfacehub_api_token=os.environ[\"HF_API_KEY\"],\n",
    ")\n",
    "model = ChatHuggingFace(llm=llm)"
   ]
  },
  {
   "cell_type": "code",
   "execution_count": 4,
   "metadata": {},
   "outputs": [],
   "source": [
    "from langchain.prompts import ChatPromptTemplate\n",
    "prompt = ChatPromptTemplate.from_template(\"Explain about {topic} in three sentences.\")\n",
    "chain = prompt | model"
   ]
  },
  {
   "cell_type": "code",
   "execution_count": 8,
   "metadata": {},
   "outputs": [
    {
     "data": {
      "text/plain": [
       "{'title': 'PromptInput',\n",
       " 'type': 'object',\n",
       " 'properties': {'topic': {'title': 'Topic', 'type': 'string'}}}"
      ]
     },
     "execution_count": 8,
     "metadata": {},
     "output_type": "execute_result"
    }
   ],
   "source": [
    "# chain의 가장 앞단의 입력이 chain의 input_schema가 된다.\n",
    "chain.input_schema.schema()"
   ]
  },
  {
   "cell_type": "code",
   "execution_count": 9,
   "metadata": {},
   "outputs": [
    {
     "data": {
      "text/plain": [
       "{'title': 'ChatHuggingFaceOutput',\n",
       " 'anyOf': [{'$ref': '#/definitions/AIMessage'},\n",
       "  {'$ref': '#/definitions/HumanMessage'},\n",
       "  {'$ref': '#/definitions/ChatMessage'},\n",
       "  {'$ref': '#/definitions/SystemMessage'},\n",
       "  {'$ref': '#/definitions/FunctionMessage'},\n",
       "  {'$ref': '#/definitions/ToolMessage'}],\n",
       " 'definitions': {'ToolCall': {'title': 'ToolCall',\n",
       "   'type': 'object',\n",
       "   'properties': {'name': {'title': 'Name', 'type': 'string'},\n",
       "    'args': {'title': 'Args', 'type': 'object'},\n",
       "    'id': {'title': 'Id', 'type': 'string'}},\n",
       "   'required': ['name', 'args', 'id']},\n",
       "  'InvalidToolCall': {'title': 'InvalidToolCall',\n",
       "   'type': 'object',\n",
       "   'properties': {'name': {'title': 'Name', 'type': 'string'},\n",
       "    'args': {'title': 'Args', 'type': 'string'},\n",
       "    'id': {'title': 'Id', 'type': 'string'},\n",
       "    'error': {'title': 'Error', 'type': 'string'}},\n",
       "   'required': ['name', 'args', 'id', 'error']},\n",
       "  'AIMessage': {'title': 'AIMessage',\n",
       "   'description': 'Message from an AI.',\n",
       "   'type': 'object',\n",
       "   'properties': {'content': {'title': 'Content',\n",
       "     'anyOf': [{'type': 'string'},\n",
       "      {'type': 'array',\n",
       "       'items': {'anyOf': [{'type': 'string'}, {'type': 'object'}]}}]},\n",
       "    'additional_kwargs': {'title': 'Additional Kwargs', 'type': 'object'},\n",
       "    'response_metadata': {'title': 'Response Metadata', 'type': 'object'},\n",
       "    'type': {'title': 'Type',\n",
       "     'default': 'ai',\n",
       "     'enum': ['ai'],\n",
       "     'type': 'string'},\n",
       "    'name': {'title': 'Name', 'type': 'string'},\n",
       "    'id': {'title': 'Id', 'type': 'string'},\n",
       "    'example': {'title': 'Example', 'default': False, 'type': 'boolean'},\n",
       "    'tool_calls': {'title': 'Tool Calls',\n",
       "     'default': [],\n",
       "     'type': 'array',\n",
       "     'items': {'$ref': '#/definitions/ToolCall'}},\n",
       "    'invalid_tool_calls': {'title': 'Invalid Tool Calls',\n",
       "     'default': [],\n",
       "     'type': 'array',\n",
       "     'items': {'$ref': '#/definitions/InvalidToolCall'}}},\n",
       "   'required': ['content']},\n",
       "  'HumanMessage': {'title': 'HumanMessage',\n",
       "   'description': 'Message from a human.',\n",
       "   'type': 'object',\n",
       "   'properties': {'content': {'title': 'Content',\n",
       "     'anyOf': [{'type': 'string'},\n",
       "      {'type': 'array',\n",
       "       'items': {'anyOf': [{'type': 'string'}, {'type': 'object'}]}}]},\n",
       "    'additional_kwargs': {'title': 'Additional Kwargs', 'type': 'object'},\n",
       "    'response_metadata': {'title': 'Response Metadata', 'type': 'object'},\n",
       "    'type': {'title': 'Type',\n",
       "     'default': 'human',\n",
       "     'enum': ['human'],\n",
       "     'type': 'string'},\n",
       "    'name': {'title': 'Name', 'type': 'string'},\n",
       "    'id': {'title': 'Id', 'type': 'string'},\n",
       "    'example': {'title': 'Example', 'default': False, 'type': 'boolean'}},\n",
       "   'required': ['content']},\n",
       "  'ChatMessage': {'title': 'ChatMessage',\n",
       "   'description': 'Message that can be assigned an arbitrary speaker (i.e. role).',\n",
       "   'type': 'object',\n",
       "   'properties': {'content': {'title': 'Content',\n",
       "     'anyOf': [{'type': 'string'},\n",
       "      {'type': 'array',\n",
       "       'items': {'anyOf': [{'type': 'string'}, {'type': 'object'}]}}]},\n",
       "    'additional_kwargs': {'title': 'Additional Kwargs', 'type': 'object'},\n",
       "    'response_metadata': {'title': 'Response Metadata', 'type': 'object'},\n",
       "    'type': {'title': 'Type',\n",
       "     'default': 'chat',\n",
       "     'enum': ['chat'],\n",
       "     'type': 'string'},\n",
       "    'name': {'title': 'Name', 'type': 'string'},\n",
       "    'id': {'title': 'Id', 'type': 'string'},\n",
       "    'role': {'title': 'Role', 'type': 'string'}},\n",
       "   'required': ['content', 'role']},\n",
       "  'SystemMessage': {'title': 'SystemMessage',\n",
       "   'description': 'Message for priming AI behavior, usually passed in as the first of a sequence\\nof input messages.',\n",
       "   'type': 'object',\n",
       "   'properties': {'content': {'title': 'Content',\n",
       "     'anyOf': [{'type': 'string'},\n",
       "      {'type': 'array',\n",
       "       'items': {'anyOf': [{'type': 'string'}, {'type': 'object'}]}}]},\n",
       "    'additional_kwargs': {'title': 'Additional Kwargs', 'type': 'object'},\n",
       "    'response_metadata': {'title': 'Response Metadata', 'type': 'object'},\n",
       "    'type': {'title': 'Type',\n",
       "     'default': 'system',\n",
       "     'enum': ['system'],\n",
       "     'type': 'string'},\n",
       "    'name': {'title': 'Name', 'type': 'string'},\n",
       "    'id': {'title': 'Id', 'type': 'string'}},\n",
       "   'required': ['content']},\n",
       "  'FunctionMessage': {'title': 'FunctionMessage',\n",
       "   'description': 'Message for passing the result of executing a function back to a model.',\n",
       "   'type': 'object',\n",
       "   'properties': {'content': {'title': 'Content',\n",
       "     'anyOf': [{'type': 'string'},\n",
       "      {'type': 'array',\n",
       "       'items': {'anyOf': [{'type': 'string'}, {'type': 'object'}]}}]},\n",
       "    'additional_kwargs': {'title': 'Additional Kwargs', 'type': 'object'},\n",
       "    'response_metadata': {'title': 'Response Metadata', 'type': 'object'},\n",
       "    'type': {'title': 'Type',\n",
       "     'default': 'function',\n",
       "     'enum': ['function'],\n",
       "     'type': 'string'},\n",
       "    'name': {'title': 'Name', 'type': 'string'},\n",
       "    'id': {'title': 'Id', 'type': 'string'}},\n",
       "   'required': ['content', 'name']},\n",
       "  'ToolMessage': {'title': 'ToolMessage',\n",
       "   'description': 'Message for passing the result of executing a tool back to a model.',\n",
       "   'type': 'object',\n",
       "   'properties': {'content': {'title': 'Content',\n",
       "     'anyOf': [{'type': 'string'},\n",
       "      {'type': 'array',\n",
       "       'items': {'anyOf': [{'type': 'string'}, {'type': 'object'}]}}]},\n",
       "    'additional_kwargs': {'title': 'Additional Kwargs', 'type': 'object'},\n",
       "    'response_metadata': {'title': 'Response Metadata', 'type': 'object'},\n",
       "    'type': {'title': 'Type',\n",
       "     'default': 'tool',\n",
       "     'enum': ['tool'],\n",
       "     'type': 'string'},\n",
       "    'name': {'title': 'Name', 'type': 'string'},\n",
       "    'id': {'title': 'Id', 'type': 'string'},\n",
       "    'tool_call_id': {'title': 'Tool Call Id', 'type': 'string'}},\n",
       "   'required': ['content', 'tool_call_id']}}}"
      ]
     },
     "execution_count": 9,
     "metadata": {},
     "output_type": "execute_result"
    }
   ],
   "source": [
    "# chain의 가장 마지막 요소의 출력이 chain의 output_schema가 된다.\n",
    "chain.output_schema.schema()"
   ]
  },
  {
   "cell_type": "markdown",
   "metadata": {},
   "source": [
    "아래와 같이 JSON으로 입력 스키마를 직접 정의할 수도 있다."
   ]
  },
  {
   "cell_type": "code",
   "execution_count": 11,
   "metadata": {},
   "outputs": [
    {
     "name": "stdout",
     "output_type": "stream",
     "text": [
      "{\n",
      "    \"type\": \"object\",\n",
      "    \"properties\": {\n",
      "        \"name\": {\n",
      "            \"type\": \"string\"\n",
      "        },\n",
      "        \"age\": {\n",
      "            \"type\": \"integer\",\n",
      "            \"minimum\": 0\n",
      "        }\n",
      "    },\n",
      "    \"required\": [\n",
      "        \"name\",\n",
      "        \"age\"\n",
      "    ]\n",
      "}\n"
     ]
    }
   ],
   "source": [
    "import json\n",
    "\n",
    "# 스키마를 출력하는 함수를 정의합니다.\n",
    "def print_schema(schema):\n",
    "    # 스키마를 JSON 형식으로 출력합니다.\n",
    "    print(json.dumps(schema, indent=4))\n",
    "\n",
    "# 입력 스키마를 정의합니다.\n",
    "# TODO: 유즈케이스 찾아보기\n",
    "input_schema = {\n",
    "    \"type\": \"object\",\n",
    "    \"properties\": {\n",
    "        \"name\": {\"type\": \"string\"},\n",
    "        \"age\": {\"type\": \"integer\", \"minimum\": 0},\n",
    "    },\n",
    "    \"required\": [\"name\", \"age\"],\n",
    "}\n",
    "\n",
    "# 스키마를 출력하는 함수를 호출합니다.\n",
    "print_schema(input_schema)"
   ]
  },
  {
   "cell_type": "markdown",
   "metadata": {},
   "source": [
    "# Stream\n",
    "- Runnable의 `stream`함수를 이용하여 chain의 출력을 스트리밍 할 수 있다.\n",
    "- `content`은 stream 데이터의 내용, `end=\"\"`은 출력 후 줄바꿈 하지 않도록 하는 것이고, `flush=True`는 출력 버퍼를 즉시 비워서 바로 출력하는 설정이다."
   ]
  },
  {
   "cell_type": "code",
   "execution_count": 17,
   "metadata": {},
   "outputs": [
    {
     "name": "stdout",
     "output_type": "stream",
     "text": [
      "I apologize, but I couldn't find any information on \"Llama3\". It's possible that it's a fictional or non-existent entity, or it could be a misspelling or variation of a different term. If you could provide more context or clarify what you mean by \"Llama3\", I'd be happy to try and assist you further.<|eot_id|>"
     ]
    }
   ],
   "source": [
    "for s in chain.stream({\"topic\": \"Llama3\"}):\n",
    "    print(s.content, end=\"\", flush=True)"
   ]
  },
  {
   "cell_type": "markdown",
   "metadata": {},
   "source": [
    "# invoke\n",
    "- invoke 메서드는 chain의 입력을 받아서 chain을 실행시켜 출력을 반환한다."
   ]
  },
  {
   "cell_type": "code",
   "execution_count": 18,
   "metadata": {},
   "outputs": [
    {
     "data": {
      "text/plain": [
       "AIMessage(content='ChatGPT is a revolutionary AI chatbot developed by Meta AI that uses natural language processing (NLP) to understand and respond to human input in a conversational manner. It is trained on a massive dataset of text from the internet and can generate human-like responses to a wide range of questions and topics, from simple queries to complex discussions. ChatGPT is designed to be a helpful tool for people, allowing them to have a conversation with a machine that feels natural and intuitive, and has the potential to be used in a variety of applications, such as customer service, language translation, and content creation.', id='run-44b10eda-17d0-4221-9868-c48a0993ee4a-0')"
      ]
     },
     "execution_count": 18,
     "metadata": {},
     "output_type": "execute_result"
    }
   ],
   "source": [
    "chain.invoke({\"topic\": \"ChatGPT\"})"
   ]
  },
  {
   "cell_type": "markdown",
   "metadata": {},
   "source": [
    "# batch\n",
    "- 여러 입력을 받아서 병렬적으로 처리.\n",
    "- apply와 같은 역할\n",
    "- `max_concurrency` 매개변수를 사용하여 동시 요청 수를 제한할 수도 있다."
   ]
  },
  {
   "cell_type": "code",
   "execution_count": 19,
   "metadata": {},
   "outputs": [
    {
     "data": {
      "text/plain": [
       "[AIMessage(content='ChatGPT is a revolutionary AI chatbot developed by Meta AI that uses natural language processing (NLP) to understand and respond to human input in a conversational manner. It is trained on a massive dataset of text from the internet and can generate human-like responses to a wide range of questions and topics, from simple queries to complex discussions. ChatGPT is designed to be a helpful tool for people, allowing them to have a conversation with a machine that feels natural and intuitive, and has the potential to be used in a variety of applications, such as customer service, language translation, and content creation.', id='run-1ec65202-59b6-41dc-aeb7-8b7bcf9b83a2-0'),\n",
       " AIMessage(content='Instagram is a social media platform where users can share photos and videos with their followers, as well as engage with others by liking and commenting on their content. The platform is known for its visual-centric approach, with users able to share moments from their daily lives, showcase their creativity, and connect with others who share similar interests. With over a billion active users, Instagram has become a popular platform for individuals and businesses to build their personal brand, promote their products or services, and stay connected with their audience.', id='run-893dcae8-6e62-4253-9747-56833995c31e-0')]"
      ]
     },
     "execution_count": 19,
     "metadata": {},
     "output_type": "execute_result"
    }
   ],
   "source": [
    "chain.batch([{\"topic\": \"ChatGPT\"}, {\"topic\": \"Instagram\"}])"
   ]
  },
  {
   "cell_type": "code",
   "execution_count": 20,
   "metadata": {},
   "outputs": [
    {
     "data": {
      "text/plain": [
       "[AIMessage(content='ChatGPT is a revolutionary AI chatbot developed by Meta AI that uses natural language processing (NLP) to understand and respond to human input in a conversational manner. It is trained on a massive dataset of text from the internet and can generate human-like responses to a wide range of questions and topics, from simple queries to complex discussions. ChatGPT is designed to be a helpful tool for people, allowing them to have a conversation with a machine that feels natural and intuitive, and has the potential to be used in a variety of applications, such as customer service, language translation, and content creation.', id='run-2b3dbb8d-61bc-441a-84f6-0e89e2fe658c-0'),\n",
       " AIMessage(content='Instagram is a social media platform where users can share photos and videos with their followers, as well as engage with others by liking and commenting on their content. The platform is known for its visual-centric approach, with users able to share moments from their daily lives, showcase their creativity, and connect with others who share similar interests. With over a billion active users, Instagram has become a popular platform for individuals and businesses to build their personal brand, promote their products or services, and stay connected with their audience.', id='run-44fe36fd-d0b3-4709-b5a1-ec65aac95ebc-0'),\n",
       " AIMessage(content='Here are three sentences explaining about 멀티모달 (Multimodal):\\n\\nMultimodal refers to the ability of a system or model to process and integrate multiple forms of data or information, such as text, images, audio, and video, to achieve a common goal or understanding. This can include tasks such as image captioning, visual question answering, and natural language processing, where the system needs to combine and analyze multiple modalities to generate a meaningful output. By leveraging multimodal data and processing, systems can improve their accuracy, robustness, and flexibility, and enable more sophisticated applications in areas such as artificial intelligence, computer vision, and human-computer interaction.', id='run-3271a0db-e64a-4686-8d17-df11f0320c1d-0'),\n",
       " AIMessage(content='프로그래밍 (programming) is the process of designing, writing, testing, and maintaining the source code of computer programs. This source code is written in one or more programming languages, which are used to communicate with a computer and instruct it to perform specific tasks or solve problems. Through programming, developers can create software applications, systems, and tools that can automate tasks, analyze data, and interact with users in a variety of ways.', id='run-809a8403-6782-430a-893f-52248d10f13d-0'),\n",
       " AIMessage(content='Here are three sentences explaining 머신러닝 (Machine Learning):\\n\\n머신러닝 is a type of artificial intelligence that enables computers to learn from data without being explicitly programmed, allowing them to make predictions, classify objects, and make decisions based on patterns and relationships in the data. Through machine learning, algorithms can improve their performance over time as they are exposed to more data, enabling them to adapt to new situations and make more accurate predictions. By analyzing large datasets and identifying complex patterns, machine learning models can be trained to perform tasks such as image recognition, natural language processing, and recommender systems.', id='run-b27a900f-fa88-41ce-83d2-0f48063caef7-0')]"
      ]
     },
     "execution_count": 20,
     "metadata": {},
     "output_type": "execute_result"
    }
   ],
   "source": [
    "chain.batch(\n",
    "    [\n",
    "        {\"topic\": \"ChatGPT\"},\n",
    "        {\"topic\": \"Instagram\"},\n",
    "        {\"topic\": \"멀티모달\"},\n",
    "        {\"topic\": \"프로그래밍\"},\n",
    "        {\"topic\": \"머신러닝\"},\n",
    "    ],\n",
    "    config={\"max_concurrency\": 3},\n",
    ")"
   ]
  },
  {
   "cell_type": "code",
   "execution_count": 22,
   "metadata": {},
   "outputs": [
    {
     "name": "stdout",
     "output_type": "stream",
     "text": [
      "YouTube is a video-sharing platform where users can upload, share, and view videos with others. The platform allows users to create their own channels and upload videos on a variety of topics, including music, educational content, vlogs, and more. With over 2 billion monthly active users, YouTube is one of the most popular websites on the internet, offering a vast array of content and a platform for creators to share their ideas and connect with audiences worldwide.<|eot_id|>"
     ]
    }
   ],
   "source": [
    "# astream: 비동기 스트림 생성\n",
    "async for s in chain.astream({\"topic\": \"Youtube\"}):\n",
    "    print(s.content, end=\"\", flush=True)"
   ]
  },
  {
   "cell_type": "code",
   "execution_count": 24,
   "metadata": {},
   "outputs": [
    {
     "data": {
      "text/plain": [
       "AIMessage(content='NVDA (NonVisual Desktop Access) is a free and open-source screen reader software that allows visually impaired individuals to access and interact with their computers. It reads aloud the text on the screen, including menus, buttons, and other graphical elements, allowing users to navigate and use their computers independently. NVDA is compatible with a wide range of operating systems, including Windows, and is widely used by individuals who are blind or have low vision, as well as by organizations and businesses that provide assistive technology services.', id='run-a417d4cb-c526-4bde-a571-2091ec9e5025-0')"
      ]
     },
     "execution_count": 24,
     "metadata": {},
     "output_type": "execute_result"
    }
   ],
   "source": [
    "# ainvoke: 주어진 입력으로 비동기적으로 작업을 처리\n",
    "await chain.ainvoke({\"topic\": \"NVDA\"})"
   ]
  },
  {
   "cell_type": "code",
   "execution_count": 25,
   "metadata": {},
   "outputs": [
    {
     "data": {
      "text/plain": [
       "[AIMessage(content='YouTube is a video-sharing platform where users can upload, share, and view videos with others. Founded in 2005, YouTube has become one of the most popular websites on the internet, with over 2 billion monthly active users and over 5 billion videos viewed every day. On YouTube, users can create their own channels, upload videos, and monetize their content through ads, sponsorships, and merchandise sales, making it a significant platform for creators and influencers to build their online presence and earn a living.', id='run-ff128aa5-b0b4-45ad-811d-5515fbeb1717-0'),\n",
       " AIMessage(content='Instagram is a social media platform where users can share photos and videos with their followers, as well as engage with others by liking and commenting on their content. The platform is known for its visual-centric approach, with users able to share moments from their daily lives, showcase their creativity, and connect with others who share similar interests. With over a billion active users, Instagram has become a popular platform for individuals and businesses to build their personal brand, promote their products or services, and stay connected with their audience.', id='run-384cb781-1560-4afe-b673-cd65dbed4be0-0'),\n",
       " AIMessage(content='Here are three sentences explaining Facebook:\\n\\nFacebook is a social media platform that allows users to create a personal profile, add friends, and share updates, photos, and videos with them. Founded in 2004 by Mark Zuckerberg, Facebook has become one of the most widely used social media platforms in the world, with over 2.7 billion monthly active users. Facebook also offers various features such as groups, events, and messaging, as well as a range of third-party apps and integrations, making it a hub for online communication and community-building.', id='run-85df8dd6-de76-4bdb-abb5-c7f918d453e0-0')]"
      ]
     },
     "execution_count": 25,
     "metadata": {},
     "output_type": "execute_result"
    }
   ],
   "source": [
    "# abatch: 비동기적으로 입력 목록을 병렬로 처리\n",
    "await chain.abatch(\n",
    "    [{\"topic\": \"YouTube\"}, {\"topic\": \"Instagram\"}, {\"topic\": \"Facebook\"}]\n",
    ")"
   ]
  },
  {
   "cell_type": "markdown",
   "metadata": {},
   "source": [
    "# astream_log\n",
    "- chain의 중간 단계에서 발생하는 모든 이벤트에 대한 세분화된 로그를 스트리밍할 수 있다.\n",
    "- 로그 포멧은 [`LogEntry`와 `RunState` 클래스](https://python.langchain.com/v0.1/docs/expression_language/interface/#async-stream-intermediate-steps)에 대한 [JSONPatch 표준](https://jsonpatch.com/)을 기반으로 한다.\n",
    "-  `astream_log`는 기본적으로 RunState에 차이만 JSONPatch 형식으로 출력해주지만, `diff=False` 옵션을 추가하면 RunState 전체 내용을 출력한다.\n",
    "- 하지만 로그를 파싱하는데 많이 노력이 요하므로, astream_evens API를 만들었다.\n",
    "- 아래 예제를 실행시키기 위해 아래 명령어로 패키지를 추가 설치해야 한다.\n",
    "    ```bash\n",
    "    pip install sentence-transformers\n",
    "    conda install -c pytorch faiss-gpu\n",
    "    ```\n"
   ]
  },
  {
   "cell_type": "code",
   "execution_count": 6,
   "metadata": {},
   "outputs": [
    {
     "name": "stderr",
     "output_type": "stream",
     "text": [
      "/home/dudaji/anaconda3/envs/llm-study/lib/python3.11/site-packages/huggingface_hub/file_download.py:1132: FutureWarning: `resume_download` is deprecated and will be removed in version 1.0.0. Downloads always resume when possible. If you want to force a new download, use `force_download=True`.\n",
      "  warnings.warn(\n"
     ]
    },
    {
     "name": "stdout",
     "output_type": "stream",
     "text": [
      "----------------------------------------\n",
      "RunLog({'final_output': None,\n",
      " 'id': 'e220fbe5-e4aa-4238-ba35-a4520a291d4f',\n",
      " 'logs': {},\n",
      " 'name': 'RunnableSequence',\n",
      " 'streamed_output': [],\n",
      " 'type': 'chain'})\n",
      "----------------------------------------\n",
      "RunLog({'final_output': None,\n",
      " 'id': 'e220fbe5-e4aa-4238-ba35-a4520a291d4f',\n",
      " 'logs': {'Docs': {'end_time': None,\n",
      "                   'final_output': None,\n",
      "                   'id': '8dee5e9c-bf69-4b23-83f7-84c491e83319',\n",
      "                   'metadata': {},\n",
      "                   'name': 'Docs',\n",
      "                   'start_time': '2024-05-28T11:29:13.307+00:00',\n",
      "                   'streamed_output': [],\n",
      "                   'streamed_output_str': [],\n",
      "                   'tags': ['map:key:context',\n",
      "                            'FAISS',\n",
      "                            'HuggingFaceEmbeddings'],\n",
      "                   'type': 'retriever'}},\n",
      " 'name': 'RunnableSequence',\n",
      " 'streamed_output': [],\n",
      " 'type': 'chain'})\n",
      "----------------------------------------\n",
      "RunLog({'final_output': None,\n",
      " 'id': 'e220fbe5-e4aa-4238-ba35-a4520a291d4f',\n",
      " 'logs': {'Docs': {'end_time': '2024-05-28T11:29:13.320+00:00',\n",
      "                   'final_output': {'documents': [Document(page_content='Teddy lives in South Korea')]},\n",
      "                   'id': '8dee5e9c-bf69-4b23-83f7-84c491e83319',\n",
      "                   'metadata': {},\n",
      "                   'name': 'Docs',\n",
      "                   'start_time': '2024-05-28T11:29:13.307+00:00',\n",
      "                   'streamed_output': [],\n",
      "                   'streamed_output_str': [],\n",
      "                   'tags': ['map:key:context',\n",
      "                            'FAISS',\n",
      "                            'HuggingFaceEmbeddings'],\n",
      "                   'type': 'retriever'}},\n",
      " 'name': 'RunnableSequence',\n",
      " 'streamed_output': [],\n",
      " 'type': 'chain'})\n",
      "----------------------------------------\n",
      "RunLog({'final_output': 'According',\n",
      " 'id': 'e220fbe5-e4aa-4238-ba35-a4520a291d4f',\n",
      " 'logs': {'Docs': {'end_time': '2024-05-28T11:29:13.320+00:00',\n",
      "                   'final_output': {'documents': [Document(page_content='Teddy lives in South Korea')]},\n",
      "                   'id': '8dee5e9c-bf69-4b23-83f7-84c491e83319',\n",
      "                   'metadata': {},\n",
      "                   'name': 'Docs',\n",
      "                   'start_time': '2024-05-28T11:29:13.307+00:00',\n",
      "                   'streamed_output': [],\n",
      "                   'streamed_output_str': [],\n",
      "                   'tags': ['map:key:context',\n",
      "                            'FAISS',\n",
      "                            'HuggingFaceEmbeddings'],\n",
      "                   'type': 'retriever'}},\n",
      " 'name': 'RunnableSequence',\n",
      " 'streamed_output': ['According'],\n",
      " 'type': 'chain'})\n",
      "----------------------------------------\n",
      "RunLog({'final_output': 'According to',\n",
      " 'id': 'e220fbe5-e4aa-4238-ba35-a4520a291d4f',\n",
      " 'logs': {'Docs': {'end_time': '2024-05-28T11:29:13.320+00:00',\n",
      "                   'final_output': {'documents': [Document(page_content='Teddy lives in South Korea')]},\n",
      "                   'id': '8dee5e9c-bf69-4b23-83f7-84c491e83319',\n",
      "                   'metadata': {},\n",
      "                   'name': 'Docs',\n",
      "                   'start_time': '2024-05-28T11:29:13.307+00:00',\n",
      "                   'streamed_output': [],\n",
      "                   'streamed_output_str': [],\n",
      "                   'tags': ['map:key:context',\n",
      "                            'FAISS',\n",
      "                            'HuggingFaceEmbeddings'],\n",
      "                   'type': 'retriever'}},\n",
      " 'name': 'RunnableSequence',\n",
      " 'streamed_output': ['According', ' to'],\n",
      " 'type': 'chain'})\n",
      "----------------------------------------\n",
      "RunLog({'final_output': 'According to the',\n",
      " 'id': 'e220fbe5-e4aa-4238-ba35-a4520a291d4f',\n",
      " 'logs': {'Docs': {'end_time': '2024-05-28T11:29:13.320+00:00',\n",
      "                   'final_output': {'documents': [Document(page_content='Teddy lives in South Korea')]},\n",
      "                   'id': '8dee5e9c-bf69-4b23-83f7-84c491e83319',\n",
      "                   'metadata': {},\n",
      "                   'name': 'Docs',\n",
      "                   'start_time': '2024-05-28T11:29:13.307+00:00',\n",
      "                   'streamed_output': [],\n",
      "                   'streamed_output_str': [],\n",
      "                   'tags': ['map:key:context',\n",
      "                            'FAISS',\n",
      "                            'HuggingFaceEmbeddings'],\n",
      "                   'type': 'retriever'}},\n",
      " 'name': 'RunnableSequence',\n",
      " 'streamed_output': ['According', ' to', ' the'],\n",
      " 'type': 'chain'})\n",
      "----------------------------------------\n",
      "RunLog({'final_output': 'According to the context',\n",
      " 'id': 'e220fbe5-e4aa-4238-ba35-a4520a291d4f',\n",
      " 'logs': {'Docs': {'end_time': '2024-05-28T11:29:13.320+00:00',\n",
      "                   'final_output': {'documents': [Document(page_content='Teddy lives in South Korea')]},\n",
      "                   'id': '8dee5e9c-bf69-4b23-83f7-84c491e83319',\n",
      "                   'metadata': {},\n",
      "                   'name': 'Docs',\n",
      "                   'start_time': '2024-05-28T11:29:13.307+00:00',\n",
      "                   'streamed_output': [],\n",
      "                   'streamed_output_str': [],\n",
      "                   'tags': ['map:key:context',\n",
      "                            'FAISS',\n",
      "                            'HuggingFaceEmbeddings'],\n",
      "                   'type': 'retriever'}},\n",
      " 'name': 'RunnableSequence',\n",
      " 'streamed_output': ['According', ' to', ' the', ' context'],\n",
      " 'type': 'chain'})\n",
      "----------------------------------------\n",
      "RunLog({'final_output': 'According to the context,',\n",
      " 'id': 'e220fbe5-e4aa-4238-ba35-a4520a291d4f',\n",
      " 'logs': {'Docs': {'end_time': '2024-05-28T11:29:13.320+00:00',\n",
      "                   'final_output': {'documents': [Document(page_content='Teddy lives in South Korea')]},\n",
      "                   'id': '8dee5e9c-bf69-4b23-83f7-84c491e83319',\n",
      "                   'metadata': {},\n",
      "                   'name': 'Docs',\n",
      "                   'start_time': '2024-05-28T11:29:13.307+00:00',\n",
      "                   'streamed_output': [],\n",
      "                   'streamed_output_str': [],\n",
      "                   'tags': ['map:key:context',\n",
      "                            'FAISS',\n",
      "                            'HuggingFaceEmbeddings'],\n",
      "                   'type': 'retriever'}},\n",
      " 'name': 'RunnableSequence',\n",
      " 'streamed_output': ['According', ' to', ' the', ' context', ','],\n",
      " 'type': 'chain'})\n",
      "----------------------------------------\n",
      "RunLog({'final_output': 'According to the context, Teddy',\n",
      " 'id': 'e220fbe5-e4aa-4238-ba35-a4520a291d4f',\n",
      " 'logs': {'Docs': {'end_time': '2024-05-28T11:29:13.320+00:00',\n",
      "                   'final_output': {'documents': [Document(page_content='Teddy lives in South Korea')]},\n",
      "                   'id': '8dee5e9c-bf69-4b23-83f7-84c491e83319',\n",
      "                   'metadata': {},\n",
      "                   'name': 'Docs',\n",
      "                   'start_time': '2024-05-28T11:29:13.307+00:00',\n",
      "                   'streamed_output': [],\n",
      "                   'streamed_output_str': [],\n",
      "                   'tags': ['map:key:context',\n",
      "                            'FAISS',\n",
      "                            'HuggingFaceEmbeddings'],\n",
      "                   'type': 'retriever'}},\n",
      " 'name': 'RunnableSequence',\n",
      " 'streamed_output': ['According', ' to', ' the', ' context', ',', ' Teddy'],\n",
      " 'type': 'chain'})\n",
      "----------------------------------------\n",
      "RunLog({'final_output': 'According to the context, Teddy lives',\n",
      " 'id': 'e220fbe5-e4aa-4238-ba35-a4520a291d4f',\n",
      " 'logs': {'Docs': {'end_time': '2024-05-28T11:29:13.320+00:00',\n",
      "                   'final_output': {'documents': [Document(page_content='Teddy lives in South Korea')]},\n",
      "                   'id': '8dee5e9c-bf69-4b23-83f7-84c491e83319',\n",
      "                   'metadata': {},\n",
      "                   'name': 'Docs',\n",
      "                   'start_time': '2024-05-28T11:29:13.307+00:00',\n",
      "                   'streamed_output': [],\n",
      "                   'streamed_output_str': [],\n",
      "                   'tags': ['map:key:context',\n",
      "                            'FAISS',\n",
      "                            'HuggingFaceEmbeddings'],\n",
      "                   'type': 'retriever'}},\n",
      " 'name': 'RunnableSequence',\n",
      " 'streamed_output': ['According',\n",
      "                     ' to',\n",
      "                     ' the',\n",
      "                     ' context',\n",
      "                     ',',\n",
      "                     ' Teddy',\n",
      "                     ' lives'],\n",
      " 'type': 'chain'})\n",
      "----------------------------------------\n",
      "RunLog({'final_output': 'According to the context, Teddy lives in',\n",
      " 'id': 'e220fbe5-e4aa-4238-ba35-a4520a291d4f',\n",
      " 'logs': {'Docs': {'end_time': '2024-05-28T11:29:13.320+00:00',\n",
      "                   'final_output': {'documents': [Document(page_content='Teddy lives in South Korea')]},\n",
      "                   'id': '8dee5e9c-bf69-4b23-83f7-84c491e83319',\n",
      "                   'metadata': {},\n",
      "                   'name': 'Docs',\n",
      "                   'start_time': '2024-05-28T11:29:13.307+00:00',\n",
      "                   'streamed_output': [],\n",
      "                   'streamed_output_str': [],\n",
      "                   'tags': ['map:key:context',\n",
      "                            'FAISS',\n",
      "                            'HuggingFaceEmbeddings'],\n",
      "                   'type': 'retriever'}},\n",
      " 'name': 'RunnableSequence',\n",
      " 'streamed_output': ['According',\n",
      "                     ' to',\n",
      "                     ' the',\n",
      "                     ' context',\n",
      "                     ',',\n",
      "                     ' Teddy',\n",
      "                     ' lives',\n",
      "                     ' in'],\n",
      " 'type': 'chain'})\n",
      "----------------------------------------\n",
      "RunLog({'final_output': 'According to the context, Teddy lives in South',\n",
      " 'id': 'e220fbe5-e4aa-4238-ba35-a4520a291d4f',\n",
      " 'logs': {'Docs': {'end_time': '2024-05-28T11:29:13.320+00:00',\n",
      "                   'final_output': {'documents': [Document(page_content='Teddy lives in South Korea')]},\n",
      "                   'id': '8dee5e9c-bf69-4b23-83f7-84c491e83319',\n",
      "                   'metadata': {},\n",
      "                   'name': 'Docs',\n",
      "                   'start_time': '2024-05-28T11:29:13.307+00:00',\n",
      "                   'streamed_output': [],\n",
      "                   'streamed_output_str': [],\n",
      "                   'tags': ['map:key:context',\n",
      "                            'FAISS',\n",
      "                            'HuggingFaceEmbeddings'],\n",
      "                   'type': 'retriever'}},\n",
      " 'name': 'RunnableSequence',\n",
      " 'streamed_output': ['According',\n",
      "                     ' to',\n",
      "                     ' the',\n",
      "                     ' context',\n",
      "                     ',',\n",
      "                     ' Teddy',\n",
      "                     ' lives',\n",
      "                     ' in',\n",
      "                     ' South'],\n",
      " 'type': 'chain'})\n",
      "----------------------------------------\n",
      "RunLog({'final_output': 'According to the context, Teddy lives in South Korea',\n",
      " 'id': 'e220fbe5-e4aa-4238-ba35-a4520a291d4f',\n",
      " 'logs': {'Docs': {'end_time': '2024-05-28T11:29:13.320+00:00',\n",
      "                   'final_output': {'documents': [Document(page_content='Teddy lives in South Korea')]},\n",
      "                   'id': '8dee5e9c-bf69-4b23-83f7-84c491e83319',\n",
      "                   'metadata': {},\n",
      "                   'name': 'Docs',\n",
      "                   'start_time': '2024-05-28T11:29:13.307+00:00',\n",
      "                   'streamed_output': [],\n",
      "                   'streamed_output_str': [],\n",
      "                   'tags': ['map:key:context',\n",
      "                            'FAISS',\n",
      "                            'HuggingFaceEmbeddings'],\n",
      "                   'type': 'retriever'}},\n",
      " 'name': 'RunnableSequence',\n",
      " 'streamed_output': ['According',\n",
      "                     ' to',\n",
      "                     ' the',\n",
      "                     ' context',\n",
      "                     ',',\n",
      "                     ' Teddy',\n",
      "                     ' lives',\n",
      "                     ' in',\n",
      "                     ' South',\n",
      "                     ' Korea'],\n",
      " 'type': 'chain'})\n",
      "----------------------------------------\n",
      "RunLog({'final_output': 'According to the context, Teddy lives in South Korea.',\n",
      " 'id': 'e220fbe5-e4aa-4238-ba35-a4520a291d4f',\n",
      " 'logs': {'Docs': {'end_time': '2024-05-28T11:29:13.320+00:00',\n",
      "                   'final_output': {'documents': [Document(page_content='Teddy lives in South Korea')]},\n",
      "                   'id': '8dee5e9c-bf69-4b23-83f7-84c491e83319',\n",
      "                   'metadata': {},\n",
      "                   'name': 'Docs',\n",
      "                   'start_time': '2024-05-28T11:29:13.307+00:00',\n",
      "                   'streamed_output': [],\n",
      "                   'streamed_output_str': [],\n",
      "                   'tags': ['map:key:context',\n",
      "                            'FAISS',\n",
      "                            'HuggingFaceEmbeddings'],\n",
      "                   'type': 'retriever'}},\n",
      " 'name': 'RunnableSequence',\n",
      " 'streamed_output': ['According',\n",
      "                     ' to',\n",
      "                     ' the',\n",
      "                     ' context',\n",
      "                     ',',\n",
      "                     ' Teddy',\n",
      "                     ' lives',\n",
      "                     ' in',\n",
      "                     ' South',\n",
      "                     ' Korea',\n",
      "                     '.'],\n",
      " 'type': 'chain'})\n",
      "----------------------------------------\n",
      "RunLog({'final_output': 'According to the context, Teddy lives in South '\n",
      "                 'Korea.<|eot_id|>',\n",
      " 'id': 'e220fbe5-e4aa-4238-ba35-a4520a291d4f',\n",
      " 'logs': {'Docs': {'end_time': '2024-05-28T11:29:13.320+00:00',\n",
      "                   'final_output': {'documents': [Document(page_content='Teddy lives in South Korea')]},\n",
      "                   'id': '8dee5e9c-bf69-4b23-83f7-84c491e83319',\n",
      "                   'metadata': {},\n",
      "                   'name': 'Docs',\n",
      "                   'start_time': '2024-05-28T11:29:13.307+00:00',\n",
      "                   'streamed_output': [],\n",
      "                   'streamed_output_str': [],\n",
      "                   'tags': ['map:key:context',\n",
      "                            'FAISS',\n",
      "                            'HuggingFaceEmbeddings'],\n",
      "                   'type': 'retriever'}},\n",
      " 'name': 'RunnableSequence',\n",
      " 'streamed_output': ['According',\n",
      "                     ' to',\n",
      "                     ' the',\n",
      "                     ' context',\n",
      "                     ',',\n",
      "                     ' Teddy',\n",
      "                     ' lives',\n",
      "                     ' in',\n",
      "                     ' South',\n",
      "                     ' Korea',\n",
      "                     '.',\n",
      "                     '<|eot_id|>'],\n",
      " 'type': 'chain'})\n"
     ]
    }
   ],
   "source": [
    "from langchain_community.embeddings import HuggingFaceEmbeddings\n",
    "from langchain.vectorstores import FAISS\n",
    "from langchain_core.output_parsers import StrOutputParser\n",
    "from langchain_core.runnables import RunnablePassthrough\n",
    "\n",
    "template = \"\"\"Answer the question based only on the following context:\n",
    "{context}\n",
    "\n",
    "Question: {question}\n",
    "\"\"\"\n",
    "prompt = ChatPromptTemplate.from_template(template)\n",
    "\n",
    "vectorstore = FAISS.from_texts(\n",
    "    [\"Teddy lives in South Korea\"], embedding=HuggingFaceEmbeddings()\n",
    ")\n",
    "retriever = vectorstore.as_retriever()\n",
    "\n",
    "retrieval_chain = (\n",
    "    {\n",
    "        \"context\": retriever.with_config(run_name=\"Docs\"),\n",
    "        \"question\": RunnablePassthrough(),\n",
    "    }\n",
    "    | prompt\n",
    "    | model\n",
    "    | StrOutputParser()\n",
    ")\n",
    "\n",
    "async for chunk in retrieval_chain.astream_log(\n",
    "    \"Where does Teddy is living?\", include_names=[\"Docs\"], diff=False,\n",
    "):\n",
    "    print(\"-\" * 40)\n",
    "    print(chunk)"
   ]
  },
  {
   "cell_type": "markdown",
   "metadata": {},
   "source": [
    "# Parallel\n",
    "- LCEL에서 여러 chain과 같은 작업을 병렬로 실행시킬 수 있는데, 바로 `RunnableParallel` 클래스이다."
   ]
  },
  {
   "cell_type": "code",
   "execution_count": 27,
   "metadata": {},
   "outputs": [
    {
     "data": {
      "text/plain": [
       "{'capital': AIMessage(content='The capital city of South Korea is Seoul ().', id='run-ed7f6388-219b-438d-8e26-ea29a8134bb3-0'),\n",
       " 'area': AIMessage(content='The area of South Korea is approximately 100,363 square kilometers (38,750 square miles).', id='run-65b740f9-0580-4527-a866-4204b17ba6d4-0')}"
      ]
     },
     "execution_count": 27,
     "metadata": {},
     "output_type": "execute_result"
    }
   ],
   "source": [
    "from langchain_core.runnables import RunnableParallel\n",
    "chain1 = ChatPromptTemplate.from_template(\"What is capital city of {country}?\") | model\n",
    "chain2 = ChatPromptTemplate.from_template(\"What is the area of ​​{country}?\") | model\n",
    "combined = RunnableParallel(capital=chain1, area=chain2)\n",
    "combined.invoke({\"country\": \"South Korea\"})"
   ]
  },
  {
   "cell_type": "code",
   "execution_count": 28,
   "metadata": {},
   "outputs": [
    {
     "data": {
      "text/plain": [
       "[{'capital': AIMessage(content='The capital city of South Korea is Seoul ().', id='run-7cf475bb-6e65-43a8-9e29-8c36df8295f7-0'),\n",
       "  'area': AIMessage(content='The area of South Korea is approximately 100,363 square kilometers (38,750 square miles).', id='run-fc4ae244-12dd-4ba0-af52-0caa54685f9f-0')},\n",
       " {'capital': AIMessage(content='The capital city of the United States of America is Washington, D.C. (short for District of Columbia).', id='run-e460d9f0-d1ba-4675-89c0-4d699664bb7a-0'),\n",
       "  'area': AIMessage(content='The total area of the United States of America is approximately 3,805,927 square miles (9,857,306 square kilometers). This includes:\\n\\n* Land area: 3,717,813 square miles (9,629,091 square kilometers)\\n* Water area: 88,114 square miles (228,215 square kilometers)\\n\\nTo break it down further, the USA is divided into 50 states, and each state has its own unique area. The largest state is Alaska, with an area of approximately 663,300 square miles (1,717,856 square kilometers), while the smallest state is Rhode Island, with an area of approximately 1,214 square miles (3,144 square kilometers).', id='run-0b813427-1ac0-4a62-ad03-6de7e79a36a5-0')}]"
      ]
     },
     "execution_count": 28,
     "metadata": {},
     "output_type": "execute_result"
    }
   ],
   "source": [
    "# batch를 병렬적으로 처리할 수도 있다.\n",
    "combined.batch([{\"country\": \"South Korea\"}, {\"country\": \"USA\"}])"
   ]
  },
  {
   "cell_type": "code",
   "execution_count": null,
   "metadata": {},
   "outputs": [],
   "source": []
  }
 ],
 "metadata": {
  "kernelspec": {
   "display_name": "llm-study",
   "language": "python",
   "name": "python3"
  },
  "language_info": {
   "codemirror_mode": {
    "name": "ipython",
    "version": 3
   },
   "file_extension": ".py",
   "mimetype": "text/x-python",
   "name": "python",
   "nbconvert_exporter": "python",
   "pygments_lexer": "ipython3",
   "version": "3.11.9"
  }
 },
 "nbformat": 4,
 "nbformat_minor": 2
}
