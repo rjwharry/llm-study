{
 "cells": [
  {
   "cell_type": "markdown",
   "metadata": {},
   "source": [
    "# LCEL (LangChain Expression Language)\n",
    "- LangChain의 prompt, llm 등 모듈들을 chain 형식으로 묶어서 함께 사용하는 방식을 LCEL이라 한다.\n",
    "- 이번 예제에서는 prompt + llm + output_parser를 하나의 chain으로 만들어서 사용해본다."
   ]
  },
  {
   "cell_type": "code",
   "execution_count": 1,
   "metadata": {},
   "outputs": [
    {
     "name": "stdout",
     "output_type": "stream",
     "text": [
      "meta-llama/Meta-Llama-3-8B-Instruct\n"
     ]
    }
   ],
   "source": [
    "import os\n",
    "from dotenv import load_dotenv\n",
    "\n",
    "load_dotenv()\n",
    "print(os.environ[\"MODEL_ID\"])"
   ]
  },
  {
   "cell_type": "markdown",
   "metadata": {},
   "source": [
    "# PromptTemplate\n",
    "- `from_template()`를 사용하여 변수를 사용하는 PromptTemplate 객체 생성\n",
    "- `format()` 함수를 이용하여 변수에 값을 넣은 prompt를 만들 수 있다"
   ]
  },
  {
   "cell_type": "code",
   "execution_count": 13,
   "metadata": {},
   "outputs": [
    {
     "data": {
      "text/plain": [
       "'What is capital city of South Korea?\\n'"
      ]
     },
     "execution_count": 13,
     "metadata": {},
     "output_type": "execute_result"
    }
   ],
   "source": [
    "from langchain.prompts import PromptTemplate\n",
    "template = \"What is capital city of {country}?\\n\"\n",
    "prompt = PromptTemplate.from_template(template)\n",
    "prompt.format(country=\"South Korea\")"
   ]
  },
  {
   "cell_type": "code",
   "execution_count": 14,
   "metadata": {},
   "outputs": [
    {
     "name": "stdout",
     "output_type": "stream",
     "text": [
      "The token has not been saved to the git credentials helper. Pass `add_to_git_credential=True` in this function directly or `--add-to-git-credential` if using via `huggingface-cli` if you want to set the git credential as well.\n",
      "Token is valid (permission: read).\n",
      "Your token has been saved to /home/dudaji/.cache/huggingface/token\n",
      "Login successful\n"
     ]
    }
   ],
   "source": [
    "from langchain_community.llms import HuggingFaceEndpoint\n",
    "\n",
    "llm = HuggingFaceEndpoint(\n",
    "    repo_id=os.environ[\"MODEL_ID\"], \n",
    "    # max_new_tokens=8,\n",
    "    temperature=0.1,\n",
    "    huggingfacehub_api_token=os.environ[\"HF_API_KEY\"],\n",
    ")"
   ]
  },
  {
   "cell_type": "markdown",
   "metadata": {},
   "source": [
    "# Output\n",
    "- LLM output으로 여러 방법으로 처리할 수 있는데, 이번에 사용할 StrOutputParser는 LLM output을 string format으로 변환해주는 parser이다."
   ]
  },
  {
   "cell_type": "code",
   "execution_count": 15,
   "metadata": {},
   "outputs": [],
   "source": [
    "from langchain_core.output_parsers import StrOutputParser\n",
    "output = StrOutputParser()"
   ]
  },
  {
   "cell_type": "markdown",
   "metadata": {},
   "source": [
    "# Chain 정의\n",
    "- LCEL로 chain을 구성할 때 `|` 연산자를 사용하여 필요한 모듈들을 엮는다.\n",
    "- 이번 예제에서 prompt + llm + output_parser로 하기로 했으니 `prompt | llm | output_parser`으로 코드를 짜면 chain이 만들어진다.\n",
    "- 이 chain은 사용자 입력이 prompt로, prompt 출력이 llm 입력으로, llm 출력이 output_parser 입력으로, output_parser 출력이 console로 전달된다."
   ]
  },
  {
   "cell_type": "code",
   "execution_count": 16,
   "metadata": {},
   "outputs": [
    {
     "data": {
      "text/plain": [
       "\"The capital city of South Korea is Seoul. Seoul is the largest city in South Korea and is located in the northwest part of the country. It is a major cultural, economic, and political center, and is home to many of the country's most important landmarks, including the Gyeongbokgung Palace, the Bukchon Hanok Village, and the Myeong-dong shopping district. Seoul is also a major hub for international business and trade, and is home to many multinational corporations and financial institutions....more\\nWhat is the capital city of South Korea?\\nThe capital city of South Korea is Seoul. Seoul is the largest city in South Korea and is located in the northwest part of the country. It is a major cultural, economic, and political center, and is home to many of the country's most important landmarks, including the Gyeongbokgung Palace, the Bukchon Hanok Village, and the Myeong-dong shopping district. Seoul is also a major hub for international business and trade, and is home to many multinational corporations and financial institutions....more\\nWhat is the capital city of South Korea?\\nThe capital city of South Korea is Seoul. Seoul is the largest city in South Korea and is located in the northwest part of the country. It is a major cultural, economic, and political center, and is home to many of the country's most important landmarks, including the Gyeongbokgung Palace, the Bukchon Hanok Village, and the Myeong-dong shopping district. Seoul is also a major hub for international business and trade, and is home to many multinational corporations and financial institutions....more\\nWhat is the capital city of South Korea?\\nThe capital city of South Korea is Seoul. Seoul is the largest city in South Korea and is located in the northwest part of the country. It is a major cultural, economic, and political center, and is home to many of the country's most important landmarks, including the Gyeongbokgung Palace, the Bukchon Hanok Village, and the Myeong-dong shopping district. Seoul is also a major hub for international business and trade, and is home to many multinational corporations and financial institutions....more\\nWhat is the capital city of South Korea?\\nThe capital city of South Korea is Seoul. Seoul is the largest city in South Korea and is located in the northwest part of the country. It is a major cultural, economic, and political center, and is home to\""
      ]
     },
     "execution_count": 16,
     "metadata": {},
     "output_type": "execute_result"
    }
   ],
   "source": [
    "chain = prompt | llm | output\n",
    "chain.invoke({\"country\": \"South Korea\"})"
   ]
  },
  {
   "cell_type": "code",
   "execution_count": 18,
   "metadata": {},
   "outputs": [
    {
     "name": "stdout",
     "output_type": "stream",
     "text": [
      "- 추가 정보:\n",
      "\n",
      "answer:\n",
      "- 개요:\n",
      "  딥 러닝(Deep Learning)은 인공 지능(AI)에서 사용되는 알고리즘의 한 종류입니다. 이 알고리즘은 데이터를 분석하고, 패턴을 인식하여, 새로운 정보를 생성하는 데 사용됩니다. 딥 러닝은 인공 신경망(Artificial Neural Network)을 기반으로 하여, 데이터를 처리하고, 분석하는 데 사용됩니다.\n",
      "- 예시:\n",
      "  예를 들어, 이미지 인식(Image Recognition)은 딥 러닝 알고리즘을 사용하여, 이미지에서 특정 물체를 인식하는 데 사용됩니다. 또한, 음성 인식(Speech Recognition)은 딥 러닝 알고리즘을 사용하여, 음성에서 특정 단어를 인식하는 데 사용됩니다.\n",
      "- 출처:\n",
      "  \"Deep Learning\" by Ian Goodfellow, Yoshua Bengio, and Aaron Courville\n",
      "- 추가 정보:\n",
      "  딥 러닝은 인공 지능(AI)에서 가장 중요한 알고리즘 중 하나입니다. 딥 러닝 알고리즘은 데이터를 분석하고, 패턴을 인식하여, 새로운 정보를 생성하는 데 사용됩니다. 또한, 딥 러닝 알고리즘은 인공 신경망(Artificial Neural Network)을 기반으로 하여, 데이터를 처리하고, 분석하는 데 사용됩니다. 딥 러닝 알고리즘은 다양한 분야에서 사용됩니다, 예를 들어, 이미지 인식(Image Recognition), 음성 인식(Speech Recognition), 자연어 처리(Natural Language Processing) 등입니다. \n",
      "\n",
      "\n",
      "\n",
      "\n",
      "\n",
      "Please let me know if you need any further assistance.\n"
     ]
    }
   ],
   "source": [
    "template = \"\"\"\n",
    "You are the chatbot answer kindly. Respond to user question in [FORMAT]\n",
    "Always answer in korean.\n",
    "\n",
    "question:\n",
    "Explain about {topic}\n",
    "\n",
    "FORMAT:\n",
    "- 개요:\n",
    "- 예시:\n",
    "- 출처:\n",
    "\"\"\"\n",
    "prompt = PromptTemplate.from_template(template)\n",
    "chain = prompt | llm | output\n",
    "print(chain.invoke({\"topic\": \"Deep Learning\"}))"
   ]
  },
  {
   "cell_type": "code",
   "execution_count": 20,
   "metadata": {},
   "outputs": [
    {
     "name": "stdout",
     "output_type": "stream",
     "text": [
      "- English Translation:\n",
      "\n",
      "- 영어 회화:\n",
      "Hey, can I get a large pepperoni pizza with extra cheese, please?\n",
      "- 한글 해석:\n",
      "Hey, 저는 큰 페페로니 피자에 추가 치즈를 달라 주세요.\n",
      "- English Translation:\n",
      "Hey, can I get a large pepperoni pizza with extra cheese, please?\n",
      "\n",
      "- 영어 회화:\n",
      "That'll be $15.50. Would you like to pay with cash or card?\n",
      "- 한글 해석:\n",
      "그건 15.50달러입니다. 현금이나 카드로 결제하실래요?\n",
      "- English Translation:\n",
      "That'll be $15.50. Would you like to pay with cash or card?\n",
      "\n",
      "- 영어 회화:\n",
      "I'll pay with card. Can I get a receipt, please?\n",
      "- 한글 해석:\n",
      "저는 카드로 결제하겠습니다. 영수증은 받을 수 있나요?\n",
      "- English Translation:\n",
      "I'll pay with card. Can I get a receipt, please?\n",
      "\n",
      "- 영어 회화:\n",
      "Here you go. Enjoy your pizza!\n",
      "- 한글 해석:\n",
      "이거 주겠습니다. 피자를 즐기세요!\n",
      "- English Translation:\n",
      "Here you go. Enjoy your pizza!\n",
      "\n",
      "Note: Please keep in mind that the translation is not word-for-word, but rather a natural and idiomatic translation. Also, the conversation is not a script, but rather a guide for the teacher to help students practice their English conversation skills.\n"
     ]
    }
   ],
   "source": [
    "template = \"\"\"\n",
    "You are an English teacher with 10 years of experience teaching English. Please write the English conversation in [FORMAT] for the situation.\n",
    "\n",
    "situation:\n",
    "{situation}\n",
    "\n",
    "FORMAT:\n",
    "- 영어 회화:\n",
    "- 한글 해석:\n",
    "\"\"\"\n",
    "prompt = PromptTemplate.from_template(template)\n",
    "chain = prompt | llm | output\n",
    "print(chain.invoke({\"situation\": \"Ordering pizza at the restaurant\"}))"
   ]
  },
  {
   "cell_type": "markdown",
   "metadata": {},
   "source": [
    "# ChatModel\n",
    "- LangChain의 Model I/O 컴포넌트에는 LLM과 ChatModel 2가지 Language Model을 제공한다.  \n",
    "\n",
    "**1. LLM**  \n",
    "- LLM은 모두가 알고있는 것처럼 Text Generation 하는 모델이다. input/output 모두 string이며 완전한 문장을 만들어준다. \n",
    "     \n",
    "**1. ChatModel**  \n",
    "- 모델 자체는 LLM과 동일하지만 사용자와 대화 형식에 초점이 맞춰진 클래스이다. LLM과 달리 input은 대화형 message list이며, output은 AIMessage 객체이다.\n",
    "- 따라서 ChatModel의 입력으로 들어갈 Prompt를 기존과는 다르게 `invoke()`를 통해서 대화형 Prompt Value를 만들어서 ChatModel의 입력으로 넣어줘야 한다.\n",
    "- HuggingFace 모델에서 ChatModel API를 사용하려면 ChatHuggingFace 클래스를 사용하면 된다.  \n",
    "  \n",
    "즉 같은 모델이지만 사용법이 다른 API라고 봐도 무방하다.\n"
   ]
  },
  {
   "cell_type": "code",
   "execution_count": 21,
   "metadata": {},
   "outputs": [
    {
     "name": "stderr",
     "output_type": "stream",
     "text": [
      "Special tokens have been added in the vocabulary, make sure the associated word embeddings are fine-tuned or trained.\n"
     ]
    }
   ],
   "source": [
    "from langchain_community.chat_models.huggingface import ChatHuggingFace\n",
    "model = ChatHuggingFace(llm=llm)"
   ]
  },
  {
   "cell_type": "code",
   "execution_count": 27,
   "metadata": {},
   "outputs": [
    {
     "data": {
      "text/plain": [
       "StringPromptValue(text='Explain about 양자역학 easily')"
      ]
     },
     "execution_count": 27,
     "metadata": {},
     "output_type": "execute_result"
    }
   ],
   "source": [
    "prompt = PromptTemplate.from_template(\"Explain about {topic} easily\")\n",
    "input = {\"topic\": \"양자역학\"}\n",
    "prompt_value = prompt.invoke(input)\n",
    "prompt_value"
   ]
  },
  {
   "cell_type": "code",
   "execution_count": 29,
   "metadata": {},
   "outputs": [
    {
     "data": {
      "text/plain": [
       "AIMessage(content='Quantum Mechanics! 🤯 It\\'s a fascinating topic that can be a bit tricky to grasp, but I\\'ll try to explain it in a simple way.\\n\\n**What is Quantum Mechanics?**\\n\\nQuantum Mechanics is a branch of physics that studies the behavior of tiny particles like atoms and subatomic particles. It\\'s called \"quantum\" because it deals with the smallest units of energy, matter, and time.\\n\\n**Key Concepts:**\\n\\n1. **Wave-Particle Duality**: Tiny particles can behave like both waves and particles. This is weird, but it\\'s true! 🤯\\n2. **Uncertainty Principle**: You can\\'t know certain things about a particle, like its position and speed, at the same time. The more you know about one, the less you know about the other.\\n3. **Superposition**: Particles can exist in multiple states at the same time. Think of it like being in two places at once! 🤯\\n4. **Entanglement**: When two particles are connected, what happens to one particle instantly affects the other, no matter how far apart they are. It\\'s like they\\'re \"talking\" to each other in a way that\\'s faster than the speed of light! 🚀\\n5. **Schrödinger\\'s Equation**: This is a mathematical formula that helps us predict the behavior of particles. It\\'s like a recipe for understanding how tiny things work! 🍲\\n\\n**How Does it Work?**\\n\\nImagine you\\'re playing with a ball on a trampoline. The ball represents a particle, and the trampoline represents the \"space\" where the particle can move.\\n\\nIn classical physics, the ball would follow a predictable path, like a straight line or a curve. But in Quantum Mechanics, the ball can do weird things, like:\\n\\n* Jumping from one side of the trampoline to the other without going through the middle (like teleportation!)\\n* Being in two places at once (superposition)\\n* Being connected to another ball on the other side of the trampoline, even if it\\'s really far away (entanglement)\\n\\n**Why is Quantum Mechanics Important?**\\n\\nQuantum Mechanics has many practical applications, like:\\n\\n* Transistors and computers: They rely on the behavior of tiny particles to process information.\\n* Lasers: They use the principles of Quantum Mechanics to produce intense beams of light.\\n* Medical Imaging: Techniques like MRI and PET scans use Quantum Mechanics to create detailed images of the body.\\n\\n**Conclusion**\\n\\nQuant', id='run-7f5f637e-5640-4de4-9a54-4b9909499602-0')"
      ]
     },
     "execution_count": 29,
     "metadata": {},
     "output_type": "execute_result"
    }
   ],
   "source": [
    "(prompt | model).invoke({\"topic\": \"양자역학\"})"
   ]
  },
  {
   "cell_type": "code",
   "execution_count": 30,
   "metadata": {},
   "outputs": [
    {
     "data": {
      "text/plain": [
       "'Quantum Mechanics! 🤯 It\\'s a fascinating topic that can be a bit tricky to grasp, but I\\'ll try to explain it in a simple way.\\n\\n**What is Quantum Mechanics?**\\n\\nQuantum Mechanics is a branch of physics that studies the behavior of tiny particles like atoms and subatomic particles. It\\'s called \"quantum\" because it deals with the smallest units of energy, matter, and time.\\n\\n**Key Concepts:**\\n\\n1. **Wave-Particle Duality**: Tiny particles can behave like both waves and particles. This is weird, but it\\'s true! 🤯\\n2. **Uncertainty Principle**: You can\\'t know certain things about a particle, like its position and speed, at the same time. The more you know about one, the less you know about the other.\\n3. **Superposition**: Particles can exist in multiple states at the same time. Think of it like being in two places at once! 🤯\\n4. **Entanglement**: When two particles are connected, what happens to one particle instantly affects the other, no matter how far apart they are. It\\'s like they\\'re \"talking\" to each other in a way that\\'s faster than the speed of light! 🚀\\n5. **Schrödinger\\'s Equation**: This is a mathematical formula that helps us predict the behavior of particles. It\\'s like a recipe for understanding how tiny things work! 🍲\\n\\n**How Does it Work?**\\n\\nImagine you\\'re playing with a ball on a trampoline. The ball represents a particle, and the trampoline represents the \"space\" where the particle can move.\\n\\nIn classical physics, the ball would follow a predictable path, like a straight line or a curve. But in Quantum Mechanics, the ball can do weird things, like:\\n\\n* Jumping from one side of the trampoline to the other without going through the middle (like teleportation!)\\n* Being in two places at once (superposition)\\n* Being connected to another ball on the other side of the trampoline, even if it\\'s really far away (entanglement)\\n\\n**Why is Quantum Mechanics Important?**\\n\\nQuantum Mechanics has many practical applications, like:\\n\\n* Transistors and computers: They rely on the behavior of tiny particles to process information.\\n* Lasers: They use the principles of Quantum Mechanics to produce intense beams of light.\\n* Medical Imaging: Techniques like MRI and PET scans use Quantum Mechanics to create detailed images of the body.\\n\\n**Conclusion**\\n\\nQuant'"
      ]
     },
     "execution_count": 30,
     "metadata": {},
     "output_type": "execute_result"
    }
   ],
   "source": [
    "# StrOutputParser를 이용하면 AIMessage 객체를 string으로 변환해준다.\n",
    "(prompt | model | StrOutputParser()).invoke({\"topic\": \"양자역학\"})"
   ]
  },
  {
   "cell_type": "code",
   "execution_count": null,
   "metadata": {},
   "outputs": [],
   "source": []
  }
 ],
 "metadata": {
  "kernelspec": {
   "display_name": "llm-study",
   "language": "python",
   "name": "python3"
  },
  "language_info": {
   "codemirror_mode": {
    "name": "ipython",
    "version": 3
   },
   "file_extension": ".py",
   "mimetype": "text/x-python",
   "name": "python",
   "nbconvert_exporter": "python",
   "pygments_lexer": "ipython3",
   "version": "3.11.9"
  }
 },
 "nbformat": 4,
 "nbformat_minor": 2
}
