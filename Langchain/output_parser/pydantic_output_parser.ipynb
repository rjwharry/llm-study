{
 "cells": [
  {
   "cell_type": "markdown",
   "metadata": {},
   "source": [
    "# PydanticOutputParser\n",
    "- 모델의 출력을 구조화된 정보로 변환하는데 도움을 주는 클래스.\n",
    "- 사용자가 원하는 출력 구조를 Pydantic Class로 정의하면 모델의 출력을 그에 맞게 변환하여 제공  \n",
    "- 이러한 OutputParser 클래스들은 다음 두 가지 핵심 메서드가 구현되어야 한다.\n",
    "    - `get_format_instructions()`: 모델이 출력해야할 정보 형식에 대한 지침 제공. 사용자가 정의한 Pydantic Class 구조에 따라 지침을 자동으로 생성해준다.\n",
    "    - `parse()`: 모델의 출력을 사용자가 정의한 Pydantic Class로 변환한다. 그 과정에서 모델의 출력과 사용자의 Pydantic Class와 비교하여 출력 스키마를 검증한다."
   ]
  },
  {
   "cell_type": "code",
   "execution_count": 1,
   "metadata": {},
   "outputs": [
    {
     "name": "stdout",
     "output_type": "stream",
     "text": [
      "meta-llama/Meta-Llama-3-8B-Instruct\n"
     ]
    }
   ],
   "source": [
    "import os\n",
    "from dotenv import load_dotenv\n",
    "\n",
    "load_dotenv()\n",
    "print(os.environ[\"MODEL_ID\"])"
   ]
  },
  {
   "cell_type": "code",
   "execution_count": 11,
   "metadata": {},
   "outputs": [
    {
     "name": "stdout",
     "output_type": "stream",
     "text": [
      "The token has not been saved to the git credentials helper. Pass `add_to_git_credential=True` in this function directly or `--add-to-git-credential` if using via `huggingface-cli` if you want to set the git credential as well.\n",
      "Token is valid (permission: read).\n",
      "Your token has been saved to /home/dudaji/.cache/huggingface/token\n",
      "Login successful\n"
     ]
    },
    {
     "name": "stderr",
     "output_type": "stream",
     "text": [
      "Special tokens have been added in the vocabulary, make sure the associated word embeddings are fine-tuned or trained.\n"
     ]
    }
   ],
   "source": [
    "from langchain_community.chat_models.huggingface import ChatHuggingFace\n",
    "from langchain_community.llms import HuggingFaceEndpoint\n",
    "\n",
    "llm = HuggingFaceEndpoint(\n",
    "    repo_id=os.environ[\"MODEL_ID\"], \n",
    "    # max_new_tokens=1024,\n",
    "    temperature=0.1,\n",
    "    huggingfacehub_api_token=os.environ[\"HF_API_KEY\"],\n",
    ")\n",
    "model = ChatHuggingFace(llm=llm)"
   ]
  },
  {
   "cell_type": "code",
   "execution_count": 12,
   "metadata": {},
   "outputs": [],
   "source": [
    "email_conversation = \"\"\"From: Chulsoo Kim (chulsoo.kim@bikecorporation.me)\n",
    "To: Eunchae Lee (eunchae@teddyinternational.me)\n",
    "Subject: \"ZENESIS\" bicycle distribution cooperation and meeting schedule proposal\n",
    "\n",
    "Hello, Assistant Manager Eunchae Lee,\n",
    "\n",
    "My name is Kim Cheol-soo, and I am the managing director of Bike Corporation. I learned about your new bicycle “ZENESIS” through a recent press release. Bike Corporation is a leader in innovation and quality in bicycle manufacturing and distribution, with long-term experience and expertise in this field.\n",
    "\n",
    "I would like to request a detailed brochure for the ZENESIS model. In particular, you will need information about technical specifications, battery performance, and design aspects. Through this, we will be able to further refine the distribution strategy and marketing plan we will propose.\n",
    "\n",
    "We also propose a meeting next Tuesday (January 15th) at 10am to further discuss possibilities for cooperation. Can we meet at your office and talk?\n",
    "\n",
    "thank you\n",
    "\n",
    "Cheolsu Kim\n",
    "Executive Director\n",
    "Bike Corporation\n",
    "\"\"\""
   ]
  },
  {
   "cell_type": "code",
   "execution_count": 13,
   "metadata": {},
   "outputs": [
    {
     "data": {
      "text/plain": [
       "'The output should be formatted as a JSON instance that conforms to the JSON schema below.\\n\\nAs an example, for the schema {\"properties\": {\"foo\": {\"title\": \"Foo\", \"description\": \"a list of strings\", \"type\": \"array\", \"items\": {\"type\": \"string\"}}}, \"required\": [\"foo\"]}\\nthe object {\"foo\": [\"bar\", \"baz\"]} is a well-formatted instance of the schema. The object {\"properties\": {\"foo\": [\"bar\", \"baz\"]}} is not well-formatted.\\n\\nHere is the output schema:\\n```\\n{\"properties\": {\"person\": {\"title\": \"Person\", \"description\": \"Person who sent email\", \"type\": \"string\"}, \"email\": {\"title\": \"Email\", \"description\": \"Email address whose sent email\", \"type\": \"string\"}, \"subject\": {\"title\": \"Subject\", \"description\": \"Subject of email\", \"type\": \"string\"}, \"summary\": {\"title\": \"Summary\", \"description\": \"Summary of email content\", \"type\": \"string\"}, \"date\": {\"title\": \"Date\", \"description\": \"Day of Week, Month, Day mentioned in email content\", \"type\": \"string\"}}, \"required\": [\"person\", \"email\", \"subject\", \"summary\", \"date\"]}\\n```'"
      ]
     },
     "execution_count": 13,
     "metadata": {},
     "output_type": "execute_result"
    }
   ],
   "source": [
    "from langchain.output_parsers import PydanticOutputParser\n",
    "from langchain_core.pydantic_v1 import BaseModel, Field\n",
    "\n",
    "class EmailSummary(BaseModel):\n",
    "    person: str = Field(description=\"Person who sent email\")\n",
    "    email: str = Field(description=\"Email address whose sent email\")\n",
    "    subject: str = Field(description=\"Subject of email\")\n",
    "    summary: str = Field(description=\"Summary of email content\")\n",
    "    date: str = Field(description=\"Day of Week, Month, Day mentioned in email content\")\n",
    "\n",
    "parser = PydanticOutputParser(pydantic_object=EmailSummary)\n",
    "parser.get_format_instructions()"
   ]
  },
  {
   "cell_type": "code",
   "execution_count": 24,
   "metadata": {},
   "outputs": [],
   "source": [
    "from langchain.prompts import PromptTemplate\n",
    "prompt = PromptTemplate.from_template(\n",
    "    \"\"\"\n",
    "You are a helpful assistant. Please answer the following questions.\n",
    "\n",
    "QUESTION:\n",
    "{question}\n",
    "\n",
    "EMAIL CONVERSATION:\n",
    "{email_conversation}\n",
    "\n",
    "FORMAT:\n",
    "{format}\n",
    "\"\"\"\n",
    ")\n",
    "prompt = prompt.partial(format=parser.get_format_instructions())"
   ]
  },
  {
   "cell_type": "code",
   "execution_count": 25,
   "metadata": {},
   "outputs": [
    {
     "name": "stdout",
     "output_type": "stream",
     "text": [
      "Here is the extracted main content of the email in the required JSON format:\n",
      "\n",
      "```\n",
      "{\n",
      "  \"person\": \"Chulsoo Kim\",\n",
      "  \"email\": \"chulsoo.kim@bikecorporation.me\",\n",
      "  \"subject\": \"\\\"ZENESIS\\\" bicycle distribution cooperation and meeting schedule proposal\",\n",
      "  \"summary\": \"Request for detailed brochure of ZENESIS bicycle model and proposal for meeting to discuss cooperation\",\n",
      "  \"date\": \"Tuesday (January 15th)\"\n",
      "}\n",
      "```\n",
      "\n",
      "Let me know if you need any further assistance!\n"
     ]
    }
   ],
   "source": [
    "chain = prompt | model\n",
    "response = chain.invoke({\"email_conversation\": email_conversation, \"question\": \"Extract main content of email\"})\n",
    "print(response.content)"
   ]
  },
  {
   "cell_type": "code",
   "execution_count": 26,
   "metadata": {},
   "outputs": [
    {
     "data": {
      "text/plain": [
       "EmailSummary(person='Chulsoo Kim', email='chulsoo.kim@bikecorporation.me', subject='\"ZENESIS\" bicycle distribution cooperation and meeting schedule proposal', summary='Request for detailed brochure of ZENESIS bicycle model and proposal for meeting to discuss cooperation', date='Tuesday (January 15th)')"
      ]
     },
     "execution_count": 26,
     "metadata": {},
     "output_type": "execute_result"
    }
   ],
   "source": [
    "parser.parse(response.content)"
   ]
  },
  {
   "cell_type": "markdown",
   "metadata": {},
   "source": [
    "이전에 사용했던 `StrOutputParser` 처럼 `PydanticOutputParser`도 chain에 같이 묶어서 사용할 수 있다."
   ]
  },
  {
   "cell_type": "code",
   "execution_count": 28,
   "metadata": {},
   "outputs": [
    {
     "data": {
      "text/plain": [
       "EmailSummary(person='Chulsoo Kim', email='chulsoo.kim@bikecorporation.me', subject='\"ZENESIS\" bicycle distribution cooperation and meeting schedule proposal', summary='Request for detailed brochure of ZENESIS bicycle model and proposal for meeting to discuss cooperation', date='Tuesday (January 15th)')"
      ]
     },
     "execution_count": 28,
     "metadata": {},
     "output_type": "execute_result"
    }
   ],
   "source": [
    "chain = prompt | model | parser\n",
    "response = chain.invoke({\n",
    "    \"email_conversation\": email_conversation,\n",
    "    \"question\": \"Extract main content of email\",\n",
    "})\n",
    "response"
   ]
  }
 ],
 "metadata": {
  "kernelspec": {
   "display_name": "llm-study",
   "language": "python",
   "name": "python3"
  },
  "language_info": {
   "codemirror_mode": {
    "name": "ipython",
    "version": 3
   },
   "file_extension": ".py",
   "mimetype": "text/x-python",
   "name": "python",
   "nbconvert_exporter": "python",
   "pygments_lexer": "ipython3",
   "version": "3.11.9"
  }
 },
 "nbformat": 4,
 "nbformat_minor": 2
}
