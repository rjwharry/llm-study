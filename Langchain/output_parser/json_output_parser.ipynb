{
 "cells": [
  {
   "cell_type": "markdown",
   "metadata": {},
   "source": [
    "# JsonOutputParser\n",
    "- 사용자가 원하는 JSON 스키마대로 모델 출력에서 데이터를 추출하여 반환해준다.\n",
    "- LLM이 원하는 JSON 스키마로 출력을 생성하기 위해선, 모델 용량이 충분해야 한다.\n",
    "- JSON 스키마는 dictionary나 Pydantic을 사용해서 정의할 수 있다."
   ]
  },
  {
   "cell_type": "code",
   "execution_count": 1,
   "metadata": {},
   "outputs": [
    {
     "name": "stdout",
     "output_type": "stream",
     "text": [
      "meta-llama/Meta-Llama-3-8B-Instruct\n"
     ]
    }
   ],
   "source": [
    "import os\n",
    "from dotenv import load_dotenv\n",
    "\n",
    "load_dotenv()\n",
    "print(os.environ[\"MODEL_ID\"])"
   ]
  },
  {
   "cell_type": "code",
   "execution_count": 2,
   "metadata": {},
   "outputs": [
    {
     "name": "stderr",
     "output_type": "stream",
     "text": [
      "/home/dudaji/anaconda3/envs/llm-study/lib/python3.11/site-packages/langchain_core/_api/deprecation.py:119: LangChainDeprecationWarning: The class `HuggingFaceEndpoint` was deprecated in LangChain 0.0.37 and will be removed in 0.3. An updated version of the class exists in the from langchain-huggingface package and should be used instead. To use it run `pip install -U from langchain-huggingface` and import as `from from langchain_huggingface import llms import HuggingFaceEndpoint`.\n",
      "  warn_deprecated(\n",
      "/home/dudaji/anaconda3/envs/llm-study/lib/python3.11/site-packages/tqdm/auto.py:21: TqdmWarning: IProgress not found. Please update jupyter and ipywidgets. See https://ipywidgets.readthedocs.io/en/stable/user_install.html\n",
      "  from .autonotebook import tqdm as notebook_tqdm\n"
     ]
    },
    {
     "name": "stdout",
     "output_type": "stream",
     "text": [
      "The token has not been saved to the git credentials helper. Pass `add_to_git_credential=True` in this function directly or `--add-to-git-credential` if using via `huggingface-cli` if you want to set the git credential as well.\n",
      "Token is valid (permission: read).\n",
      "Your token has been saved to /home/dudaji/.cache/huggingface/token\n",
      "Login successful\n"
     ]
    },
    {
     "name": "stderr",
     "output_type": "stream",
     "text": [
      "/home/dudaji/anaconda3/envs/llm-study/lib/python3.11/site-packages/langchain_core/_api/deprecation.py:119: LangChainDeprecationWarning: The class `ChatHuggingFace` was deprecated in LangChain 0.0.37 and will be removed in 0.3. An updated version of the class exists in the from langchain-huggingface package and should be used instead. To use it run `pip install -U from langchain-huggingface` and import as `from from langchain_huggingface.chat_models import huggingface import ChatHuggingFace`.\n",
      "  warn_deprecated(\n",
      "Special tokens have been added in the vocabulary, make sure the associated word embeddings are fine-tuned or trained.\n"
     ]
    }
   ],
   "source": [
    "from langchain_community.chat_models.huggingface import ChatHuggingFace\n",
    "from langchain_community.llms import HuggingFaceEndpoint\n",
    "\n",
    "llm = HuggingFaceEndpoint(\n",
    "    repo_id=os.environ[\"MODEL_ID\"], \n",
    "    # max_new_tokens=1024,\n",
    "    temperature=0.1,\n",
    "    huggingfacehub_api_token=os.environ[\"HF_API_KEY\"],\n",
    ")\n",
    "model = ChatHuggingFace(llm=llm)"
   ]
  },
  {
   "cell_type": "code",
   "execution_count": 12,
   "metadata": {},
   "outputs": [],
   "source": [
    "from langchain_core.pydantic_v1 import BaseModel, Field\n",
    "\n",
    "class Topic(BaseModel):\n",
    "    description: str = Field(description=\"Concise description about topic\")\n",
    "    hashtags: str = Field(description=\"Some keywords in hashtag format\")"
   ]
  },
  {
   "cell_type": "code",
   "execution_count": 13,
   "metadata": {},
   "outputs": [],
   "source": [
    "from langchain.prompts import PromptTemplate\n",
    "from langchain_core.output_parsers import JsonOutputParser\n",
    "\n",
    "query = \"Explain about Global Warming.\"\n",
    "parser = JsonOutputParser(pydantic_object=Topic)\n",
    "prompt = PromptTemplate(\n",
    "    template=\"Answer the user query.\\n{format_instructions}\\n{query}\\n\",\n",
    "    input_variables=[\"query\"],\n",
    "    partial_variables={\"format_instructions\": parser.get_format_instructions()},\n",
    ")\n",
    "\n",
    "chain = prompt | model | parser"
   ]
  },
  {
   "cell_type": "code",
   "execution_count": 14,
   "metadata": {},
   "outputs": [
    {
     "data": {
      "text/plain": [
       "{'description': 'Global warming is the long-term rise in the average surface temperature of the Earth due to the increasing levels of greenhouse gases in the atmosphere.',\n",
       " 'hashtags': '#GlobalWarming #ClimateChange #Sustainability'}"
      ]
     },
     "execution_count": 14,
     "metadata": {},
     "output_type": "execute_result"
    }
   ],
   "source": [
    "chain.invoke({\"query\": query})"
   ]
  },
  {
   "cell_type": "markdown",
   "metadata": {},
   "source": [
    "- Pydantic 없이 스키마를 제공하지 않고 단순히 JSON 형식의 출력을 받을 수도 있다."
   ]
  },
  {
   "cell_type": "code",
   "execution_count": 8,
   "metadata": {},
   "outputs": [
    {
     "data": {
      "text/plain": [
       "{'description': \"Global warming, also known as climate change, is the gradual increase in the overall temperature of the Earth's atmosphere, primarily caused by human activities that release greenhouse gases, such as carbon dioxide and methane, into the atmosphere. These gases trap heat from the sun, leading to a rise in global temperatures. The effects of global warming include more frequent and severe heatwaves, droughts, and storms, as well as rising sea levels and melting of polar ice caps.\",\n",
       " 'hashtags': ['globalwarming',\n",
       "  'climatechange',\n",
       "  'greenhousegases',\n",
       "  'carbonfootprint',\n",
       "  'sustainability',\n",
       "  'ecology',\n",
       "  'environmentalissues']}"
      ]
     },
     "execution_count": 8,
     "metadata": {},
     "output_type": "execute_result"
    }
   ],
   "source": [
    "query = \"Explain about global warming. Write description of global warming to `description`, and related keywords to `hashtags`\"\n",
    "\n",
    "parser = JsonOutputParser()  # JSON 출력 파서 초기화\n",
    "\n",
    "prompt = PromptTemplate(\n",
    "    # 사용자 쿼리에 답변하는 템플릿\n",
    "    template=\"Answer the user query.\\n{format_instructions}\\n{query}\\n\",\n",
    "    input_variables=[\"query\"],  # 입력 변수로 'query' 사용\n",
    "    # 부분 변수로 포맷 지시사항 설정\n",
    "    partial_variables={\n",
    "        \"format_instructions\": parser.get_format_instructions()},\n",
    ")\n",
    "\n",
    "chain = prompt | model | parser  # 프롬프트, 모델, 파서를 연결하는 체인 생성\n",
    "\n",
    "chain.invoke({\"query\": query})  # 체인을 호출하여 농담 쿼리 처리"
   ]
  },
  {
   "cell_type": "markdown",
   "metadata": {},
   "source": [
    "# Streaming\n",
    "- 지금까지 json의 모든 key에 대한 값을 포함하는 partial JSON object를 반환한다.\n",
    "- 만약 `diff=True` 이면, 현재 json과 바로 이전 json object의 차이를 JSONPatch operation 형식으로 반환한다."
   ]
  },
  {
   "cell_type": "code",
   "execution_count": 15,
   "metadata": {},
   "outputs": [
    {
     "name": "stdout",
     "output_type": "stream",
     "text": [
      "{}\n",
      "{'description': ''}\n",
      "{'description': 'Global'}\n",
      "{'description': 'Global warming'}\n",
      "{'description': 'Global warming is'}\n",
      "{'description': 'Global warming is the'}\n",
      "{'description': 'Global warming is the long'}\n",
      "{'description': 'Global warming is the long-term'}\n",
      "{'description': 'Global warming is the long-term rise'}\n",
      "{'description': 'Global warming is the long-term rise in'}\n",
      "{'description': 'Global warming is the long-term rise in the'}\n",
      "{'description': 'Global warming is the long-term rise in the average'}\n",
      "{'description': 'Global warming is the long-term rise in the average surface'}\n",
      "{'description': 'Global warming is the long-term rise in the average surface temperature'}\n",
      "{'description': 'Global warming is the long-term rise in the average surface temperature of'}\n",
      "{'description': 'Global warming is the long-term rise in the average surface temperature of the'}\n",
      "{'description': 'Global warming is the long-term rise in the average surface temperature of the Earth'}\n",
      "{'description': 'Global warming is the long-term rise in the average surface temperature of the Earth due'}\n",
      "{'description': 'Global warming is the long-term rise in the average surface temperature of the Earth due to'}\n",
      "{'description': 'Global warming is the long-term rise in the average surface temperature of the Earth due to the'}\n",
      "{'description': 'Global warming is the long-term rise in the average surface temperature of the Earth due to the increasing'}\n",
      "{'description': 'Global warming is the long-term rise in the average surface temperature of the Earth due to the increasing levels'}\n",
      "{'description': 'Global warming is the long-term rise in the average surface temperature of the Earth due to the increasing levels of'}\n",
      "{'description': 'Global warming is the long-term rise in the average surface temperature of the Earth due to the increasing levels of greenhouse'}\n",
      "{'description': 'Global warming is the long-term rise in the average surface temperature of the Earth due to the increasing levels of greenhouse gases'}\n",
      "{'description': 'Global warming is the long-term rise in the average surface temperature of the Earth due to the increasing levels of greenhouse gases in'}\n",
      "{'description': 'Global warming is the long-term rise in the average surface temperature of the Earth due to the increasing levels of greenhouse gases in the'}\n",
      "{'description': 'Global warming is the long-term rise in the average surface temperature of the Earth due to the increasing levels of greenhouse gases in the atmosphere'}\n",
      "{'description': 'Global warming is the long-term rise in the average surface temperature of the Earth due to the increasing levels of greenhouse gases in the atmosphere.'}\n",
      "{'description': 'Global warming is the long-term rise in the average surface temperature of the Earth due to the increasing levels of greenhouse gases in the atmosphere.', 'hashtags': '#'}\n",
      "{'description': 'Global warming is the long-term rise in the average surface temperature of the Earth due to the increasing levels of greenhouse gases in the atmosphere.', 'hashtags': '#Global'}\n",
      "{'description': 'Global warming is the long-term rise in the average surface temperature of the Earth due to the increasing levels of greenhouse gases in the atmosphere.', 'hashtags': '#GlobalW'}\n",
      "{'description': 'Global warming is the long-term rise in the average surface temperature of the Earth due to the increasing levels of greenhouse gases in the atmosphere.', 'hashtags': '#GlobalWarming'}\n",
      "{'description': 'Global warming is the long-term rise in the average surface temperature of the Earth due to the increasing levels of greenhouse gases in the atmosphere.', 'hashtags': '#GlobalWarming #'}\n",
      "{'description': 'Global warming is the long-term rise in the average surface temperature of the Earth due to the increasing levels of greenhouse gases in the atmosphere.', 'hashtags': '#GlobalWarming #Climate'}\n",
      "{'description': 'Global warming is the long-term rise in the average surface temperature of the Earth due to the increasing levels of greenhouse gases in the atmosphere.', 'hashtags': '#GlobalWarming #ClimateChange'}\n",
      "{'description': 'Global warming is the long-term rise in the average surface temperature of the Earth due to the increasing levels of greenhouse gases in the atmosphere.', 'hashtags': '#GlobalWarming #ClimateChange #'}\n",
      "{'description': 'Global warming is the long-term rise in the average surface temperature of the Earth due to the increasing levels of greenhouse gases in the atmosphere.', 'hashtags': '#GlobalWarming #ClimateChange #S'}\n",
      "{'description': 'Global warming is the long-term rise in the average surface temperature of the Earth due to the increasing levels of greenhouse gases in the atmosphere.', 'hashtags': '#GlobalWarming #ClimateChange #Sustainability'}\n"
     ]
    }
   ],
   "source": [
    "for s in chain.stream({\"query\": query}):\n",
    "    print(s)"
   ]
  },
  {
   "cell_type": "code",
   "execution_count": 16,
   "metadata": {},
   "outputs": [
    {
     "name": "stdout",
     "output_type": "stream",
     "text": [
      "[{'op': 'replace', 'path': '', 'value': {}}]\n",
      "[{'op': 'add', 'path': '/description', 'value': ''}]\n",
      "[{'op': 'replace', 'path': '/description', 'value': 'Global'}]\n",
      "[{'op': 'replace', 'path': '/description', 'value': 'Global warming'}]\n",
      "[{'op': 'replace', 'path': '/description', 'value': 'Global warming is'}]\n",
      "[{'op': 'replace', 'path': '/description', 'value': 'Global warming is the'}]\n",
      "[{'op': 'replace', 'path': '/description', 'value': 'Global warming is the long'}]\n",
      "[{'op': 'replace', 'path': '/description', 'value': 'Global warming is the long-term'}]\n",
      "[{'op': 'replace', 'path': '/description', 'value': 'Global warming is the long-term rise'}]\n",
      "[{'op': 'replace', 'path': '/description', 'value': 'Global warming is the long-term rise in'}]\n",
      "[{'op': 'replace', 'path': '/description', 'value': 'Global warming is the long-term rise in the'}]\n",
      "[{'op': 'replace', 'path': '/description', 'value': 'Global warming is the long-term rise in the average'}]\n",
      "[{'op': 'replace', 'path': '/description', 'value': 'Global warming is the long-term rise in the average surface'}]\n",
      "[{'op': 'replace', 'path': '/description', 'value': 'Global warming is the long-term rise in the average surface temperature'}]\n",
      "[{'op': 'replace', 'path': '/description', 'value': 'Global warming is the long-term rise in the average surface temperature of'}]\n",
      "[{'op': 'replace', 'path': '/description', 'value': 'Global warming is the long-term rise in the average surface temperature of the'}]\n",
      "[{'op': 'replace', 'path': '/description', 'value': 'Global warming is the long-term rise in the average surface temperature of the Earth'}]\n",
      "[{'op': 'replace', 'path': '/description', 'value': 'Global warming is the long-term rise in the average surface temperature of the Earth due'}]\n",
      "[{'op': 'replace', 'path': '/description', 'value': 'Global warming is the long-term rise in the average surface temperature of the Earth due to'}]\n",
      "[{'op': 'replace', 'path': '/description', 'value': 'Global warming is the long-term rise in the average surface temperature of the Earth due to the'}]\n",
      "[{'op': 'replace', 'path': '/description', 'value': 'Global warming is the long-term rise in the average surface temperature of the Earth due to the increasing'}]\n",
      "[{'op': 'replace', 'path': '/description', 'value': 'Global warming is the long-term rise in the average surface temperature of the Earth due to the increasing levels'}]\n",
      "[{'op': 'replace', 'path': '/description', 'value': 'Global warming is the long-term rise in the average surface temperature of the Earth due to the increasing levels of'}]\n",
      "[{'op': 'replace', 'path': '/description', 'value': 'Global warming is the long-term rise in the average surface temperature of the Earth due to the increasing levels of greenhouse'}]\n",
      "[{'op': 'replace', 'path': '/description', 'value': 'Global warming is the long-term rise in the average surface temperature of the Earth due to the increasing levels of greenhouse gases'}]\n",
      "[{'op': 'replace', 'path': '/description', 'value': 'Global warming is the long-term rise in the average surface temperature of the Earth due to the increasing levels of greenhouse gases in'}]\n",
      "[{'op': 'replace', 'path': '/description', 'value': 'Global warming is the long-term rise in the average surface temperature of the Earth due to the increasing levels of greenhouse gases in the'}]\n",
      "[{'op': 'replace', 'path': '/description', 'value': 'Global warming is the long-term rise in the average surface temperature of the Earth due to the increasing levels of greenhouse gases in the atmosphere'}]\n",
      "[{'op': 'replace', 'path': '/description', 'value': 'Global warming is the long-term rise in the average surface temperature of the Earth due to the increasing levels of greenhouse gases in the atmosphere.'}]\n",
      "[{'op': 'add', 'path': '/hashtags', 'value': '#'}]\n",
      "[{'op': 'replace', 'path': '/hashtags', 'value': '#Global'}]\n",
      "[{'op': 'replace', 'path': '/hashtags', 'value': '#GlobalW'}]\n",
      "[{'op': 'replace', 'path': '/hashtags', 'value': '#GlobalWarming'}]\n",
      "[{'op': 'replace', 'path': '/hashtags', 'value': '#GlobalWarming #'}]\n",
      "[{'op': 'replace', 'path': '/hashtags', 'value': '#GlobalWarming #Climate'}]\n",
      "[{'op': 'replace', 'path': '/hashtags', 'value': '#GlobalWarming #ClimateChange'}]\n",
      "[{'op': 'replace', 'path': '/hashtags', 'value': '#GlobalWarming #ClimateChange #'}]\n",
      "[{'op': 'replace', 'path': '/hashtags', 'value': '#GlobalWarming #ClimateChange #S'}]\n",
      "[{'op': 'replace', 'path': '/hashtags', 'value': '#GlobalWarming #ClimateChange #Sustainability'}]\n"
     ]
    }
   ],
   "source": [
    "parser = JsonOutputParser(pydantic_object=Topic, diff=True)\n",
    "prompt = PromptTemplate(\n",
    "    template=\"Answer the user query.\\n{format_instructions}\\n{query}\\n\",\n",
    "    input_variables=[\"query\"],\n",
    "    partial_variables={\"format_instructions\": parser.get_format_instructions()},\n",
    ")\n",
    "\n",
    "chain = prompt | model | parser\n",
    "for s in chain.stream({\"query\": query}):\n",
    "    print(s)"
   ]
  },
  {
   "cell_type": "code",
   "execution_count": null,
   "metadata": {},
   "outputs": [],
   "source": []
  }
 ],
 "metadata": {
  "kernelspec": {
   "display_name": "llm-study",
   "language": "python",
   "name": "python3"
  },
  "language_info": {
   "codemirror_mode": {
    "name": "ipython",
    "version": 3
   },
   "file_extension": ".py",
   "mimetype": "text/x-python",
   "name": "python",
   "nbconvert_exporter": "python",
   "pygments_lexer": "ipython3",
   "version": "3.11.9"
  }
 },
 "nbformat": 4,
 "nbformat_minor": 2
}
